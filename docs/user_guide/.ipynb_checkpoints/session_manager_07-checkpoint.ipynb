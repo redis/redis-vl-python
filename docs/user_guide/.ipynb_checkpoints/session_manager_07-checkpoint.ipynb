{
 "cells": [
  {
   "cell_type": "markdown",
   "metadata": {},
   "source": [
    "# LLM Session Memory"
   ]
  },
  {
   "cell_type": "markdown",
   "metadata": {},
   "source": [
    "Large Language Models are inherently stateless and have no knowledge of previous interactions with a user, or even of previous parts of the current conversation. While this may not be noticable when asking simple questions, it becomes a hinderance when engaging in long running conversations that rely on conversational context.\n",
    "\n",
    "The solution to this problem is to append the previous conversation history to each subsequent call to the LLM.\n",
    "\n",
    "This notebook will show how to use Redis to structure and store and retrieve this conversational session memory."
   ]
  },
  {
   "cell_type": "code",
   "execution_count": 1,
   "metadata": {},
   "outputs": [],
   "source": [
    "from typing import Dict, List\n",
    "import cohere\n",
    "import os\n",
    "\n",
    "class CohereClient():\n",
    "    def __init__(self, api_key: str = None, model: str = 'command-r-plus'):\n",
    "        api_key = api_key or os.getenv(\"COHERE_API_KEY\")\n",
    "        self.client = cohere.Client(api_key)\n",
    "        self._model = model\n",
    "\n",
    "    def converse(self, prompt: str, context: List[Dict]) -> str:\n",
    "        context = self._remap(context)\n",
    "        response = self.client.chat(\n",
    "                model=self._model,\n",
    "                chat_history = context,\n",
    "                message=prompt,\n",
    "                )\n",
    "        return response.text\n",
    "\n",
    "\n",
    "    def _remap(self, context) -> List[Dict]:\n",
    "        ''' re-index the chat history to match the Cohere API requirements '''\n",
    "        new_context = [] \n",
    "        for statement in context:\n",
    "            if statement[\"role\"] == \"_user\":\n",
    "                new_statement = {\"role\": \"USER\", \"message\": statement[\"_content\"]}\n",
    "            elif statement[\"role\"] == \"_llm\":\n",
    "                new_statement = {\"role\": \"CHATBOT\", \"message\": statement[\"_content\"]}\n",
    "            elif statement[\"role\"] == \"_preamble\":\n",
    "                new_statement = {\"role\": \"SYSTEM\", \"message\": statement[\"_content\"]}\n",
    "            else:\n",
    "                raise ValueError(f'Unknown chat role {statement[\"role\"]}')\n",
    "            new_context.append(new_statement)\n",
    "        return new_context"
   ]
  },
  {
   "cell_type": "code",
   "execution_count": 2,
   "metadata": {},
   "outputs": [
    {
     "name": "stdout",
     "output_type": "stream",
     "text": [
      "10:00:07 redisvl.index.index INFO   Index already exists, not overwriting.\n"
     ]
    }
   ],
   "source": [
    "from redisvl.extensions.session_manager import SemanticSessionManager\n",
    "user_session = SemanticSessionManager(name='llm_chef', session_tag='123', user_tag='abc')\n",
    "user_session.set_preamble(\"You are a helpful chef, assisting people in making delicious meals\")\n",
    "\n",
    "client = CohereClient()"
   ]
  },
  {
   "cell_type": "markdown",
   "metadata": {},
   "source": [
    "On each call to the LLM we can first retrieve the recent history of the conversation. On the first call it will just be the preamble we set."
   ]
  },
  {
   "cell_type": "code",
   "execution_count": 3,
   "metadata": {},
   "outputs": [
    {
     "name": "stdout",
     "output_type": "stream",
     "text": [
      "USER:  can you give me some ideas for breakfast?\n",
      "\n",
      "LLM:  Sure! Here are a few breakfast ideas:\n",
      "\n",
      "- Avocado toast: This is a simple yet delicious breakfast option. Just toast some bread, smash an avocado on top, and add a squeeze of lemon juice and a pinch of salt and pepper. You can also add some sliced tomato or a fried egg on top.\n",
      "- Smoothie bowl: Blend together your favorite fruits and vegetables with a liquid base such as milk, yogurt, or juice to create a smooth and creamy smoothie. Pour it into a bowl and top it with sliced fruit, nuts, seeds, or granola for a hearty and nutritious breakfast.\n",
      "- Oatmeal: Oatmeal is a warm and filling breakfast option that can be prepared in a variety of ways. You can cook oats with milk or water and top them with fresh or dried fruit, nuts, seeds, cinnamon, or honey. You can also make overnight oats by mixing oats with yogurt and fruit and letting them soak in the refrigerator overnight.\n",
      "- Eggs: Eggs are a classic breakfast option and can be prepared in many different ways. You can scramble, fry, poach, or boil eggs, or make an omelet or frittata with your favorite vegetables, meats, and cheeses.\n",
      "- Pancakes or waffles: Treat yourself to a stack of fluffy pancakes or waffles for breakfast. You can top them with butter and syrup, or get creative with fruit, whipped cream, chocolate chips, or nut butter.\n",
      "\n",
      "These are just a few ideas, but the possibilities for breakfast are endless! Feel free to experiment and find what you like best. Bon appetit!\n"
     ]
    }
   ],
   "source": [
    "prompt = \"can you give me some ideas for breakfast?\"\n",
    "context = user_session.fetch_recent()\n",
    "response = client.converse(prompt=prompt, context=context)\n",
    "user_session.store(prompt, response)\n",
    "print('USER: ', prompt)\n",
    "print('\\nLLM: ', response)"
   ]
  },
  {
   "cell_type": "markdown",
   "metadata": {},
   "source": [
    "Let's continue this conversation and inspect the context we're passing to the LLM as we go."
   ]
  },
  {
   "cell_type": "code",
   "execution_count": 4,
   "metadata": {},
   "outputs": [
    {
     "name": "stdout",
     "output_type": "stream",
     "text": [
      "USER:  can you give me the recipe for those pancakes?\n",
      "\n",
      "LLM:  Sure, here's a basic recipe for fluffy pancakes:\n",
      "\n",
      "Ingredients:\n",
      "\n",
      "- 2 cups all-purpose flour\n",
      "- 2 teaspoons baking powder\n",
      "- 1/2 teaspoon salt\n",
      "- 2 cups milk\n",
      "- 2 eggs\n",
      "- 3 tablespoons butter, melted\n",
      "- 1/2 teaspoon vanilla extract (optional)\n",
      "\n",
      "Instructions:\n",
      "\n",
      "1. In a large bowl, whisk together the flour, baking powder, and salt.\n",
      "2. In a separate bowl, whisk together the milk, eggs, melted butter, and vanilla (if using).\n",
      "3. Pour the wet ingredients into the dry ingredients and stir until just combined. Be careful not to overmix the batter, as this can make the pancakes tough. It's okay if there are a few lumps in the batter.\n",
      "4. Heat a nonstick pan or griddle over medium heat and grease it with butter or cooking spray.\n",
      "5. Pour 1/4 cup of batter onto the pan for each pancake. Cook until the edges look dry and there are bubbles on the surface of the pancakes, about 2-3 minutes.\n",
      "6. Flip the pancakes and cook for an additional 1-2 minutes on the other side, until golden brown.\n",
      "7. Serve the pancakes warm with your favorite toppings, such as butter, syrup, fruit, whipped cream, or chocolate chips.\n",
      "\n",
      "This recipe should make about 12-14 pancakes, depending on their size. Enjoy!\n"
     ]
    }
   ],
   "source": [
    "prompt = \"can you give me the recipe for those pancakes?\"\n",
    "context = user_session.fetch_recent()\n",
    "response = client.converse(prompt=prompt, context=context)\n",
    "user_session.store(prompt, response)\n",
    "print('USER: ', prompt)\n",
    "print('\\nLLM: ', response)"
   ]
  },
  {
   "cell_type": "code",
   "execution_count": 5,
   "metadata": {},
   "outputs": [
    {
     "name": "stdout",
     "output_type": "stream",
     "text": [
      "{'role': '_preamble', '_content': 'You are a helpful chef, assisting people in making delicious meals'}\n",
      "{'role': '_user', '_content': 'can you give me some ideas for breakfast?'}\n",
      "{'role': '_llm', '_content': 'Sure! Here are a few breakfast ideas:\\n\\n- Avocado toast: This is a simple yet delicious breakfast option. Just toast some bread, smash an avocado on top, and add a squeeze of lemon juice and a pinch of salt and pepper. You can also add some sliced tomato or a fried egg on top.\\n- Smoothie bowl: Blend together your favorite fruits and vegetables with a liquid base such as milk, yogurt, or juice to create a smooth and creamy smoothie. Pour it into a bowl and top it with sliced fruit, nuts, seeds, or granola for a hearty and nutritious breakfast.\\n- Oatmeal: Oatmeal is a warm and filling breakfast option that can be prepared in a variety of ways. You can cook oats with milk or water and top them with fresh or dried fruit, nuts, seeds, cinnamon, or honey. You can also make overnight oats by mixing oats with yogurt and fruit and letting them soak in the refrigerator overnight.\\n- Eggs: Eggs are a classic breakfast option and can be prepared in many different ways. You can scramble, fry, poach, or boil eggs, or make an omelet or frittata with your favorite vegetables, meats, and cheeses.\\n- Pancakes or waffles: Treat yourself to a stack of fluffy pancakes or waffles for breakfast. You can top them with butter and syrup, or get creative with fruit, whipped cream, chocolate chips, or nut butter.\\n\\nThese are just a few ideas, but the possibilities for breakfast are endless! Feel free to experiment and find what you like best. Bon appetit!'}\n"
     ]
    }
   ],
   "source": [
    "for ctx in context:\n",
    "    print(ctx)"
   ]
  },
  {
   "cell_type": "code",
   "execution_count": 6,
   "metadata": {},
   "outputs": [
    {
     "name": "stdout",
     "output_type": "stream",
     "text": [
      "USER:  I am vegetarian. Can you remove the eggs?\n",
      "\n",
      "LLM:  Absolutely! Here's an egg-free version of the fluffy pancakes recipe:\n",
      "\n",
      "Ingredients:\n",
      "\n",
      "- 2 cups all-purpose flour\n",
      "- 2 teaspoons baking powder\n",
      "- 1/2 teaspoon salt\n",
      "- 2 cups milk (dairy or non-dairy alternative)\n",
      "- 1/4 cup vegetable oil or melted butter\n",
      "- 1/2 teaspoon vanilla extract (optional)\n",
      "\n",
      "Instructions:\n",
      "\n",
      "1. In a large bowl, whisk together the flour, baking powder, and salt.\n",
      "2. In a separate bowl, whisk together the milk, vegetable oil or melted butter, and vanilla (if using).\n",
      "3. Pour the wet ingredients into the dry ingredients and stir until just combined. Again, be careful not to overmix the batter. A few lumps are okay.\n",
      "4. Heat a nonstick pan or griddle over medium heat and grease it with butter or cooking spray.\n",
      "5. Pour about 1/4 cup of batter onto the pan for each pancake. Cook until the edges look dry and there are bubbles on the surface, about 2-3 minutes.\n",
      "6. Flip the pancakes carefully and cook for an additional 1-2 minutes on the other side until golden brown.\n",
      "7. Serve the pancakes warm with your choice of toppings such as butter, syrup, fresh fruit, or whipped cream.\n",
      "\n",
      "By eliminating the eggs and adjusting the liquid and fat content, you can still achieve fluffy and delicious pancakes that align with a vegetarian diet. Enjoy your breakfast!\n"
     ]
    }
   ],
   "source": [
    "prompt = \"I am vegetarian. Can you remove the eggs?\"\n",
    "context = user_session.fetch_recent()\n",
    "response = client.converse(prompt=prompt, context=context)\n",
    "user_session.store(prompt, response)\n",
    "print('USER: ', prompt)\n",
    "print('\\nLLM: ', response)"
   ]
  },
  {
   "cell_type": "code",
   "execution_count": 7,
   "metadata": {},
   "outputs": [
    {
     "name": "stdout",
     "output_type": "stream",
     "text": [
      "{'role': '_preamble', '_content': 'You are a helpful chef, assisting people in making delicious meals'}\n",
      "{'role': '_user', '_content': 'can you give me some ideas for breakfast?'}\n",
      "{'role': '_llm', '_content': 'Sure! Here are a few breakfast ideas:\\n\\n- Avocado toast: This is a simple yet delicious breakfast option. Just toast some bread, smash an avocado on top, and add a squeeze of lemon juice and a pinch of salt and pepper. You can also add some sliced tomato or a fried egg on top.\\n- Smoothie bowl: Blend together your favorite fruits and vegetables with a liquid base such as milk, yogurt, or juice to create a smooth and creamy smoothie. Pour it into a bowl and top it with sliced fruit, nuts, seeds, or granola for a hearty and nutritious breakfast.\\n- Oatmeal: Oatmeal is a warm and filling breakfast option that can be prepared in a variety of ways. You can cook oats with milk or water and top them with fresh or dried fruit, nuts, seeds, cinnamon, or honey. You can also make overnight oats by mixing oats with yogurt and fruit and letting them soak in the refrigerator overnight.\\n- Eggs: Eggs are a classic breakfast option and can be prepared in many different ways. You can scramble, fry, poach, or boil eggs, or make an omelet or frittata with your favorite vegetables, meats, and cheeses.\\n- Pancakes or waffles: Treat yourself to a stack of fluffy pancakes or waffles for breakfast. You can top them with butter and syrup, or get creative with fruit, whipped cream, chocolate chips, or nut butter.\\n\\nThese are just a few ideas, but the possibilities for breakfast are endless! Feel free to experiment and find what you like best. Bon appetit!'}\n",
      "{'role': '_user', '_content': 'can you give me the recipe for those pancakes?'}\n",
      "{'role': '_llm', '_content': \"Sure, here's a basic recipe for fluffy pancakes:\\n\\nIngredients:\\n\\n- 2 cups all-purpose flour\\n- 2 teaspoons baking powder\\n- 1/2 teaspoon salt\\n- 2 cups milk\\n- 2 eggs\\n- 3 tablespoons butter, melted\\n- 1/2 teaspoon vanilla extract (optional)\\n\\nInstructions:\\n\\n1. In a large bowl, whisk together the flour, baking powder, and salt.\\n2. In a separate bowl, whisk together the milk, eggs, melted butter, and vanilla (if using).\\n3. Pour the wet ingredients into the dry ingredients and stir until just combined. Be careful not to overmix the batter, as this can make the pancakes tough. It's okay if there are a few lumps in the batter.\\n4. Heat a nonstick pan or griddle over medium heat and grease it with butter or cooking spray.\\n5. Pour 1/4 cup of batter onto the pan for each pancake. Cook until the edges look dry and there are bubbles on the surface of the pancakes, about 2-3 minutes.\\n6. Flip the pancakes and cook for an additional 1-2 minutes on the other side, until golden brown.\\n7. Serve the pancakes warm with your favorite toppings, such as butter, syrup, fruit, whipped cream, or chocolate chips.\\n\\nThis recipe should make about 12-14 pancakes, depending on their size. Enjoy!\"}\n"
     ]
    }
   ],
   "source": [
    "for ctx in context:\n",
    "    print(ctx)"
   ]
  },
  {
   "cell_type": "code",
   "execution_count": 8,
   "metadata": {},
   "outputs": [
    {
     "name": "stdout",
     "output_type": "stream",
     "text": [
      "USER:  I am also vegan. Can you replace the butter too?\n",
      "\n",
      "LLM:  Sure, to make the recipe completely vegan, you can replace the butter with a vegan alternative. Here's the updated recipe:\n",
      "\n",
      "Ingredients:\n",
      "\n",
      "- 2 cups all-purpose flour\n",
      "- 2 teaspoons baking powder\n",
      "- 1/2 teaspoon salt\n",
      "- 2 cups plant-based milk (such as soy, almond, or oat milk)\n",
      "- 1/4 cup vegetable oil or melted vegan butter\n",
      "- 1/2 teaspoon vanilla extract (optional)\n",
      "\n",
      "Instructions:\n",
      "\n",
      "1. In a large bowl, whisk together the flour, baking powder, and salt.\n",
      "2. In a separate bowl, whisk together the plant-based milk, vegetable oil or melted vegan butter, and vanilla (if using).\n",
      "3. Pour the wet ingredients into the dry ingredients and gently mix until just combined. It's important not to overmix the batter to ensure fluffy pancakes.\n",
      "4. Heat a nonstick pan or griddle over medium heat. You can grease it with a little bit of vegan butter or a neutral-flavored oil.\n",
      "5. Pour about 1/4 cup of batter onto the pan for each pancake. Cook until you see bubbles forming on the surface and the edges start to look dry, which should take around 2-3 minutes.\n",
      "6. Flip the pancakes carefully and cook for an additional 1-2 minutes on the second side until golden brown.\n",
      "7. Serve the pancakes warm with your choice of vegan toppings such as maple syrup, fresh fruit, or a dollop of coconut whipped cream.\n",
      "\n",
      "With these adjustments, you'll have delicious, fluffy, and completely vegan pancakes to enjoy for breakfast or any time of the day!\n"
     ]
    }
   ],
   "source": [
    "prompt = \"I am also vegan. Can you replace the butter too?\"\n",
    "context = user_session.fetch_recent()\n",
    "response = client.converse(prompt=prompt, context=context)\n",
    "user_session.store(prompt, response)\n",
    "print('USER: ', prompt)\n",
    "print('\\nLLM: ', response)"
   ]
  },
  {
   "cell_type": "code",
   "execution_count": 9,
   "metadata": {},
   "outputs": [
    {
     "name": "stdout",
     "output_type": "stream",
     "text": [
      "{'role': '_preamble', '_content': 'You are a helpful chef, assisting people in making delicious meals'}\n",
      "{'role': '_user', '_content': 'can you give me some ideas for breakfast?'}\n",
      "{'role': '_llm', '_content': 'Sure! Here are a few breakfast ideas:\\n\\n- Avocado toast: This is a simple yet delicious breakfast option. Just toast some bread, smash an avocado on top, and add a squeeze of lemon juice and a pinch of salt and pepper. You can also add some sliced tomato or a fried egg on top.\\n- Smoothie bowl: Blend together your favorite fruits and vegetables with a liquid base such as milk, yogurt, or juice to create a smooth and creamy smoothie. Pour it into a bowl and top it with sliced fruit, nuts, seeds, or granola for a hearty and nutritious breakfast.\\n- Oatmeal: Oatmeal is a warm and filling breakfast option that can be prepared in a variety of ways. You can cook oats with milk or water and top them with fresh or dried fruit, nuts, seeds, cinnamon, or honey. You can also make overnight oats by mixing oats with yogurt and fruit and letting them soak in the refrigerator overnight.\\n- Eggs: Eggs are a classic breakfast option and can be prepared in many different ways. You can scramble, fry, poach, or boil eggs, or make an omelet or frittata with your favorite vegetables, meats, and cheeses.\\n- Pancakes or waffles: Treat yourself to a stack of fluffy pancakes or waffles for breakfast. You can top them with butter and syrup, or get creative with fruit, whipped cream, chocolate chips, or nut butter.\\n\\nThese are just a few ideas, but the possibilities for breakfast are endless! Feel free to experiment and find what you like best. Bon appetit!'}\n",
      "{'role': '_user', '_content': 'can you give me the recipe for those pancakes?'}\n",
      "{'role': '_llm', '_content': \"Sure, here's a basic recipe for fluffy pancakes:\\n\\nIngredients:\\n\\n- 2 cups all-purpose flour\\n- 2 teaspoons baking powder\\n- 1/2 teaspoon salt\\n- 2 cups milk\\n- 2 eggs\\n- 3 tablespoons butter, melted\\n- 1/2 teaspoon vanilla extract (optional)\\n\\nInstructions:\\n\\n1. In a large bowl, whisk together the flour, baking powder, and salt.\\n2. In a separate bowl, whisk together the milk, eggs, melted butter, and vanilla (if using).\\n3. Pour the wet ingredients into the dry ingredients and stir until just combined. Be careful not to overmix the batter, as this can make the pancakes tough. It's okay if there are a few lumps in the batter.\\n4. Heat a nonstick pan or griddle over medium heat and grease it with butter or cooking spray.\\n5. Pour 1/4 cup of batter onto the pan for each pancake. Cook until the edges look dry and there are bubbles on the surface of the pancakes, about 2-3 minutes.\\n6. Flip the pancakes and cook for an additional 1-2 minutes on the other side, until golden brown.\\n7. Serve the pancakes warm with your favorite toppings, such as butter, syrup, fruit, whipped cream, or chocolate chips.\\n\\nThis recipe should make about 12-14 pancakes, depending on their size. Enjoy!\"}\n",
      "{'role': '_user', '_content': 'I am vegetarian. Can you remove the eggs?'}\n",
      "{'role': '_llm', '_content': \"Absolutely! Here's an egg-free version of the fluffy pancakes recipe:\\n\\nIngredients:\\n\\n- 2 cups all-purpose flour\\n- 2 teaspoons baking powder\\n- 1/2 teaspoon salt\\n- 2 cups milk (dairy or non-dairy alternative)\\n- 1/4 cup vegetable oil or melted butter\\n- 1/2 teaspoon vanilla extract (optional)\\n\\nInstructions:\\n\\n1. In a large bowl, whisk together the flour, baking powder, and salt.\\n2. In a separate bowl, whisk together the milk, vegetable oil or melted butter, and vanilla (if using).\\n3. Pour the wet ingredients into the dry ingredients and stir until just combined. Again, be careful not to overmix the batter. A few lumps are okay.\\n4. Heat a nonstick pan or griddle over medium heat and grease it with butter or cooking spray.\\n5. Pour about 1/4 cup of batter onto the pan for each pancake. Cook until the edges look dry and there are bubbles on the surface, about 2-3 minutes.\\n6. Flip the pancakes carefully and cook for an additional 1-2 minutes on the other side until golden brown.\\n7. Serve the pancakes warm with your choice of toppings such as butter, syrup, fresh fruit, or whipped cream.\\n\\nBy eliminating the eggs and adjusting the liquid and fat content, you can still achieve fluffy and delicious pancakes that align with a vegetarian diet. Enjoy your breakfast!\"}\n"
     ]
    }
   ],
   "source": [
    "for ctx in context:\n",
    "    print(ctx)"
   ]
  },
  {
   "cell_type": "markdown",
   "metadata": {},
   "source": [
    "This works, but our context keeps growing, increasing our LLM token count, which increases latency and cost.\n",
    "Conversation histories can be truncated, but that can break quickly."
   ]
  },
  {
   "cell_type": "code",
   "execution_count": 10,
   "metadata": {},
   "outputs": [
    {
     "name": "stdout",
     "output_type": "stream",
     "text": [
      "USER:  I changed my mind. Can you give me the first recipe from your list?\n",
      "\n",
      "LLM:  Sure, here's the first recipe for fluffy pancakes that I provided:\n",
      "\n",
      "Ingredients:\n",
      "\n",
      "- 2 cups all-purpose flour\n",
      "- 2 teaspoons baking powder\n",
      "- 1/2 teaspoon salt\n",
      "- 2 cups milk\n",
      "- 2 eggs\n",
      "- 3 tablespoons butter, melted\n",
      "- 1/2 teaspoon vanilla extract (optional)\n",
      "\n",
      "Instructions:\n",
      "\n",
      "1. In a large bowl, whisk together the flour, baking powder, and salt.\n",
      "2. In a separate bowl, whisk together the milk, eggs, melted butter, and vanilla (if using).\n",
      "3. Pour the wet ingredients into the dry ingredients and stir until just combined. Be careful not to overmix the batter, as it should still have some lumps.\n",
      "4. Heat a nonstick pan or griddle over medium heat and grease it with butter or cooking spray.\n",
      "5. Pour about 1/4 cup of batter onto the pan for each pancake. Cook until the edges look dry and there are bubbles on the surface, which should take about 2-3 minutes.\n",
      "6. Flip the pancakes and continue cooking for an additional 1-2 minutes on the other side until they are golden brown.\n",
      "7. Serve the pancakes warm with your favorite toppings such as butter, syrup, fresh fruit, or whipped cream.\n",
      "\n",
      "This classic recipe will give you delicious, fluffy pancakes that are perfect for a cozy breakfast or brunch. Enjoy!\n"
     ]
    }
   ],
   "source": [
    "prompt = \"I changed my mind. Can you give me the first recipe from your list?\"\n",
    "context = user_session.fetch_recent(top_k=3)\n",
    "response = client.converse(prompt=prompt, context=context)\n",
    "user_session.store(prompt, response)\n",
    "print('USER: ', prompt)\n",
    "print('\\nLLM: ', response)"
   ]
  },
  {
   "cell_type": "code",
   "execution_count": 11,
   "metadata": {},
   "outputs": [
    {
     "name": "stdout",
     "output_type": "stream",
     "text": [
      "{'role': '_preamble', '_content': 'You are a helpful chef, assisting people in making delicious meals'}\n",
      "{'role': '_user', '_content': 'can you give me the recipe for those pancakes?'}\n",
      "{'role': '_llm', '_content': \"Sure, here's a basic recipe for fluffy pancakes:\\n\\nIngredients:\\n\\n- 2 cups all-purpose flour\\n- 2 teaspoons baking powder\\n- 1/2 teaspoon salt\\n- 2 cups milk\\n- 2 eggs\\n- 3 tablespoons butter, melted\\n- 1/2 teaspoon vanilla extract (optional)\\n\\nInstructions:\\n\\n1. In a large bowl, whisk together the flour, baking powder, and salt.\\n2. In a separate bowl, whisk together the milk, eggs, melted butter, and vanilla (if using).\\n3. Pour the wet ingredients into the dry ingredients and stir until just combined. Be careful not to overmix the batter, as this can make the pancakes tough. It's okay if there are a few lumps in the batter.\\n4. Heat a nonstick pan or griddle over medium heat and grease it with butter or cooking spray.\\n5. Pour 1/4 cup of batter onto the pan for each pancake. Cook until the edges look dry and there are bubbles on the surface of the pancakes, about 2-3 minutes.\\n6. Flip the pancakes and cook for an additional 1-2 minutes on the other side, until golden brown.\\n7. Serve the pancakes warm with your favorite toppings, such as butter, syrup, fruit, whipped cream, or chocolate chips.\\n\\nThis recipe should make about 12-14 pancakes, depending on their size. Enjoy!\"}\n",
      "{'role': '_user', '_content': 'I am vegetarian. Can you remove the eggs?'}\n",
      "{'role': '_llm', '_content': \"Absolutely! Here's an egg-free version of the fluffy pancakes recipe:\\n\\nIngredients:\\n\\n- 2 cups all-purpose flour\\n- 2 teaspoons baking powder\\n- 1/2 teaspoon salt\\n- 2 cups milk (dairy or non-dairy alternative)\\n- 1/4 cup vegetable oil or melted butter\\n- 1/2 teaspoon vanilla extract (optional)\\n\\nInstructions:\\n\\n1. In a large bowl, whisk together the flour, baking powder, and salt.\\n2. In a separate bowl, whisk together the milk, vegetable oil or melted butter, and vanilla (if using).\\n3. Pour the wet ingredients into the dry ingredients and stir until just combined. Again, be careful not to overmix the batter. A few lumps are okay.\\n4. Heat a nonstick pan or griddle over medium heat and grease it with butter or cooking spray.\\n5. Pour about 1/4 cup of batter onto the pan for each pancake. Cook until the edges look dry and there are bubbles on the surface, about 2-3 minutes.\\n6. Flip the pancakes carefully and cook for an additional 1-2 minutes on the other side until golden brown.\\n7. Serve the pancakes warm with your choice of toppings such as butter, syrup, fresh fruit, or whipped cream.\\n\\nBy eliminating the eggs and adjusting the liquid and fat content, you can still achieve fluffy and delicious pancakes that align with a vegetarian diet. Enjoy your breakfast!\"}\n",
      "{'role': '_user', '_content': 'I am also vegan. Can you replace the butter too?'}\n",
      "{'role': '_llm', '_content': \"Sure, to make the recipe completely vegan, you can replace the butter with a vegan alternative. Here's the updated recipe:\\n\\nIngredients:\\n\\n- 2 cups all-purpose flour\\n- 2 teaspoons baking powder\\n- 1/2 teaspoon salt\\n- 2 cups plant-based milk (such as soy, almond, or oat milk)\\n- 1/4 cup vegetable oil or melted vegan butter\\n- 1/2 teaspoon vanilla extract (optional)\\n\\nInstructions:\\n\\n1. In a large bowl, whisk together the flour, baking powder, and salt.\\n2. In a separate bowl, whisk together the plant-based milk, vegetable oil or melted vegan butter, and vanilla (if using).\\n3. Pour the wet ingredients into the dry ingredients and gently mix until just combined. It's important not to overmix the batter to ensure fluffy pancakes.\\n4. Heat a nonstick pan or griddle over medium heat. You can grease it with a little bit of vegan butter or a neutral-flavored oil.\\n5. Pour about 1/4 cup of batter onto the pan for each pancake. Cook until you see bubbles forming on the surface and the edges start to look dry, which should take around 2-3 minutes.\\n6. Flip the pancakes carefully and cook for an additional 1-2 minutes on the second side until golden brown.\\n7. Serve the pancakes warm with your choice of vegan toppings such as maple syrup, fresh fruit, or a dollop of coconut whipped cream.\\n\\nWith these adjustments, you'll have delicious, fluffy, and completely vegan pancakes to enjoy for breakfast or any time of the day!\"}\n"
     ]
    }
   ],
   "source": [
    "for ctx in context:\n",
    "    print(ctx)"
   ]
  },
  {
   "cell_type": "markdown",
   "metadata": {},
   "source": [
    "The LLM has forgotten about the avocado toast it mentioned because that was too far back in it's conversation history!"
   ]
  },
  {
   "cell_type": "markdown",
   "metadata": {},
   "source": [
    "## Semantic session memory"
   ]
  },
  {
   "cell_type": "markdown",
   "metadata": {},
   "source": [
    "Rather than naively pass the most recent conversation we can use RedisVL to find only the semantically relevant sections of our conversation based on our new prompt. We can do this with the `fetch_relevant()` method."
   ]
  },
  {
   "cell_type": "code",
   "execution_count": 12,
   "metadata": {},
   "outputs": [
    {
     "name": "stdout",
     "output_type": "stream",
     "text": [
      "USER:  Can you give me the avocado one?\n",
      "\n",
      "LLM:  Sure! Here's a simple recipe for avocado toast:\n",
      "\n",
      "Ingredients:\n",
      "- 1 avocado\n",
      "- 1 slice of bread (any type you prefer)\n",
      "- Lemon juice (optional)\n",
      "- Salt and pepper to taste\n",
      "- Sliced tomato or a fried egg (optional)\n",
      "\n",
      "Instructions:\n",
      "1. Toast your bread to your desired level of doneness.\n",
      "2. While the bread is toasting, slice the avocado in half and remove the pit. Scoop out the avocado flesh into a small bowl.\n",
      "3. Using a fork, smash the avocado until it reaches your desired level of chunkiness. You can leave it fairly smooth or keep it more textured.\n",
      "4. Add a squeeze of lemon juice (if using) to the avocado and season with salt and pepper to taste. Mix gently to combine.\n",
      "5. Spread the avocado mixture onto the toasted bread.\n",
      "6. If desired, top with sliced tomato or a fried egg.\n",
      "7. Enjoy your delicious and nutritious avocado toast!\n",
      "\n",
      "Feel free to get creative and add your own twist to this basic recipe. You can try adding different seasonings or toppings, such as red pepper flakes, everything bagel seasoning, crumbled bacon, or feta cheese. Enjoy your avocado toast!\n"
     ]
    }
   ],
   "source": [
    "prompt = \"Can you give me the avocado one?\"\n",
    "user_session.set_distance_threshold(0.75)\n",
    "context = user_session.fetch_relevant(prompt=prompt)\n",
    "response = client.converse(prompt=prompt, context=context)\n",
    "user_session.store(prompt, response)\n",
    "print('USER: ', prompt)\n",
    "print('\\nLLM: ', response)"
   ]
  },
  {
   "cell_type": "code",
   "execution_count": 13,
   "metadata": {},
   "outputs": [
    {
     "name": "stdout",
     "output_type": "stream",
     "text": [
      "{'role': '_preamble', '_content': 'You are a helpful chef, assisting people in making delicious meals'}\n",
      "{'role': '_user', '_content': 'can you give me some ideas for breakfast?'}\n",
      "{'role': '_llm', '_content': 'Sure! Here are a few breakfast ideas:\\n\\n- Avocado toast: This is a simple yet delicious breakfast option. Just toast some bread, smash an avocado on top, and add a squeeze of lemon juice and a pinch of salt and pepper. You can also add some sliced tomato or a fried egg on top.\\n- Smoothie bowl: Blend together your favorite fruits and vegetables with a liquid base such as milk, yogurt, or juice to create a smooth and creamy smoothie. Pour it into a bowl and top it with sliced fruit, nuts, seeds, or granola for a hearty and nutritious breakfast.\\n- Oatmeal: Oatmeal is a warm and filling breakfast option that can be prepared in a variety of ways. You can cook oats with milk or water and top them with fresh or dried fruit, nuts, seeds, cinnamon, or honey. You can also make overnight oats by mixing oats with yogurt and fruit and letting them soak in the refrigerator overnight.\\n- Eggs: Eggs are a classic breakfast option and can be prepared in many different ways. You can scramble, fry, poach, or boil eggs, or make an omelet or frittata with your favorite vegetables, meats, and cheeses.\\n- Pancakes or waffles: Treat yourself to a stack of fluffy pancakes or waffles for breakfast. You can top them with butter and syrup, or get creative with fruit, whipped cream, chocolate chips, or nut butter.\\n\\nThese are just a few ideas, but the possibilities for breakfast are endless! Feel free to experiment and find what you like best. Bon appetit!'}\n"
     ]
    }
   ],
   "source": [
    "for ctx in context:\n",
    "    print(ctx)"
   ]
  },
  {
   "cell_type": "markdown",
   "metadata": {},
   "source": [
    "Looking at the context we see that only the conversation section that had to do with avocados was retrieved. We don't need to know about pancakes to make avocado toast."
   ]
  },
  {
   "cell_type": "code",
   "execution_count": 14,
   "metadata": {},
   "outputs": [],
   "source": [
    "user_session.clear()"
   ]
  }
 ],
 "metadata": {
  "kernelspec": {
   "display_name": "Python 3",
   "language": "python",
   "name": "python3"
  },
  "language_info": {
   "codemirror_mode": {
    "name": "ipython",
    "version": 3
   },
   "file_extension": ".py",
   "mimetype": "text/x-python",
   "name": "python",
   "nbconvert_exporter": "python",
   "pygments_lexer": "ipython3",
   "version": "3.12.2"
  }
 },
 "nbformat": 4,
 "nbformat_minor": 2
}
