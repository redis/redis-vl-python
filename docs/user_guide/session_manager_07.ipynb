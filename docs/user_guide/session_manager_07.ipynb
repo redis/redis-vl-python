{
 "cells": [
  {
   "cell_type": "markdown",
   "metadata": {},
   "source": [
    "# LLM Session Memory"
   ]
  },
  {
   "cell_type": "markdown",
   "metadata": {},
   "source": [
    "Large Language Models are inherently stateless and have no knowledge of previous interactions with a user, or even of previous parts of the current conversation. While this may not be noticable when asking simple questions, it becomes a hinderance when engaging in long running conversations that rely on conversational context.\n",
    "\n",
    "The solution to this problem is to append the previous conversation history to each subsequent call to the LLM.\n",
    "\n",
    "This notebook will show how to use Redis to structure and store and retrieve this conversational session memory."
   ]
  },
  {
   "cell_type": "code",
   "execution_count": 1,
   "metadata": {},
   "outputs": [],
   "source": [
    "from typing import Dict, List\n",
    "import cohere\n",
    "import os\n",
    "\n",
    "class CohereClient():\n",
    "    def __init__(self, api_key: str = None, model: str = 'command-r-plus'):\n",
    "        api_key = api_key or os.getenv(\"COHERE_API_KEY\")\n",
    "        self.client = cohere.Client(api_key)\n",
    "        self._model = model\n",
    "\n",
    "    def converse(self, prompt: str, context: List[Dict]) -> str:\n",
    "        context = self.remap(context)\n",
    "        response = self.client.chat(\n",
    "                model=self._model,\n",
    "                chat_history = context,\n",
    "                message=prompt,\n",
    "                )\n",
    "        return response.text\n",
    "\n",
    "    def remap(self, context) -> List[Dict]:\n",
    "        ''' re-index the chat history to match the Cohere API requirements '''\n",
    "        new_context = []\n",
    "        for statement in context:\n",
    "            if statement[\"role\"] == \"user\":\n",
    "                new_statement = {\"role\": \"USER\", \"message\": statement[\"content\"]}\n",
    "            elif statement[\"role\"] == \"llm\":\n",
    "                new_statement = {\"role\": \"CHATBOT\", \"message\": statement[\"content\"]}\n",
    "            elif statement[\"role\"] == \"system\":\n",
    "                new_statement = {\"role\": \"SYSTEM\", \"message\": statement[\"content\"]}\n",
    "            else:\n",
    "                raise ValueError(f'Unknown chat role {statement[\"role\"]}')\n",
    "            new_context.append(new_statement)\n",
    "        return new_context"
   ]
  },
  {
   "cell_type": "code",
   "execution_count": 2,
   "metadata": {},
   "outputs": [
    {
     "name": "stdout",
     "output_type": "stream",
     "text": [
      "15:47:49 redisvl.index.index INFO   Index already exists, not overwriting.\n"
     ]
    }
   ],
   "source": [
    "from redisvl.extensions.session_manager import SemanticSessionManager\n",
    "user_session = SemanticSessionManager(name='llm_chef')\n",
    "user_session.add_message({\"role\":\"system\", \"content\":\"You are a helpful chef, assisting people in making delicious meals\"})\n",
    "\n",
    "client = CohereClient()"
   ]
  },
  {
   "cell_type": "markdown",
   "metadata": {},
   "source": [
    "On each call to the LLM we can first retrieve the recent history of the conversation. On the first call it will just be the preamble we set."
   ]
  },
  {
   "cell_type": "code",
   "execution_count": 3,
   "metadata": {},
   "outputs": [
    {
     "name": "stdout",
     "output_type": "stream",
     "text": [
      "USER:  can you give me some ideas for breakfast?\n",
      "\n",
      "LLM:  Certainly! Here are some delicious breakfast ideas to start your day off right:\n",
      "\n",
      "**1. Avocado Toast:**\n",
      "   - Spread mashed avocado on a slice of toasted bread. Top it with a sprinkle of salt and pepper, a squeeze of lemon or lime juice, and a drizzle of extra virgin olive oil. You can also add sliced tomatoes, chopped onions, or a fried egg on top.\n",
      "\n",
      "**2. Smoothie Bowl:**\n",
      "   - Blend your favorite fruits (such as bananas, strawberries, blueberries, and mango) with a liquid base (like milk, yogurt, or juice) to create a thick and creamy smoothie. Pour it into a bowl and top it with granola, nuts, seeds, shredded coconut, or fresh fruit slices.\n",
      "\n",
      "**3. Pancakes or Waffles:**\n",
      "   - Whip up a batch of fluffy pancakes or waffles and serve them with a variety of toppings. Some options include fresh fruit, maple syrup, butter, whipped cream, chocolate chips, or a dusting of powdered sugar.\n",
      "\n",
      "**4. Breakfast Burrito:**\n",
      "   - Fill a flour tortilla with scrambled eggs, sautéed vegetables (such as bell peppers, onions, and mushrooms), shredded cheese, and your choice of breakfast meat (bacon, sausage, or ham). Roll it up and enjoy it as a handheld breakfast.\n",
      "\n",
      "**5. Overnight Oats:**\n",
      "   - Combine rolled oats, milk, yogurt, and your choice of mix-ins (such as chia seeds, flaxseeds, nuts, dried fruit, or fresh fruit) in a jar or container. Stir well, cover, and refrigerate overnight. In the morning, you'll have a delicious, creamy, and nutritious breakfast ready to go.\n",
      "\n",
      "**6. Eggs Benedict:**\n",
      "   - Poach an egg and place it on top of a toasted English muffin halved. Add a slice of Canadian bacon or ham and top it with a generous drizzle of hollandaise sauce. This classic breakfast dish is indulgent and satisfying.\n",
      "\n",
      "**7. Yogurt Parfait:**\n",
      "   - Layer yogurt, granola, and fresh fruit in a glass or bowl to create a beautiful and tasty parfait. Drizzle with honey and top with a sprinkle of chopped nuts or seeds for some crunch.\n",
      "\n",
      "**8. Breakfast Sandwich:**\n",
      "   - Toast two slices of bread and fill them with scrambled or fried eggs, cheese, and your choice of breakfast meat. You can also add vegetables like spinach, tomatoes, or avocado slices.\n",
      "\n",
      "**9. Fruit and Nut Butter:**\n",
      "   - Spread your favorite nut butter (such as peanut butter, almond butter, or cashew butter) on a slice of toast or a bagel. Top it with sliced bananas, apples, or berries for a nutritious and filling breakfast.\n",
      "\n",
      "**10. Quiche:**\n",
      "   - Bake a quiche filled with eggs, milk or cream, cheese, and your choice of vegetables and/or meat. It's a delicious and elegant breakfast option that can be served warm or at room temperature.\n",
      "\n",
      "These breakfast ideas offer a variety of flavors, textures, and nutritional profiles to suit different tastes and preferences. Feel free to experiment, get creative, and customize these dishes to your liking!\n"
     ]
    }
   ],
   "source": [
    "prompt = \"can you give me some ideas for breakfast?\"\n",
    "context = user_session.get_recent()\n",
    "response = client.converse(prompt=prompt, context=context)\n",
    "user_session.store(prompt, response)\n",
    "print('USER: ', prompt)\n",
    "print('\\nLLM: ', response)"
   ]
  },
  {
   "cell_type": "markdown",
   "metadata": {},
   "source": [
    "Let's continue this conversation and inspect the context we're passing to the LLM as we go."
   ]
  },
  {
   "cell_type": "code",
   "execution_count": 4,
   "metadata": {},
   "outputs": [
    {
     "name": "stdout",
     "output_type": "stream",
     "text": [
      "USER:  can you give me the recipe for those pancakes?\n",
      "\n",
      "LLM:  Of course! Here is a classic recipe for fluffy and delicious pancakes:\n",
      "\n",
      "**Ingredients:**\n",
      "\n",
      "- 2 cups (250 grams) all-purpose flour\n",
      "- 2 teaspoons baking powder\n",
      "- 1 teaspoon salt\n",
      "- 2 tablespoons sugar\n",
      "- 2 cups milk\n",
      "- 2 eggs\n",
      "- 3 tablespoons melted butter, plus more for the pan\n",
      "- 1 teaspoon vanilla extract (optional)\n",
      "\n",
      "**Instructions:**\n",
      "\n",
      "1. Whisk together the dry ingredients: In a large mixing bowl, combine the flour, baking powder, salt, and sugar. Whisk until well blended.\n",
      "\n",
      "2. Combine the wet ingredients: In a separate mixing bowl, whisk together the milk, eggs, melted butter, and vanilla extract (if using). Make sure the melted butter has cooled down a bit so it doesn't cook the eggs.\n",
      "\n",
      "3. Mix dry and wet ingredients: Slowly pour the wet ingredients into the dry ingredients while continuously whisking until you have a smooth batter. Be careful not to overmix; a few small lumps are okay.\n",
      "\n",
      "4. Heat your griddle or pan: Place a nonstick pan or griddle over medium heat and add a small amount of butter to grease the surface. Let the butter melt and coat the cooking surface.\n",
      "\n",
      "5. Pour the batter: Once the pan is hot, pour about 1/4 cup of batter for each pancake onto the griddle or pan. Cook until the edges look dry and small bubbles appear on the surface, about 2-3 minutes.\n",
      "\n",
      "6. Flip the pancakes: Use a spatula to carefully flip the pancakes. Cook the other side for another 1-2 minutes until lightly browned.\n",
      "\n",
      "7. Repeat: Repeat this process until you've cooked all your batter, adding more butter to the pan as needed.\n",
      "\n",
      "8. Serve: Stack the pancakes on a plate and serve them with your favorite toppings. Some popular options include butter, maple syrup, fresh fruit, whipped cream, or a dusting of powdered sugar.\n",
      "\n",
      "**Variations and Tips:**\n",
      "- For extra fluffy pancakes, you can separate the eggs and gently fold in the whipped egg whites after combining the other ingredients.\n",
      "- Feel free to add mix-ins to your batter, such as chocolate chips, blueberries, or chopped nuts.\n",
      "- If you like thicker pancakes, you can add a little less milk to the batter. For thinner pancakes, add a bit more.\n",
      "- To keep pancakes warm while you cook a large batch, preheat your oven to its lowest setting and place the cooked pancakes on a baking sheet or oven-safe plate.\n",
      "\n",
      "Enjoy your homemade pancakes! They are a classic breakfast treat and can be tailored to your taste preferences.\n"
     ]
    }
   ],
   "source": [
    "prompt = \"can you give me the recipe for those pancakes?\"\n",
    "context = user_session.get_recent()\n",
    "response = client.converse(prompt=prompt, context=context)\n",
    "user_session.store(prompt, response)\n",
    "print('USER: ', prompt)\n",
    "print('\\nLLM: ', response)"
   ]
  },
  {
   "cell_type": "code",
   "execution_count": 5,
   "metadata": {},
   "outputs": [
    {
     "name": "stdout",
     "output_type": "stream",
     "text": [
      "{'role': 'user', 'content': 'I changed my mind. Can you give me the first recipe from your list?'}\n",
      "{'role': 'llm', 'content': 'Sure! Here is the recipe for \"Easy One-Pot Pasta\":\\n\\n**Ingredients:**\\n- 2 cups (500 mL) of short pasta (such as penne, macaroni, or fusilli)\\n- 1 tablespoon (15 mL) of olive oil\\n- 1 onion, diced\\n- 2 cloves of garlic, minced\\n- 1 red or green bell pepper, diced\\n- 1 can (28 ounces/796 mL) of diced tomatoes\\n- 1 teaspoon (5 mL) of dried basil\\n- 1 teaspoon (5 mL) of dried oregano\\n- Salt and pepper to taste\\n- 4 cups (1 L) of vegetable broth\\n- 1 cup (250 mL) of grated mozzarella cheese (optional)\\n\\n**Instructions:**\\n\\n1. Heat the olive oil in a large pot over medium heat. Add the onion and garlic, and cook until softened, about 3-4 minutes.\\n\\n2. Add the bell pepper and cook for another 2-3 minutes.\\n\\n3. Stir in the diced tomatoes, basil, oregano, salt, and pepper. Let the mixture simmer for 5 minutes.\\n\\n4. Pour in the vegetable broth and bring the mixture to a boil.\\n\\n5. Add the pasta to the pot and stir well. Ensure that the pasta is fully submerged in the liquid.\\n\\n6. Reduce the heat to medium-low and let the pasta simmer uncovered for about 10-12 minutes, or until the pasta is al dente and most of the liquid has been absorbed. Stir occasionally to prevent the pasta from sticking to the bottom of the pot.\\n\\n7. If desired, sprinkle the grated mozzarella cheese over the pasta and cover the pot until the cheese has melted.\\n\\n8. Serve the pasta hot and enjoy!\\n\\nThis recipe is simple, quick, and perfect for a busy weeknight meal. You can also easily customize it by adding your favorite vegetables or spices. Enjoy the delicious, hearty comfort of this one-pot pasta!'}\n",
      "{'role': 'system', 'content': 'You are a helpful chef, assisting people in making delicious meals'}\n",
      "{'role': 'user', 'content': 'can you give me some ideas for breakfast?'}\n",
      "{'role': 'llm', 'content': \"Certainly! Here are some delicious breakfast ideas to start your day off right:\\n\\n**1. Avocado Toast:**\\n   - Spread mashed avocado on a slice of toasted bread. Top it with a sprinkle of salt and pepper, a squeeze of lemon or lime juice, and a drizzle of extra virgin olive oil. You can also add sliced tomatoes, chopped onions, or a fried egg on top.\\n\\n**2. Smoothie Bowl:**\\n   - Blend your favorite fruits (such as bananas, strawberries, blueberries, and mango) with a liquid base (like milk, yogurt, or juice) to create a thick and creamy smoothie. Pour it into a bowl and top it with granola, nuts, seeds, shredded coconut, or fresh fruit slices.\\n\\n**3. Pancakes or Waffles:**\\n   - Whip up a batch of fluffy pancakes or waffles and serve them with a variety of toppings. Some options include fresh fruit, maple syrup, butter, whipped cream, chocolate chips, or a dusting of powdered sugar.\\n\\n**4. Breakfast Burrito:**\\n   - Fill a flour tortilla with scrambled eggs, sautéed vegetables (such as bell peppers, onions, and mushrooms), shredded cheese, and your choice of breakfast meat (bacon, sausage, or ham). Roll it up and enjoy it as a handheld breakfast.\\n\\n**5. Overnight Oats:**\\n   - Combine rolled oats, milk, yogurt, and your choice of mix-ins (such as chia seeds, flaxseeds, nuts, dried fruit, or fresh fruit) in a jar or container. Stir well, cover, and refrigerate overnight. In the morning, you'll have a delicious, creamy, and nutritious breakfast ready to go.\\n\\n**6. Eggs Benedict:**\\n   - Poach an egg and place it on top of a toasted English muffin halved. Add a slice of Canadian bacon or ham and top it with a generous drizzle of hollandaise sauce. This classic breakfast dish is indulgent and satisfying.\\n\\n**7. Yogurt Parfait:**\\n   - Layer yogurt, granola, and fresh fruit in a glass or bowl to create a beautiful and tasty parfait. Drizzle with honey and top with a sprinkle of chopped nuts or seeds for some crunch.\\n\\n**8. Breakfast Sandwich:**\\n   - Toast two slices of bread and fill them with scrambled or fried eggs, cheese, and your choice of breakfast meat. You can also add vegetables like spinach, tomatoes, or avocado slices.\\n\\n**9. Fruit and Nut Butter:**\\n   - Spread your favorite nut butter (such as peanut butter, almond butter, or cashew butter) on a slice of toast or a bagel. Top it with sliced bananas, apples, or berries for a nutritious and filling breakfast.\\n\\n**10. Quiche:**\\n   - Bake a quiche filled with eggs, milk or cream, cheese, and your choice of vegetables and/or meat. It's a delicious and elegant breakfast option that can be served warm or at room temperature.\\n\\nThese breakfast ideas offer a variety of flavors, textures, and nutritional profiles to suit different tastes and preferences. Feel free to experiment, get creative, and customize these dishes to your liking!\"}\n"
     ]
    }
   ],
   "source": [
    "for ctx in context:\n",
    "    print(ctx)"
   ]
  },
  {
   "cell_type": "code",
   "execution_count": 6,
   "metadata": {},
   "outputs": [
    {
     "name": "stdout",
     "output_type": "stream",
     "text": [
      "USER:  I am vegetarian. Can you remove the eggs?\n",
      "\n",
      "LLM:  Absolutely! You can make delicious vegetarian pancakes by omitting the eggs. Here's the modified recipe:\n",
      "\n",
      "**Ingredients:**\n",
      "\n",
      "- 2 cups (250 grams) all-purpose flour\n",
      "- 2 teaspoons baking powder\n",
      "- 1 teaspoon salt\n",
      "- 2 tablespoons sugar\n",
      "- 2 cups milk (dairy or plant-based alternative)\n",
      "- 3 tablespoons melted butter, plus more for the pan\n",
      "- 1 teaspoon vanilla extract (optional)\n",
      "\n",
      "**Instructions:**\n",
      "\n",
      "1. Whisk together the dry ingredients: In a large mixing bowl, combine the flour, baking powder, salt, and sugar. Whisk until well blended.\n",
      "\n",
      "2. Combine the wet ingredients: In a separate mixing bowl, whisk together the milk, melted butter, and vanilla extract (if using). Make sure the melted butter has cooled down a bit so it doesn't curdle the milk.\n",
      "\n",
      "3. Mix dry and wet ingredients: Slowly pour the wet ingredients into the dry ingredients while continuously whisking until you have a smooth batter. Again, don't overmix; a few small lumps are fine.\n",
      "\n",
      "4. Heat your griddle or pan: Place a nonstick pan or griddle over medium heat and add a small amount of butter to grease the surface.\n",
      "\n",
      "5. Pour the batter: Once the pan is hot, pour about 1/4 cup of batter for each pancake onto the griddle or pan. Cook until you see small bubbles appear on the surface and the edges look dry, which should take around 2-3 minutes.\n",
      "\n",
      "6. Flip the pancakes: Use a spatula to gently flip the pancakes. Cook the other side for an additional 1-2 minutes until lightly browned.\n",
      "\n",
      "7. Repeat: Continue this process until you've cooked all your batter, adding more butter to the pan as needed.\n",
      "\n",
      "8. Serve: Stack the pancakes on a plate and serve with your favorite toppings. Maple syrup, butter, fresh fruit, whipped cream, or a sprinkle of powdered sugar are all great choices.\n",
      "\n",
      "**Tips for Eggless Pancakes:**\n",
      "- The eggs in the original recipe act as a binding agent and provide structure to the pancakes. By omitting them, your pancakes may be a bit more delicate, but they will still taste delicious.\n",
      "- You can add a little extra milk (1-2 tablespoons) if you feel the batter is too thick. This will help compensate for the absence of eggs.\n",
      "- For extra leavening, you can increase the amount of baking powder by 1/2 teaspoon to ensure your pancakes still rise nicely.\n",
      "\n",
      "Enjoy your vegetarian pancakes! They are a tasty and versatile breakfast option that can be customized with various toppings and mix-ins.\n"
     ]
    }
   ],
   "source": [
    "prompt = \"I am vegetarian. Can you remove the eggs?\"\n",
    "context = user_session.get_recent()\n",
    "response = client.converse(prompt=prompt, context=context)\n",
    "user_session.store(prompt, response)\n",
    "print('USER: ', prompt)\n",
    "print('\\nLLM: ', response)"
   ]
  },
  {
   "cell_type": "code",
   "execution_count": 7,
   "metadata": {},
   "outputs": [
    {
     "name": "stdout",
     "output_type": "stream",
     "text": [
      "{'role': 'system', 'content': 'You are a helpful chef, assisting people in making delicious meals'}\n",
      "{'role': 'user', 'content': 'can you give me some ideas for breakfast?'}\n",
      "{'role': 'llm', 'content': \"Certainly! Here are some delicious breakfast ideas to start your day off right:\\n\\n**1. Avocado Toast:**\\n   - Spread mashed avocado on a slice of toasted bread. Top it with a sprinkle of salt and pepper, a squeeze of lemon or lime juice, and a drizzle of extra virgin olive oil. You can also add sliced tomatoes, chopped onions, or a fried egg on top.\\n\\n**2. Smoothie Bowl:**\\n   - Blend your favorite fruits (such as bananas, strawberries, blueberries, and mango) with a liquid base (like milk, yogurt, or juice) to create a thick and creamy smoothie. Pour it into a bowl and top it with granola, nuts, seeds, shredded coconut, or fresh fruit slices.\\n\\n**3. Pancakes or Waffles:**\\n   - Whip up a batch of fluffy pancakes or waffles and serve them with a variety of toppings. Some options include fresh fruit, maple syrup, butter, whipped cream, chocolate chips, or a dusting of powdered sugar.\\n\\n**4. Breakfast Burrito:**\\n   - Fill a flour tortilla with scrambled eggs, sautéed vegetables (such as bell peppers, onions, and mushrooms), shredded cheese, and your choice of breakfast meat (bacon, sausage, or ham). Roll it up and enjoy it as a handheld breakfast.\\n\\n**5. Overnight Oats:**\\n   - Combine rolled oats, milk, yogurt, and your choice of mix-ins (such as chia seeds, flaxseeds, nuts, dried fruit, or fresh fruit) in a jar or container. Stir well, cover, and refrigerate overnight. In the morning, you'll have a delicious, creamy, and nutritious breakfast ready to go.\\n\\n**6. Eggs Benedict:**\\n   - Poach an egg and place it on top of a toasted English muffin halved. Add a slice of Canadian bacon or ham and top it with a generous drizzle of hollandaise sauce. This classic breakfast dish is indulgent and satisfying.\\n\\n**7. Yogurt Parfait:**\\n   - Layer yogurt, granola, and fresh fruit in a glass or bowl to create a beautiful and tasty parfait. Drizzle with honey and top with a sprinkle of chopped nuts or seeds for some crunch.\\n\\n**8. Breakfast Sandwich:**\\n   - Toast two slices of bread and fill them with scrambled or fried eggs, cheese, and your choice of breakfast meat. You can also add vegetables like spinach, tomatoes, or avocado slices.\\n\\n**9. Fruit and Nut Butter:**\\n   - Spread your favorite nut butter (such as peanut butter, almond butter, or cashew butter) on a slice of toast or a bagel. Top it with sliced bananas, apples, or berries for a nutritious and filling breakfast.\\n\\n**10. Quiche:**\\n   - Bake a quiche filled with eggs, milk or cream, cheese, and your choice of vegetables and/or meat. It's a delicious and elegant breakfast option that can be served warm or at room temperature.\\n\\nThese breakfast ideas offer a variety of flavors, textures, and nutritional profiles to suit different tastes and preferences. Feel free to experiment, get creative, and customize these dishes to your liking!\"}\n",
      "{'role': 'user', 'content': 'can you give me the recipe for those pancakes?'}\n",
      "{'role': 'llm', 'content': \"Of course! Here is a classic recipe for fluffy and delicious pancakes:\\n\\n**Ingredients:**\\n\\n- 2 cups (250 grams) all-purpose flour\\n- 2 teaspoons baking powder\\n- 1 teaspoon salt\\n- 2 tablespoons sugar\\n- 2 cups milk\\n- 2 eggs\\n- 3 tablespoons melted butter, plus more for the pan\\n- 1 teaspoon vanilla extract (optional)\\n\\n**Instructions:**\\n\\n1. Whisk together the dry ingredients: In a large mixing bowl, combine the flour, baking powder, salt, and sugar. Whisk until well blended.\\n\\n2. Combine the wet ingredients: In a separate mixing bowl, whisk together the milk, eggs, melted butter, and vanilla extract (if using). Make sure the melted butter has cooled down a bit so it doesn't cook the eggs.\\n\\n3. Mix dry and wet ingredients: Slowly pour the wet ingredients into the dry ingredients while continuously whisking until you have a smooth batter. Be careful not to overmix; a few small lumps are okay.\\n\\n4. Heat your griddle or pan: Place a nonstick pan or griddle over medium heat and add a small amount of butter to grease the surface. Let the butter melt and coat the cooking surface.\\n\\n5. Pour the batter: Once the pan is hot, pour about 1/4 cup of batter for each pancake onto the griddle or pan. Cook until the edges look dry and small bubbles appear on the surface, about 2-3 minutes.\\n\\n6. Flip the pancakes: Use a spatula to carefully flip the pancakes. Cook the other side for another 1-2 minutes until lightly browned.\\n\\n7. Repeat: Repeat this process until you've cooked all your batter, adding more butter to the pan as needed.\\n\\n8. Serve: Stack the pancakes on a plate and serve them with your favorite toppings. Some popular options include butter, maple syrup, fresh fruit, whipped cream, or a dusting of powdered sugar.\\n\\n**Variations and Tips:**\\n- For extra fluffy pancakes, you can separate the eggs and gently fold in the whipped egg whites after combining the other ingredients.\\n- Feel free to add mix-ins to your batter, such as chocolate chips, blueberries, or chopped nuts.\\n- If you like thicker pancakes, you can add a little less milk to the batter. For thinner pancakes, add a bit more.\\n- To keep pancakes warm while you cook a large batch, preheat your oven to its lowest setting and place the cooked pancakes on a baking sheet or oven-safe plate.\\n\\nEnjoy your homemade pancakes! They are a classic breakfast treat and can be tailored to your taste preferences.\"}\n"
     ]
    }
   ],
   "source": [
    "for ctx in context:\n",
    "    print(ctx)"
   ]
  },
  {
   "cell_type": "code",
   "execution_count": 8,
   "metadata": {},
   "outputs": [
    {
     "name": "stdout",
     "output_type": "stream",
     "text": [
      "USER:  I am also vegan. Can you replace the butter too?\n",
      "\n",
      "LLM:  Certainly! For a vegan version of fluffy pancakes, you can replace both the eggs and butter with plant-based alternatives. Here's the recipe tailored for vegan dietary preferences:\n",
      "\n",
      "**Ingredients:**\n",
      "\n",
      "- 2 cups (250 grams) all-purpose flour\n",
      "- 2 teaspoons baking powder\n",
      "- 1 teaspoon salt\n",
      "- 2 tablespoons sugar\n",
      "- 2 cups plant-based milk (such as soy, almond, or oat milk)\n",
      "- 2 tablespoons neutral-flavored oil (such as canola or vegetable oil), plus more for the pan\n",
      "- 1 teaspoon vanilla extract (optional)\n",
      "\n",
      "**Instructions:**\n",
      "\n",
      "1. Whisk together the dry ingredients: In a large mixing bowl, combine the flour, baking powder, salt, and sugar. Mix well to ensure there are no lumps.\n",
      "\n",
      "2. Combine the wet ingredients: In a separate mixing bowl, whisk together the plant-based milk, oil, and vanilla extract (if using).\n",
      "\n",
      "3. Mix dry and wet ingredients: Slowly pour the wet ingredients into the dry ingredients, whisking continuously until you have a smooth batter. It's okay if there are a few small lumps.\n",
      "\n",
      "4. Heat your griddle or pan: Place a nonstick pan or griddle over medium heat. Add a small amount of oil to grease the surface, ensuring it coats the cooking area evenly.\n",
      "\n",
      "5. Pour the batter: Once the pan is hot, pour about 1/4 cup of batter for each pancake onto the griddle or pan. Cook until you notice small bubbles appearing on the surface and the edges look dry, which should take about 2-3 minutes.\n",
      "\n",
      "6. Flip the pancakes: Use a spatula to carefully flip the pancakes. Cook the other side for an additional 1-2 minutes until lightly browned.\n",
      "\n",
      "7. Repeat: Repeat this process until you've cooked all your batter, adding more oil to the pan as needed to prevent sticking.\n",
      "\n",
      "8. Serve: Stack the pancakes on a plate and serve them with your favorite vegan toppings. Some options include maple syrup, vegan butter, fresh fruit, or a dustable amount of powdered sugar.\n",
      "\n",
      "**Tips for Vegan Pancakes:**\n",
      "- The oil replaces the butter in this recipe, providing moisture and helping to create a crispy edge on the pancakes.\n",
      "- Feel free to experiment with different plant-based milk alternatives to find your preferred taste and texture. Soy milk tends to be creamier, while almond or oat milk can lend a subtle nutty flavor.\n",
      "- If you like your pancakes with a hint of sweetness, you can add a bit more sugar to the batter or top them with sweet vegan toppings like agave nectar or fruit compote.\n",
      "\n",
      "Enjoy your vegan pancakes! They are a delicious and inclusive breakfast option that can be tailored to suit your dietary needs and preferences.\n"
     ]
    }
   ],
   "source": [
    "prompt = \"I am also vegan. Can you replace the butter too?\"\n",
    "context = user_session.get_recent()\n",
    "response = client.converse(prompt=prompt, context=context)\n",
    "user_session.store(prompt, response)\n",
    "print('USER: ', prompt)\n",
    "print('\\nLLM: ', response)"
   ]
  },
  {
   "cell_type": "code",
   "execution_count": 9,
   "metadata": {},
   "outputs": [
    {
     "name": "stdout",
     "output_type": "stream",
     "text": [
      "{'role': 'llm', 'content': \"Certainly! Here are some delicious breakfast ideas to start your day off right:\\n\\n**1. Avocado Toast:**\\n   - Spread mashed avocado on a slice of toasted bread. Top it with a sprinkle of salt and pepper, a squeeze of lemon or lime juice, and a drizzle of extra virgin olive oil. You can also add sliced tomatoes, chopped onions, or a fried egg on top.\\n\\n**2. Smoothie Bowl:**\\n   - Blend your favorite fruits (such as bananas, strawberries, blueberries, and mango) with a liquid base (like milk, yogurt, or juice) to create a thick and creamy smoothie. Pour it into a bowl and top it with granola, nuts, seeds, shredded coconut, or fresh fruit slices.\\n\\n**3. Pancakes or Waffles:**\\n   - Whip up a batch of fluffy pancakes or waffles and serve them with a variety of toppings. Some options include fresh fruit, maple syrup, butter, whipped cream, chocolate chips, or a dusting of powdered sugar.\\n\\n**4. Breakfast Burrito:**\\n   - Fill a flour tortilla with scrambled eggs, sautéed vegetables (such as bell peppers, onions, and mushrooms), shredded cheese, and your choice of breakfast meat (bacon, sausage, or ham). Roll it up and enjoy it as a handheld breakfast.\\n\\n**5. Overnight Oats:**\\n   - Combine rolled oats, milk, yogurt, and your choice of mix-ins (such as chia seeds, flaxseeds, nuts, dried fruit, or fresh fruit) in a jar or container. Stir well, cover, and refrigerate overnight. In the morning, you'll have a delicious, creamy, and nutritious breakfast ready to go.\\n\\n**6. Eggs Benedict:**\\n   - Poach an egg and place it on top of a toasted English muffin halved. Add a slice of Canadian bacon or ham and top it with a generous drizzle of hollandaise sauce. This classic breakfast dish is indulgent and satisfying.\\n\\n**7. Yogurt Parfait:**\\n   - Layer yogurt, granola, and fresh fruit in a glass or bowl to create a beautiful and tasty parfait. Drizzle with honey and top with a sprinkle of chopped nuts or seeds for some crunch.\\n\\n**8. Breakfast Sandwich:**\\n   - Toast two slices of bread and fill them with scrambled or fried eggs, cheese, and your choice of breakfast meat. You can also add vegetables like spinach, tomatoes, or avocado slices.\\n\\n**9. Fruit and Nut Butter:**\\n   - Spread your favorite nut butter (such as peanut butter, almond butter, or cashew butter) on a slice of toast or a bagel. Top it with sliced bananas, apples, or berries for a nutritious and filling breakfast.\\n\\n**10. Quiche:**\\n   - Bake a quiche filled with eggs, milk or cream, cheese, and your choice of vegetables and/or meat. It's a delicious and elegant breakfast option that can be served warm or at room temperature.\\n\\nThese breakfast ideas offer a variety of flavors, textures, and nutritional profiles to suit different tastes and preferences. Feel free to experiment, get creative, and customize these dishes to your liking!\"}\n",
      "{'role': 'user', 'content': 'can you give me the recipe for those pancakes?'}\n",
      "{'role': 'llm', 'content': \"Of course! Here is a classic recipe for fluffy and delicious pancakes:\\n\\n**Ingredients:**\\n\\n- 2 cups (250 grams) all-purpose flour\\n- 2 teaspoons baking powder\\n- 1 teaspoon salt\\n- 2 tablespoons sugar\\n- 2 cups milk\\n- 2 eggs\\n- 3 tablespoons melted butter, plus more for the pan\\n- 1 teaspoon vanilla extract (optional)\\n\\n**Instructions:**\\n\\n1. Whisk together the dry ingredients: In a large mixing bowl, combine the flour, baking powder, salt, and sugar. Whisk until well blended.\\n\\n2. Combine the wet ingredients: In a separate mixing bowl, whisk together the milk, eggs, melted butter, and vanilla extract (if using). Make sure the melted butter has cooled down a bit so it doesn't cook the eggs.\\n\\n3. Mix dry and wet ingredients: Slowly pour the wet ingredients into the dry ingredients while continuously whisking until you have a smooth batter. Be careful not to overmix; a few small lumps are okay.\\n\\n4. Heat your griddle or pan: Place a nonstick pan or griddle over medium heat and add a small amount of butter to grease the surface. Let the butter melt and coat the cooking surface.\\n\\n5. Pour the batter: Once the pan is hot, pour about 1/4 cup of batter for each pancake onto the griddle or pan. Cook until the edges look dry and small bubbles appear on the surface, about 2-3 minutes.\\n\\n6. Flip the pancakes: Use a spatula to carefully flip the pancakes. Cook the other side for another 1-2 minutes until lightly browned.\\n\\n7. Repeat: Repeat this process until you've cooked all your batter, adding more butter to the pan as needed.\\n\\n8. Serve: Stack the pancakes on a plate and serve them with your favorite toppings. Some popular options include butter, maple syrup, fresh fruit, whipped cream, or a dusting of powdered sugar.\\n\\n**Variations and Tips:**\\n- For extra fluffy pancakes, you can separate the eggs and gently fold in the whipped egg whites after combining the other ingredients.\\n- Feel free to add mix-ins to your batter, such as chocolate chips, blueberries, or chopped nuts.\\n- If you like thicker pancakes, you can add a little less milk to the batter. For thinner pancakes, add a bit more.\\n- To keep pancakes warm while you cook a large batch, preheat your oven to its lowest setting and place the cooked pancakes on a baking sheet or oven-safe plate.\\n\\nEnjoy your homemade pancakes! They are a classic breakfast treat and can be tailored to your taste preferences.\"}\n",
      "{'role': 'user', 'content': 'I am vegetarian. Can you remove the eggs?'}\n",
      "{'role': 'llm', 'content': \"Absolutely! You can make delicious vegetarian pancakes by omitting the eggs. Here's the modified recipe:\\n\\n**Ingredients:**\\n\\n- 2 cups (250 grams) all-purpose flour\\n- 2 teaspoons baking powder\\n- 1 teaspoon salt\\n- 2 tablespoons sugar\\n- 2 cups milk (dairy or plant-based alternative)\\n- 3 tablespoons melted butter, plus more for the pan\\n- 1 teaspoon vanilla extract (optional)\\n\\n**Instructions:**\\n\\n1. Whisk together the dry ingredients: In a large mixing bowl, combine the flour, baking powder, salt, and sugar. Whisk until well blended.\\n\\n2. Combine the wet ingredients: In a separate mixing bowl, whisk together the milk, melted butter, and vanilla extract (if using). Make sure the melted butter has cooled down a bit so it doesn't curdle the milk.\\n\\n3. Mix dry and wet ingredients: Slowly pour the wet ingredients into the dry ingredients while continuously whisking until you have a smooth batter. Again, don't overmix; a few small lumps are fine.\\n\\n4. Heat your griddle or pan: Place a nonstick pan or griddle over medium heat and add a small amount of butter to grease the surface.\\n\\n5. Pour the batter: Once the pan is hot, pour about 1/4 cup of batter for each pancake onto the griddle or pan. Cook until you see small bubbles appear on the surface and the edges look dry, which should take around 2-3 minutes.\\n\\n6. Flip the pancakes: Use a spatula to gently flip the pancakes. Cook the other side for an additional 1-2 minutes until lightly browned.\\n\\n7. Repeat: Continue this process until you've cooked all your batter, adding more butter to the pan as needed.\\n\\n8. Serve: Stack the pancakes on a plate and serve with your favorite toppings. Maple syrup, butter, fresh fruit, whipped cream, or a sprinkle of powdered sugar are all great choices.\\n\\n**Tips for Eggless Pancakes:**\\n- The eggs in the original recipe act as a binding agent and provide structure to the pancakes. By omitting them, your pancakes may be a bit more delicate, but they will still taste delicious.\\n- You can add a little extra milk (1-2 tablespoons) if you feel the batter is too thick. This will help compensate for the absence of eggs.\\n- For extra leavening, you can increase the amount of baking powder by 1/2 teaspoon to ensure your pancakes still rise nicely.\\n\\nEnjoy your vegetarian pancakes! They are a tasty and versatile breakfast option that can be customized with various toppings and mix-ins.\"}\n"
     ]
    }
   ],
   "source": [
    "for ctx in context:\n",
    "    print(ctx)"
   ]
  },
  {
   "cell_type": "markdown",
   "metadata": {},
   "source": [
    "This works, but our context keeps growing, increasing our LLM token count, which increases latency and cost.\n",
    "Conversation histories can be truncated, but that can break quickly."
   ]
  },
  {
   "cell_type": "code",
   "execution_count": 10,
   "metadata": {},
   "outputs": [
    {
     "name": "stdout",
     "output_type": "stream",
     "text": [
      "USER:  I changed my mind. Can you give me the first recipe from your list?\n",
      "\n",
      "LLM:  Sure! Here's the recipe for classic fluffy pancakes with eggs and butter:\n",
      "\n",
      "**Ingredients:**\n",
      "\n",
      "- 2 cups (250 grams) all-purpose flour\n",
      "- 2 teaspoons baking powder\n",
      "- 1 teaspoon salt\n",
      "- 2 tablespoons sugar\n",
      "- 2 cups milk\n",
      "- 2 eggs\n",
      "- 3 tablespoons melted butter, plus more for the pan\n",
      "- 1 teaspoon vanilla extract (optional)\n",
      "\n",
      "**Instructions:**\n",
      "\n",
      "1. Whisk together the dry ingredients: In a large mixing bowl, combine the flour, baking powder, salt, and sugar. Whisk until the ingredients are well incorporated and there are no lumps.\n",
      "\n",
      "2. Combine the wet ingredients: In a separate mixing bowl, whisk together the milk, eggs, melted butter, and vanilla extract (if using). Ensure the melted butter has cooled down slightly so it doesn't cook the eggs.\n",
      "\n",
      "3. Mix dry and wet ingredients: Slowly pour the wet ingredients into the dry ingredients while continuously whisking. Mix until you have a smooth batter, but be careful not to overmix. A few small lumps are okay.\n",
      "\n",
      "4. Heat your griddle or pan: Place a nonstick pan or griddle over medium heat. Add a small amount of butter to grease the surface, spreading it evenly across the cooking area.\n",
      "\n",
      "5. Pour the batter: Once the pan is hot, pour about 1/4 cup of batter for each pancake onto the griddle or pan. Cook until you see the edges looking dry and small bubbles appearing on the surface, which should take around 2-3 minutes.\n",
      "\n",
      "6. Flip the pancakes: Use a spatula to gently flip the pancakes over. Cook the other side for an additional 1-2 minutes until lightly browned.\n",
      "\n",
      "7. Repeat: Continue this process until you've cooked all your batter, adding more butter to the pan as needed between batches.\n",
      "\n",
      "8. Serve: Stack the pancakes on a plate and serve them with your choice of toppings. Classic options include butter, maple syrup, fresh fruit, or a dusting of powdered sugar.\n",
      "\n",
      "**Tips for Classic Fluffy Pancakes:**\n",
      "- For extra fluffy pancakes, you can separate the eggs and gently fold in the whipped egg whites after combining the other ingredients. This will give them an even lighter texture.\n",
      "- If you prefer thicker pancakes, you can add a little less milk to the batter. For thinner, crepe-like pancakes, add a bit more milk.\n",
      "- Feel free to experiment with mix-ins like chocolate chips, blueberries, or chopped nuts. Simply sprinkle them onto the pancakes as soon as you pour the batter onto the griddle or pan.\n",
      "\n",
      "Enjoy your classic fluffy pancakes! They are a breakfast staple and can be tailored to your taste preferences with various toppings and add-ins.\n"
     ]
    }
   ],
   "source": [
    "prompt = \"I changed my mind. Can you give me the first recipe from your list?\"\n",
    "context = user_session.get_recent(top_k=5)\n",
    "response = client.converse(prompt=prompt, context=context)\n",
    "user_session.store(prompt, response)\n",
    "print('USER: ', prompt)\n",
    "print('\\nLLM: ', response)"
   ]
  },
  {
   "cell_type": "code",
   "execution_count": 11,
   "metadata": {},
   "outputs": [
    {
     "name": "stdout",
     "output_type": "stream",
     "text": [
      "{'role': 'llm', 'content': \"Of course! Here is a classic recipe for fluffy and delicious pancakes:\\n\\n**Ingredients:**\\n\\n- 2 cups (250 grams) all-purpose flour\\n- 2 teaspoons baking powder\\n- 1 teaspoon salt\\n- 2 tablespoons sugar\\n- 2 cups milk\\n- 2 eggs\\n- 3 tablespoons melted butter, plus more for the pan\\n- 1 teaspoon vanilla extract (optional)\\n\\n**Instructions:**\\n\\n1. Whisk together the dry ingredients: In a large mixing bowl, combine the flour, baking powder, salt, and sugar. Whisk until well blended.\\n\\n2. Combine the wet ingredients: In a separate mixing bowl, whisk together the milk, eggs, melted butter, and vanilla extract (if using). Make sure the melted butter has cooled down a bit so it doesn't cook the eggs.\\n\\n3. Mix dry and wet ingredients: Slowly pour the wet ingredients into the dry ingredients while continuously whisking until you have a smooth batter. Be careful not to overmix; a few small lumps are okay.\\n\\n4. Heat your griddle or pan: Place a nonstick pan or griddle over medium heat and add a small amount of butter to grease the surface. Let the butter melt and coat the cooking surface.\\n\\n5. Pour the batter: Once the pan is hot, pour about 1/4 cup of batter for each pancake onto the griddle or pan. Cook until the edges look dry and small bubbles appear on the surface, about 2-3 minutes.\\n\\n6. Flip the pancakes: Use a spatula to carefully flip the pancakes. Cook the other side for another 1-2 minutes until lightly browned.\\n\\n7. Repeat: Repeat this process until you've cooked all your batter, adding more butter to the pan as needed.\\n\\n8. Serve: Stack the pancakes on a plate and serve them with your favorite toppings. Some popular options include butter, maple syrup, fresh fruit, whipped cream, or a dusting of powdered sugar.\\n\\n**Variations and Tips:**\\n- For extra fluffy pancakes, you can separate the eggs and gently fold in the whipped egg whites after combining the other ingredients.\\n- Feel free to add mix-ins to your batter, such as chocolate chips, blueberries, or chopped nuts.\\n- If you like thicker pancakes, you can add a little less milk to the batter. For thinner pancakes, add a bit more.\\n- To keep pancakes warm while you cook a large batch, preheat your oven to its lowest setting and place the cooked pancakes on a baking sheet or oven-safe plate.\\n\\nEnjoy your homemade pancakes! They are a classic breakfast treat and can be tailored to your taste preferences.\"}\n",
      "{'role': 'user', 'content': 'I am vegetarian. Can you remove the eggs?'}\n",
      "{'role': 'llm', 'content': \"Absolutely! You can make delicious vegetarian pancakes by omitting the eggs. Here's the modified recipe:\\n\\n**Ingredients:**\\n\\n- 2 cups (250 grams) all-purpose flour\\n- 2 teaspoons baking powder\\n- 1 teaspoon salt\\n- 2 tablespoons sugar\\n- 2 cups milk (dairy or plant-based alternative)\\n- 3 tablespoons melted butter, plus more for the pan\\n- 1 teaspoon vanilla extract (optional)\\n\\n**Instructions:**\\n\\n1. Whisk together the dry ingredients: In a large mixing bowl, combine the flour, baking powder, salt, and sugar. Whisk until well blended.\\n\\n2. Combine the wet ingredients: In a separate mixing bowl, whisk together the milk, melted butter, and vanilla extract (if using). Make sure the melted butter has cooled down a bit so it doesn't curdle the milk.\\n\\n3. Mix dry and wet ingredients: Slowly pour the wet ingredients into the dry ingredients while continuously whisking until you have a smooth batter. Again, don't overmix; a few small lumps are fine.\\n\\n4. Heat your griddle or pan: Place a nonstick pan or griddle over medium heat and add a small amount of butter to grease the surface.\\n\\n5. Pour the batter: Once the pan is hot, pour about 1/4 cup of batter for each pancake onto the griddle or pan. Cook until you see small bubbles appear on the surface and the edges look dry, which should take around 2-3 minutes.\\n\\n6. Flip the pancakes: Use a spatula to gently flip the pancakes. Cook the other side for an additional 1-2 minutes until lightly browned.\\n\\n7. Repeat: Continue this process until you've cooked all your batter, adding more butter to the pan as needed.\\n\\n8. Serve: Stack the pancakes on a plate and serve with your favorite toppings. Maple syrup, butter, fresh fruit, whipped cream, or a sprinkle of powdered sugar are all great choices.\\n\\n**Tips for Eggless Pancakes:**\\n- The eggs in the original recipe act as a binding agent and provide structure to the pancakes. By omitting them, your pancakes may be a bit more delicate, but they will still taste delicious.\\n- You can add a little extra milk (1-2 tablespoons) if you feel the batter is too thick. This will help compensate for the absence of eggs.\\n- For extra leavening, you can increase the amount of baking powder by 1/2 teaspoon to ensure your pancakes still rise nicely.\\n\\nEnjoy your vegetarian pancakes! They are a tasty and versatile breakfast option that can be customized with various toppings and mix-ins.\"}\n",
      "{'role': 'user', 'content': 'I am also vegan. Can you replace the butter too?'}\n",
      "{'role': 'llm', 'content': \"Certainly! For a vegan version of fluffy pancakes, you can replace both the eggs and butter with plant-based alternatives. Here's the recipe tailored for vegan dietary preferences:\\n\\n**Ingredients:**\\n\\n- 2 cups (250 grams) all-purpose flour\\n- 2 teaspoons baking powder\\n- 1 teaspoon salt\\n- 2 tablespoons sugar\\n- 2 cups plant-based milk (such as soy, almond, or oat milk)\\n- 2 tablespoons neutral-flavored oil (such as canola or vegetable oil), plus more for the pan\\n- 1 teaspoon vanilla extract (optional)\\n\\n**Instructions:**\\n\\n1. Whisk together the dry ingredients: In a large mixing bowl, combine the flour, baking powder, salt, and sugar. Mix well to ensure there are no lumps.\\n\\n2. Combine the wet ingredients: In a separate mixing bowl, whisk together the plant-based milk, oil, and vanilla extract (if using).\\n\\n3. Mix dry and wet ingredients: Slowly pour the wet ingredients into the dry ingredients, whisking continuously until you have a smooth batter. It's okay if there are a few small lumps.\\n\\n4. Heat your griddle or pan: Place a nonstick pan or griddle over medium heat. Add a small amount of oil to grease the surface, ensuring it coats the cooking area evenly.\\n\\n5. Pour the batter: Once the pan is hot, pour about 1/4 cup of batter for each pancake onto the griddle or pan. Cook until you notice small bubbles appearing on the surface and the edges look dry, which should take about 2-3 minutes.\\n\\n6. Flip the pancakes: Use a spatula to carefully flip the pancakes. Cook the other side for an additional 1-2 minutes until lightly browned.\\n\\n7. Repeat: Repeat this process until you've cooked all your batter, adding more oil to the pan as needed to prevent sticking.\\n\\n8. Serve: Stack the pancakes on a plate and serve them with your favorite vegan toppings. Some options include maple syrup, vegan butter, fresh fruit, or a dustable amount of powdered sugar.\\n\\n**Tips for Vegan Pancakes:**\\n- The oil replaces the butter in this recipe, providing moisture and helping to create a crispy edge on the pancakes.\\n- Feel free to experiment with different plant-based milk alternatives to find your preferred taste and texture. Soy milk tends to be creamier, while almond or oat milk can lend a subtle nutty flavor.\\n- If you like your pancakes with a hint of sweetness, you can add a bit more sugar to the batter or top them with sweet vegan toppings like agave nectar or fruit compote.\\n\\nEnjoy your vegan pancakes! They are a delicious and inclusive breakfast option that can be tailored to suit your dietary needs and preferences.\"}\n"
     ]
    }
   ],
   "source": [
    "for ctx in context:\n",
    "    print(ctx)"
   ]
  },
  {
   "cell_type": "markdown",
   "metadata": {},
   "source": [
    "The LLM has forgotten about the avocado toast it mentioned because that was too far back in it's conversation history!"
   ]
  },
  {
   "cell_type": "markdown",
   "metadata": {},
   "source": [
    "## Semantic session memory"
   ]
  },
  {
   "cell_type": "markdown",
   "metadata": {},
   "source": [
    "Rather than naively pass the most recent conversation we can use RedisVL to find only the semantically relevant sections of our conversation based on our new prompt. We can do this with the `fetch_relevant()` method."
   ]
  },
  {
   "cell_type": "code",
   "execution_count": 12,
   "metadata": {},
   "outputs": [
    {
     "name": "stdout",
     "output_type": "stream",
     "text": [
      "USER:  Can you give me the avocado one?\n",
      "\n",
      "LLM:  Sure! Here's the first breakfast idea, Avocado Toast, with a simple recipe and some optional toppings:\n",
      "\n",
      "**Avocado Toast**\n",
      "\n",
      "**Ingredients:**\n",
      "- 1 ripe avocado\n",
      "- 2 slices of bread (preferably a hearty variety like sourdough, rye, or multigrain)\n",
      "- Extra virgin olive oil\n",
      "- Lemon or lime juice\n",
      "- Salt and pepper, to taste\n",
      "- Optional toppings: sliced tomatoes, chopped onions, chili flakes, or a fried egg\n",
      "\n",
      "**Instructions:**\n",
      "\n",
      "1. Toast the bread to your desired level of doneness.\n",
      "2. While the bread is toasting, prepare the avocado. Cut the avocado in half, remove the pit, and scoop out the flesh into a small bowl.\n",
      "3. Using a fork, mash the avocado until it reaches your desired consistency. You can leave it chunkier or make it smoother, depending on your preference.\n",
      "4. Add a drizzle of extra virgin olive oil and a squeeze of lemon or lime juice to the mashed avocado. This will enhance the flavor and prevent the avocado from turning brown too quickly. Stir to combine.\n",
      "5. Spread the mashed avocado mixture onto the toasted bread slices. Be generous!\n",
      "6. Sprinkle salt and pepper on top to taste.\n",
      "7. If desired, add your choice of optional toppings. Sliced tomatoes and a sprinkle of chopped onions go well with avocado toast. You could also add some chili flakes for a spicy kick.\n",
      "8. For an even heartier breakfast, top the avocado toast with a fried egg. Simply fry an egg in a pan until the whites are set and the yolk is still runny (or cook it to your preferred doneness). Place the fried egg on top of the avocado toast.\n",
      "9. Enjoy your delicious and nutritious avocado toast! It's a quick, easy, and healthy breakfast option.\n",
      "\n",
      "Feel free to experiment with different types of bread and toppings to create your own unique version of avocado toast. It's a simple dish that can be easily customized to your taste preferences. Enjoy!\n"
     ]
    }
   ],
   "source": [
    "prompt = \"Can you give me the avocado one?\"\n",
    "user_session.set_distance_threshold(0.75)\n",
    "context = user_session.get_relevant(prompt=prompt)\n",
    "response = client.converse(prompt=prompt, context=context)\n",
    "user_session.store(prompt, response)\n",
    "print('USER: ', prompt)\n",
    "print('\\nLLM: ', response)"
   ]
  },
  {
   "cell_type": "code",
   "execution_count": 13,
   "metadata": {},
   "outputs": [
    {
     "name": "stdout",
     "output_type": "stream",
     "text": [
      "{'role': 'user', 'content': 'can you give me some ideas for breakfast?'}\n",
      "{'role': 'llm', 'content': \"Certainly! Here are some delicious breakfast ideas to start your day off right:\\n\\n**1. Avocado Toast:**\\n   - Spread mashed avocado on a slice of toasted bread. Top it with a sprinkle of salt and pepper, a squeeze of lemon or lime juice, and a drizzle of extra virgin olive oil. You can also add sliced tomatoes, chopped onions, or a fried egg on top.\\n\\n**2. Smoothie Bowl:**\\n   - Blend your favorite fruits (such as bananas, strawberries, blueberries, and mango) with a liquid base (like milk, yogurt, or juice) to create a thick and creamy smoothie. Pour it into a bowl and top it with granola, nuts, seeds, shredded coconut, or fresh fruit slices.\\n\\n**3. Pancakes or Waffles:**\\n   - Whip up a batch of fluffy pancakes or waffles and serve them with a variety of toppings. Some options include fresh fruit, maple syrup, butter, whipped cream, chocolate chips, or a dusting of powdered sugar.\\n\\n**4. Breakfast Burrito:**\\n   - Fill a flour tortilla with scrambled eggs, sautéed vegetables (such as bell peppers, onions, and mushrooms), shredded cheese, and your choice of breakfast meat (bacon, sausage, or ham). Roll it up and enjoy it as a handheld breakfast.\\n\\n**5. Overnight Oats:**\\n   - Combine rolled oats, milk, yogurt, and your choice of mix-ins (such as chia seeds, flaxseeds, nuts, dried fruit, or fresh fruit) in a jar or container. Stir well, cover, and refrigerate overnight. In the morning, you'll have a delicious, creamy, and nutritious breakfast ready to go.\\n\\n**6. Eggs Benedict:**\\n   - Poach an egg and place it on top of a toasted English muffin halved. Add a slice of Canadian bacon or ham and top it with a generous drizzle of hollandaise sauce. This classic breakfast dish is indulgent and satisfying.\\n\\n**7. Yogurt Parfait:**\\n   - Layer yogurt, granola, and fresh fruit in a glass or bowl to create a beautiful and tasty parfait. Drizzle with honey and top with a sprinkle of chopped nuts or seeds for some crunch.\\n\\n**8. Breakfast Sandwich:**\\n   - Toast two slices of bread and fill them with scrambled or fried eggs, cheese, and your choice of breakfast meat. You can also add vegetables like spinach, tomatoes, or avocado slices.\\n\\n**9. Fruit and Nut Butter:**\\n   - Spread your favorite nut butter (such as peanut butter, almond butter, or cashew butter) on a slice of toast or a bagel. Top it with sliced bananas, apples, or berries for a nutritious and filling breakfast.\\n\\n**10. Quiche:**\\n   - Bake a quiche filled with eggs, milk or cream, cheese, and your choice of vegetables and/or meat. It's a delicious and elegant breakfast option that can be served warm or at room temperature.\\n\\nThese breakfast ideas offer a variety of flavors, textures, and nutritional profiles to suit different tastes and preferences. Feel free to experiment, get creative, and customize these dishes to your liking!\"}\n"
     ]
    }
   ],
   "source": [
    "for ctx in context:\n",
    "    print(ctx)"
   ]
  },
  {
   "cell_type": "markdown",
   "metadata": {},
   "source": [
    "Looking at the context we see that only the conversation section that had to do with avocados was retrieved. We don't need to know about pancakes to make avocado toast."
   ]
  },
  {
   "cell_type": "code",
   "execution_count": 14,
   "metadata": {},
   "outputs": [],
   "source": [
    "user_session.clear()"
   ]
  }
 ],
 "metadata": {
  "kernelspec": {
   "display_name": "Python 3",
   "language": "python",
   "name": "python3"
  },
  "language_info": {
   "codemirror_mode": {
    "name": "ipython",
    "version": 3
   },
   "file_extension": ".py",
   "mimetype": "text/x-python",
   "name": "python",
   "nbconvert_exporter": "python",
   "pygments_lexer": "ipython3",
   "version": "3.12.2"
  }
 },
 "nbformat": 4,
 "nbformat_minor": 2
}
