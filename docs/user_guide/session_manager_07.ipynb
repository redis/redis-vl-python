{
 "cells": [
  {
   "cell_type": "markdown",
   "metadata": {},
   "source": [
    "# LLM Session Memory"
   ]
  },
  {
   "cell_type": "markdown",
   "metadata": {},
   "source": [
    "Large Language Models are inherently stateless and have no knowledge of previous interactions with a user, or even of previous parts of the current conversation. While this may not be noticable when asking simple questions, it becomes a hinderance when engaging in long running conversations that rely on conversational context.\n",
    "\n",
    "The solution to this problem is to append the previous conversation history to each subsequent call to the LLM.\n",
    "\n",
    "This notebook will show how to use Redis to structure and store and retrieve this conversational session memory."
   ]
  },
  {
   "cell_type": "code",
   "execution_count": 1,
   "metadata": {},
   "outputs": [
    {
     "name": "stdout",
     "output_type": "stream",
     "text": [
      "11:19:30 redisvl.index.index INFO   Index already exists, not overwriting.\n"
     ]
    }
   ],
   "source": [
    "from redisvl.extensions.session_manager import StandardSessionManager\n",
    "chat_session = StandardSessionManager(name='student tutor')"
   ]
  },
  {
   "cell_type": "markdown",
   "metadata": {},
   "source": [
    "To align with common LLM APIs, Redis stores messages with `role` and `content` fields.\n",
    "The supported roles are \"system\", \"user\" and \"llm\".\n",
    "\n",
    "You can store messages one at a time or all at once."
   ]
  },
  {
   "cell_type": "code",
   "execution_count": 2,
   "metadata": {},
   "outputs": [
    {
     "name": "stdout",
     "output_type": "stream",
     "text": [
      "11:19:30 redisvl.index.index ERROR   Error while loading data to Redis\n",
      "Traceback (most recent call last):\n",
      "  File \"/Users/justin.cechmanek/Documents/redisvl/redisvl/index/storage.py\", line 70, in _create_key\n",
      "    key_value = obj[id_field]  # type: ignore\n",
      "                ~~~^^^^^^^^^^\n",
      "KeyError: '_id'\n",
      "\n",
      "During handling of the above exception, another exception occurred:\n",
      "\n",
      "Traceback (most recent call last):\n",
      "  File \"/Users/justin.cechmanek/Documents/redisvl/redisvl/index/index.py\", line 587, in load\n",
      "    return self._storage.write(\n",
      "           ^^^^^^^^^^^^^^^^^^^^\n",
      "  File \"/Users/justin.cechmanek/Documents/redisvl/redisvl/index/storage.py\", line 220, in write\n",
      "    else self._create_key(obj, id_field)\n",
      "         ^^^^^^^^^^^^^^^^^^^^^^^^^^^^^^^\n",
      "  File \"/Users/justin.cechmanek/Documents/redisvl/redisvl/index/storage.py\", line 72, in _create_key\n",
      "    raise ValueError(f\"Key field {id_field} not found in record {obj}\")\n",
      "ValueError: Key field _id not found in record {'entry_id': None, 'role': 'system', 'content': 'You are a helpful geography tutor, giving simple and short answers to questions about Europen countries.', 'session_tag': 'c9cc1d8d-c7cb-4e33-887e-87f04594d44a', 'timestamp': 1722536370.422074}\n"
     ]
    },
    {
     "ename": "ValueError",
     "evalue": "Key field _id not found in record {'entry_id': None, 'role': 'system', 'content': 'You are a helpful geography tutor, giving simple and short answers to questions about Europen countries.', 'session_tag': 'c9cc1d8d-c7cb-4e33-887e-87f04594d44a', 'timestamp': 1722536370.422074}",
     "output_type": "error",
     "traceback": [
      "\u001b[0;31m---------------------------------------------------------------------------\u001b[0m",
      "\u001b[0;31mKeyError\u001b[0m                                  Traceback (most recent call last)",
      "File \u001b[0;32m~/Documents/redisvl/redisvl/index/storage.py:70\u001b[0m, in \u001b[0;36mBaseStorage._create_key\u001b[0;34m(self, obj, id_field)\u001b[0m\n\u001b[1;32m     69\u001b[0m \u001b[38;5;28;01mtry\u001b[39;00m:\n\u001b[0;32m---> 70\u001b[0m     key_value \u001b[38;5;241m=\u001b[39m \u001b[43mobj\u001b[49m\u001b[43m[\u001b[49m\u001b[43mid_field\u001b[49m\u001b[43m]\u001b[49m  \u001b[38;5;66;03m# type: ignore\u001b[39;00m\n\u001b[1;32m     71\u001b[0m \u001b[38;5;28;01mexcept\u001b[39;00m \u001b[38;5;167;01mKeyError\u001b[39;00m:\n",
      "\u001b[0;31mKeyError\u001b[0m: '_id'",
      "\nDuring handling of the above exception, another exception occurred:\n",
      "\u001b[0;31mValueError\u001b[0m                                Traceback (most recent call last)",
      "Cell \u001b[0;32mIn[2], line 1\u001b[0m\n\u001b[0;32m----> 1\u001b[0m \u001b[43mchat_session\u001b[49m\u001b[38;5;241;43m.\u001b[39;49m\u001b[43madd_message\u001b[49m\u001b[43m(\u001b[49m\u001b[43m{\u001b[49m\u001b[38;5;124;43m\"\u001b[39;49m\u001b[38;5;124;43mrole\u001b[39;49m\u001b[38;5;124;43m\"\u001b[39;49m\u001b[43m:\u001b[49m\u001b[38;5;124;43m\"\u001b[39;49m\u001b[38;5;124;43msystem\u001b[39;49m\u001b[38;5;124;43m\"\u001b[39;49m\u001b[43m,\u001b[49m\u001b[43m \u001b[49m\u001b[38;5;124;43m\"\u001b[39;49m\u001b[38;5;124;43mcontent\u001b[39;49m\u001b[38;5;124;43m\"\u001b[39;49m\u001b[43m:\u001b[49m\u001b[38;5;124;43m\"\u001b[39;49m\u001b[38;5;124;43mYou are a helpful geography tutor, giving simple and short answers to questions about Europen countries.\u001b[39;49m\u001b[38;5;124;43m\"\u001b[39;49m\u001b[43m}\u001b[49m\u001b[43m)\u001b[49m\n\u001b[1;32m      2\u001b[0m chat_session\u001b[38;5;241m.\u001b[39madd_messages([\n\u001b[1;32m      3\u001b[0m                             {\u001b[38;5;124m\"\u001b[39m\u001b[38;5;124mrole\u001b[39m\u001b[38;5;124m\"\u001b[39m:\u001b[38;5;124m\"\u001b[39m\u001b[38;5;124muser\u001b[39m\u001b[38;5;124m\"\u001b[39m, \u001b[38;5;124m\"\u001b[39m\u001b[38;5;124mcontent\u001b[39m\u001b[38;5;124m\"\u001b[39m:\u001b[38;5;124m\"\u001b[39m\u001b[38;5;124mWhat is the capital of France?\u001b[39m\u001b[38;5;124m\"\u001b[39m},\n\u001b[1;32m      4\u001b[0m                             {\u001b[38;5;124m\"\u001b[39m\u001b[38;5;124mrole\u001b[39m\u001b[38;5;124m\"\u001b[39m:\u001b[38;5;124m\"\u001b[39m\u001b[38;5;124mllm\u001b[39m\u001b[38;5;124m\"\u001b[39m, \u001b[38;5;124m\"\u001b[39m\u001b[38;5;124mcontent\u001b[39m\u001b[38;5;124m\"\u001b[39m:\u001b[38;5;124m\"\u001b[39m\u001b[38;5;124mThe capital is Paris.\u001b[39m\u001b[38;5;124m\"\u001b[39m},\n\u001b[0;32m   (...)\u001b[0m\n\u001b[1;32m      9\u001b[0m                             ]\n\u001b[1;32m     10\u001b[0m                           )\n",
      "File \u001b[0;32m~/Documents/redisvl/redisvl/extensions/session_manager/standard_session.py:237\u001b[0m, in \u001b[0;36mStandardSessionManager.add_message\u001b[0;34m(self, message, session_tag)\u001b[0m\n\u001b[1;32m    225\u001b[0m \u001b[38;5;28;01mdef\u001b[39;00m \u001b[38;5;21madd_message\u001b[39m(\n\u001b[1;32m    226\u001b[0m     \u001b[38;5;28mself\u001b[39m, message: Dict[\u001b[38;5;28mstr\u001b[39m, \u001b[38;5;28mstr\u001b[39m], session_tag: Optional[\u001b[38;5;28mstr\u001b[39m] \u001b[38;5;241m=\u001b[39m \u001b[38;5;28;01mNone\u001b[39;00m\n\u001b[1;32m    227\u001b[0m ) \u001b[38;5;241m-\u001b[39m\u001b[38;5;241m>\u001b[39m \u001b[38;5;28;01mNone\u001b[39;00m:\n\u001b[1;32m    228\u001b[0m \u001b[38;5;250m    \u001b[39m\u001b[38;5;124;03m\"\"\"Insert a single prompt or response into the session memory.\u001b[39;00m\n\u001b[1;32m    229\u001b[0m \u001b[38;5;124;03m    A timestamp is associated with it so that it can be later sorted\u001b[39;00m\n\u001b[1;32m    230\u001b[0m \u001b[38;5;124;03m    in sequential ordering after retrieval.\u001b[39;00m\n\u001b[0;32m   (...)\u001b[0m\n\u001b[1;32m    235\u001b[0m \u001b[38;5;124;03m            session. Defaults to instance uuid.\u001b[39;00m\n\u001b[1;32m    236\u001b[0m \u001b[38;5;124;03m    \"\"\"\u001b[39;00m\n\u001b[0;32m--> 237\u001b[0m     \u001b[38;5;28;43mself\u001b[39;49m\u001b[38;5;241;43m.\u001b[39;49m\u001b[43madd_messages\u001b[49m\u001b[43m(\u001b[49m\u001b[43m[\u001b[49m\u001b[43mmessage\u001b[49m\u001b[43m]\u001b[49m\u001b[43m,\u001b[49m\u001b[43m \u001b[49m\u001b[43msession_tag\u001b[49m\u001b[43m)\u001b[49m\n",
      "File \u001b[0;32m~/Documents/redisvl/redisvl/extensions/session_manager/standard_session.py:223\u001b[0m, in \u001b[0;36mStandardSessionManager.add_messages\u001b[0;34m(self, messages, session_tag)\u001b[0m\n\u001b[1;32m    219\u001b[0m         chat_message\u001b[38;5;241m.\u001b[39mtool_call_id \u001b[38;5;241m=\u001b[39m message[\u001b[38;5;28mself\u001b[39m\u001b[38;5;241m.\u001b[39mtool_field_name]\n\u001b[1;32m    221\u001b[0m     chat_messages\u001b[38;5;241m.\u001b[39mappend(chat_message\u001b[38;5;241m.\u001b[39mto_dict())\n\u001b[0;32m--> 223\u001b[0m \u001b[38;5;28;43mself\u001b[39;49m\u001b[38;5;241;43m.\u001b[39;49m\u001b[43m_index\u001b[49m\u001b[38;5;241;43m.\u001b[39;49m\u001b[43mload\u001b[49m\u001b[43m(\u001b[49m\u001b[43mdata\u001b[49m\u001b[38;5;241;43m=\u001b[39;49m\u001b[43mchat_messages\u001b[49m\u001b[43m,\u001b[49m\u001b[43m \u001b[49m\u001b[43mid_field\u001b[49m\u001b[38;5;241;43m=\u001b[39;49m\u001b[38;5;28;43mself\u001b[39;49m\u001b[38;5;241;43m.\u001b[39;49m\u001b[43mid_field_name\u001b[49m\u001b[43m)\u001b[49m\n",
      "File \u001b[0;32m~/Documents/redisvl/redisvl/index/index.py:587\u001b[0m, in \u001b[0;36mSearchIndex.load\u001b[0;34m(self, data, id_field, keys, ttl, preprocess, batch_size)\u001b[0m\n\u001b[1;32m    538\u001b[0m \u001b[38;5;250m\u001b[39m\u001b[38;5;124;03m\"\"\"Load objects to the Redis database. Returns the list of keys loaded\u001b[39;00m\n\u001b[1;32m    539\u001b[0m \u001b[38;5;124;03mto Redis.\u001b[39;00m\n\u001b[1;32m    540\u001b[0m \n\u001b[0;32m   (...)\u001b[0m\n\u001b[1;32m    584\u001b[0m \u001b[38;5;124;03m    keys = index.load(data, preprocess=add_field)\u001b[39;00m\n\u001b[1;32m    585\u001b[0m \u001b[38;5;124;03m\"\"\"\u001b[39;00m\n\u001b[1;32m    586\u001b[0m \u001b[38;5;28;01mtry\u001b[39;00m:\n\u001b[0;32m--> 587\u001b[0m     \u001b[38;5;28;01mreturn\u001b[39;00m \u001b[38;5;28;43mself\u001b[39;49m\u001b[38;5;241;43m.\u001b[39;49m\u001b[43m_storage\u001b[49m\u001b[38;5;241;43m.\u001b[39;49m\u001b[43mwrite\u001b[49m\u001b[43m(\u001b[49m\n\u001b[1;32m    588\u001b[0m \u001b[43m        \u001b[49m\u001b[38;5;28;43mself\u001b[39;49m\u001b[38;5;241;43m.\u001b[39;49m\u001b[43m_redis_client\u001b[49m\u001b[43m,\u001b[49m\u001b[43m  \u001b[49m\u001b[38;5;66;43;03m# type: ignore\u001b[39;49;00m\n\u001b[1;32m    589\u001b[0m \u001b[43m        \u001b[49m\u001b[43mobjects\u001b[49m\u001b[38;5;241;43m=\u001b[39;49m\u001b[43mdata\u001b[49m\u001b[43m,\u001b[49m\n\u001b[1;32m    590\u001b[0m \u001b[43m        \u001b[49m\u001b[43mid_field\u001b[49m\u001b[38;5;241;43m=\u001b[39;49m\u001b[43mid_field\u001b[49m\u001b[43m,\u001b[49m\n\u001b[1;32m    591\u001b[0m \u001b[43m        \u001b[49m\u001b[43mkeys\u001b[49m\u001b[38;5;241;43m=\u001b[39;49m\u001b[43mkeys\u001b[49m\u001b[43m,\u001b[49m\n\u001b[1;32m    592\u001b[0m \u001b[43m        \u001b[49m\u001b[43mttl\u001b[49m\u001b[38;5;241;43m=\u001b[39;49m\u001b[43mttl\u001b[49m\u001b[43m,\u001b[49m\n\u001b[1;32m    593\u001b[0m \u001b[43m        \u001b[49m\u001b[43mpreprocess\u001b[49m\u001b[38;5;241;43m=\u001b[39;49m\u001b[43mpreprocess\u001b[49m\u001b[43m,\u001b[49m\n\u001b[1;32m    594\u001b[0m \u001b[43m        \u001b[49m\u001b[43mbatch_size\u001b[49m\u001b[38;5;241;43m=\u001b[39;49m\u001b[43mbatch_size\u001b[49m\u001b[43m,\u001b[49m\n\u001b[1;32m    595\u001b[0m \u001b[43m    \u001b[49m\u001b[43m)\u001b[49m\n\u001b[1;32m    596\u001b[0m \u001b[38;5;28;01mexcept\u001b[39;00m:\n\u001b[1;32m    597\u001b[0m     logger\u001b[38;5;241m.\u001b[39mexception(\u001b[38;5;124m\"\u001b[39m\u001b[38;5;124mError while loading data to Redis\u001b[39m\u001b[38;5;124m\"\u001b[39m)\n",
      "File \u001b[0;32m~/Documents/redisvl/redisvl/index/storage.py:220\u001b[0m, in \u001b[0;36mBaseStorage.write\u001b[0;34m(self, redis_client, objects, id_field, keys, ttl, preprocess, batch_size)\u001b[0m\n\u001b[1;32m    214\u001b[0m \u001b[38;5;28;01mwith\u001b[39;00m redis_client\u001b[38;5;241m.\u001b[39mpipeline(transaction\u001b[38;5;241m=\u001b[39m\u001b[38;5;28;01mFalse\u001b[39;00m) \u001b[38;5;28;01mas\u001b[39;00m pipe:\n\u001b[1;32m    215\u001b[0m     \u001b[38;5;28;01mfor\u001b[39;00m i, obj \u001b[38;5;129;01min\u001b[39;00m \u001b[38;5;28menumerate\u001b[39m(objects, start\u001b[38;5;241m=\u001b[39m\u001b[38;5;241m1\u001b[39m):\n\u001b[1;32m    216\u001b[0m         \u001b[38;5;66;03m# Construct key, validate, and write\u001b[39;00m\n\u001b[1;32m    217\u001b[0m         key \u001b[38;5;241m=\u001b[39m (\n\u001b[1;32m    218\u001b[0m             \u001b[38;5;28mnext\u001b[39m(keys_iterator)\n\u001b[1;32m    219\u001b[0m             \u001b[38;5;28;01mif\u001b[39;00m keys_iterator\n\u001b[0;32m--> 220\u001b[0m             \u001b[38;5;28;01melse\u001b[39;00m \u001b[38;5;28;43mself\u001b[39;49m\u001b[38;5;241;43m.\u001b[39;49m\u001b[43m_create_key\u001b[49m\u001b[43m(\u001b[49m\u001b[43mobj\u001b[49m\u001b[43m,\u001b[49m\u001b[43m \u001b[49m\u001b[43mid_field\u001b[49m\u001b[43m)\u001b[49m\n\u001b[1;32m    221\u001b[0m         )\n\u001b[1;32m    222\u001b[0m         obj \u001b[38;5;241m=\u001b[39m \u001b[38;5;28mself\u001b[39m\u001b[38;5;241m.\u001b[39m_preprocess(obj, preprocess)\n\u001b[1;32m    223\u001b[0m         \u001b[38;5;28mself\u001b[39m\u001b[38;5;241m.\u001b[39m_validate(obj)\n",
      "File \u001b[0;32m~/Documents/redisvl/redisvl/index/storage.py:72\u001b[0m, in \u001b[0;36mBaseStorage._create_key\u001b[0;34m(self, obj, id_field)\u001b[0m\n\u001b[1;32m     70\u001b[0m         key_value \u001b[38;5;241m=\u001b[39m obj[id_field]  \u001b[38;5;66;03m# type: ignore\u001b[39;00m\n\u001b[1;32m     71\u001b[0m     \u001b[38;5;28;01mexcept\u001b[39;00m \u001b[38;5;167;01mKeyError\u001b[39;00m:\n\u001b[0;32m---> 72\u001b[0m         \u001b[38;5;28;01mraise\u001b[39;00m \u001b[38;5;167;01mValueError\u001b[39;00m(\u001b[38;5;124mf\u001b[39m\u001b[38;5;124m\"\u001b[39m\u001b[38;5;124mKey field \u001b[39m\u001b[38;5;132;01m{\u001b[39;00mid_field\u001b[38;5;132;01m}\u001b[39;00m\u001b[38;5;124m not found in record \u001b[39m\u001b[38;5;132;01m{\u001b[39;00mobj\u001b[38;5;132;01m}\u001b[39;00m\u001b[38;5;124m\"\u001b[39m)\n\u001b[1;32m     74\u001b[0m \u001b[38;5;28;01mreturn\u001b[39;00m \u001b[38;5;28mself\u001b[39m\u001b[38;5;241m.\u001b[39m_key(\n\u001b[1;32m     75\u001b[0m     key_value, prefix\u001b[38;5;241m=\u001b[39m\u001b[38;5;28mself\u001b[39m\u001b[38;5;241m.\u001b[39mprefix, key_separator\u001b[38;5;241m=\u001b[39m\u001b[38;5;28mself\u001b[39m\u001b[38;5;241m.\u001b[39mkey_separator\n\u001b[1;32m     76\u001b[0m )\n",
      "\u001b[0;31mValueError\u001b[0m: Key field _id not found in record {'entry_id': None, 'role': 'system', 'content': 'You are a helpful geography tutor, giving simple and short answers to questions about Europen countries.', 'session_tag': 'c9cc1d8d-c7cb-4e33-887e-87f04594d44a', 'timestamp': 1722536370.422074}"
     ]
    }
   ],
   "source": [
    "chat_session.add_message({\"role\":\"system\", \"content\":\"You are a helpful geography tutor, giving simple and short answers to questions about Europen countries.\"})\n",
    "chat_session.add_messages([\n",
    "                            {\"role\":\"user\", \"content\":\"What is the capital of France?\"},\n",
    "                            {\"role\":\"llm\", \"content\":\"The capital is Paris.\"},\n",
    "                            {\"role\":\"user\", \"content\":\"And what is the capital of Spain?\"},\n",
    "                            {\"role\":\"llm\", \"content\":\"The capital is Madrid.\"},\n",
    "                            {\"role\":\"user\", \"content\":\"What is the population of Great Britain?\"},\n",
    "                            {\"role\":\"llm\", \"content\":\"As of 2023 the population of Great Britain is approximately 67 million people.\"},\n",
    "                            ]\n",
    "                          )"
   ]
  },
  {
   "cell_type": "markdown",
   "metadata": {},
   "source": [
    "At any point we can retrieve the recent history of the conversation. It will be ordered by entry time."
   ]
  },
  {
   "cell_type": "code",
   "execution_count": null,
   "metadata": {},
   "outputs": [],
   "source": [
    "context = chat_session.get_recent()\n",
    "for message in context:\n",
    "    print(message)"
   ]
  },
  {
   "cell_type": "markdown",
   "metadata": {},
   "source": [
    "In many LLM flows the conversation progresses in a series of prompt and response pairs. session managers offer a convienience function `store()` to add these simply."
   ]
  },
  {
   "cell_type": "code",
   "execution_count": null,
   "metadata": {},
   "outputs": [],
   "source": [
    "prompt = \"what is the size of England compared to Portugal?\"\n",
    "response = \"England is larger in land area than Portal by about 15000 square miles.\"\n",
    "chat_session.store(prompt, response)\n",
    "\n",
    "context = chat_session.get_recent(top_k=6)\n",
    "for message in context:\n",
    "    print(message)"
   ]
  },
  {
   "cell_type": "markdown",
   "metadata": {},
   "source": [
    "## Managing multiple users and conversations"
   ]
  },
  {
   "cell_type": "markdown",
   "metadata": {},
   "source": [
    "For applications that need to handle multiple conversations concurrently, Redis supports tagging messages to keep conversations separated."
   ]
  },
  {
   "cell_type": "code",
   "execution_count": null,
   "metadata": {},
   "outputs": [],
   "source": [
    "chat_session.add_message({\"role\":\"system\", \"content\":\"You are a helpful algebra tutor, giving simple answers to math problems.\"}, session_tag='student two')\n",
    "chat_session.add_messages([\n",
    "                            {\"role\":\"user\", \"content\":\"What is the value of x in the equation 2x + 3 = 7?\"},\n",
    "                            {\"role\":\"llm\", \"content\":\"The value of x is 2.\"},\n",
    "                            {\"role\":\"user\", \"content\":\"What is the value of y in the equation 3y - 5 = 7?\"},\n",
    "                            {\"role\":\"llm\", \"content\":\"The value of y is 4.\"}\n",
    "                            ], session_tag='student two')\n",
    "\n",
    "for math_message in chat_session.get_recent(session_tag='student two'):\n",
    "    print(math_message)"
   ]
  },
  {
   "cell_type": "markdown",
   "metadata": {},
   "source": [
    "## Semantic conversation memory\n",
    "For longer conversations our list of messages keeps growing. Since LLMs are stateless we have to continue to pass this conversation history on each subsequent call to ensure the LLM has the correct context.\n",
    "\n",
    "A typical flow looks like this:\n",
    "```\n",
    "while True:\n",
    "    prompt = input('enter your next question')\n",
    "    context = chat_session.get_recent()\n",
    "    response = LLM_api_call(prompt=prompt, context=context)\n",
    "    chat_session.store(prompt, response)\n",
    "```\n",
    "\n",
    "This works, but as context keeps growing so too does our LLM token count, which increases latency and cost.\n",
    "\n",
    "Conversation histories can be truncated, but that can lead to losing relevant information that appeared early on.\n",
    "\n",
    "A better solution is to pass only the relevant conversational context on each subsequent call.\n",
    "\n",
    "For this, RedisVL has the `SemanticSessionManager`, which uses vector similarity search to return only semantically relevant sections of the conversation."
   ]
  },
  {
   "cell_type": "code",
   "execution_count": null,
   "metadata": {},
   "outputs": [],
   "source": [
    "from redisvl.extensions.session_manager import SemanticSessionManager\n",
    "semantic_session = SemanticSessionManager(name='student tutor')\n",
    "\n",
    "semantic_session.add_messages(chat_session.get_recent(top_k=8))"
   ]
  },
  {
   "cell_type": "code",
   "execution_count": null,
   "metadata": {},
   "outputs": [],
   "source": [
    "prompt = \"what have I learned about the size of England?\"\n",
    "semantic_session.set_distance_threshold(0.35)\n",
    "##context = semantic_session.get_relevant(prompt)\n",
    "context = semantic_session.get_recent() ## testing GHA\n",
    "for message in context:\n",
    "    print(message)"
   ]
  },
  {
   "cell_type": "markdown",
   "metadata": {},
   "source": [
    "You can adjust the degree of semantic similarity needed to be included in your context.\n",
    "\n",
    "Setting a distance threshold close to 0.0 will require an exact semantic match, while a distance threshold of 1.0 will include everthing."
   ]
  },
  {
   "cell_type": "code",
   "execution_count": null,
   "metadata": {},
   "outputs": [],
   "source": [
    "semantic_session.set_distance_threshold(0.7)\n",
    "\n",
    "##larger_context = semantic_session.get_relevant(prompt)\n",
    "larger_context = semantic_session.get_recent() ##\n",
    "for message in larger_context:\n",
    "    print(message)"
   ]
  },
  {
   "cell_type": "markdown",
   "metadata": {},
   "source": [
    "## Conversation control\n",
    "\n",
    "LLMs can hallucinate on occasion and when this happens it can be useful to prune incorrect information from conversational histories so this incorrect information doesn't continue to be passed as context."
   ]
  },
  {
   "cell_type": "code",
   "execution_count": null,
   "metadata": {},
   "outputs": [],
   "source": [
    "semantic_session.store(prompt=\"what is the smallest country in Europe?\",\n",
    "                       response=\"Monaco is the smallest country in Europe at 0.78 square miles.\" # Incorrect. Vatican City is the smallest country in Europe\n",
    "                       )\n",
    "\n",
    "# get the key of the incorrect message\n",
    "context = semantic_session.get_recent(top_k=1, raw=True)\n",
    "bad_key = context[0]['entry_id']\n",
    "semantic_session.drop(bad_key)\n",
    "\n",
    "corrected_context = semantic_session.get_recent()\n",
    "for message in corrected_context:\n",
    "    print(message)"
   ]
  },
  {
   "cell_type": "code",
   "execution_count": null,
   "metadata": {},
   "outputs": [],
   "source": [
    "chat_session.clear()"
   ]
  }
 ],
 "metadata": {
  "kernelspec": {
   "display_name": "Python 3",
   "language": "python",
   "name": "python3"
  },
  "language_info": {
   "codemirror_mode": {
    "name": "ipython",
    "version": 3
   },
   "file_extension": ".py",
   "mimetype": "text/x-python",
   "name": "python",
   "nbconvert_exporter": "python",
   "pygments_lexer": "ipython3",
   "version": "3.12.2"
  }
 },
 "nbformat": 4,
 "nbformat_minor": 2
}
