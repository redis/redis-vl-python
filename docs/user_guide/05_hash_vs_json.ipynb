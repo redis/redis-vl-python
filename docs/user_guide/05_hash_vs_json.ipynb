{
 "cells": [
  {
   "attachments": {},
   "cell_type": "markdown",
   "metadata": {},
   "source": [
    "# Hash vs JSON Storage\n",
    "\n",
    "\n",
    "Out of the box, Redis provides a [variety of data structures](https://redis.com/redis-enterprise/data-structures/) that can adapt to your domain specific applications and use cases.\n",
    "In this notebook, we will demonstrate how to use RedisVL with both [Hash](https://redis.io/docs/data-types/hashes/) and [JSON](https://redis.io/docs/data-types/json/) data.\n",
    "\n",
    "\n",
    "Before running this notebook, be sure to\n",
    "1. Have installed ``redisvl`` and have that environment active for this notebook.\n",
    "2. Have a running Redis Stack or Redis Enterprise instance with RediSearch > 2.4 activated.\n",
    "\n",
    "For example, you can run [Redis Stack](https://redis.io/docs/install/install-stack/) locally with Docker:\n",
    "\n",
    "```bash\n",
    "docker run -d -p 6379:6379 -p 8001:8001 redis/redis-stack:latest\n",
    "```\n",
    "\n",
    "Or create a [FREE Redis Cloud](https://redis.io/cloud)."
   ]
  },
  {
   "cell_type": "code",
   "execution_count": 1,
   "metadata": {},
   "outputs": [],
   "source": [
    "# import necessary modules\n",
    "import pickle\n",
    "\n",
    "from redisvl.redis.utils import buffer_to_array\n",
    "from redisvl.index import SearchIndex\n",
    "\n",
    "\n",
    "# load in the example data and printing utils\n",
    "data = pickle.load(open(\"hybrid_example_data.pkl\", \"rb\"))"
   ]
  },
  {
   "cell_type": "code",
   "execution_count": 2,
   "metadata": {},
   "outputs": [
    {
     "data": {
      "text/html": [
       "<table><tr><th>user</th><th>age</th><th>job</th><th>credit_score</th><th>office_location</th><th>user_embedding</th><th>last_updated</th></tr><tr><td>john</td><td>18</td><td>engineer</td><td>high</td><td>-122.4194,37.7749</td><td>b'\\xcd\\xcc\\xcc=\\xcd\\xcc\\xcc=\\x00\\x00\\x00?'</td><td>1741627789</td></tr><tr><td>derrick</td><td>14</td><td>doctor</td><td>low</td><td>-122.4194,37.7749</td><td>b'\\xcd\\xcc\\xcc=\\xcd\\xcc\\xcc=\\x00\\x00\\x00?'</td><td>1741627789</td></tr><tr><td>nancy</td><td>94</td><td>doctor</td><td>high</td><td>-122.4194,37.7749</td><td>b'333?\\xcd\\xcc\\xcc=\\x00\\x00\\x00?'</td><td>1710696589</td></tr><tr><td>tyler</td><td>100</td><td>engineer</td><td>high</td><td>-122.0839,37.3861</td><td>b'\\xcd\\xcc\\xcc=\\xcd\\xcc\\xcc>\\x00\\x00\\x00?'</td><td>1742232589</td></tr><tr><td>tim</td><td>12</td><td>dermatologist</td><td>high</td><td>-122.0839,37.3861</td><td>b'\\xcd\\xcc\\xcc>\\xcd\\xcc\\xcc>\\x00\\x00\\x00?'</td><td>1739644189</td></tr><tr><td>taimur</td><td>15</td><td>CEO</td><td>low</td><td>-122.0839,37.3861</td><td>b'\\x9a\\x99\\x19?\\xcd\\xcc\\xcc=\\x00\\x00\\x00?'</td><td>1742232589</td></tr><tr><td>joe</td><td>35</td><td>dentist</td><td>medium</td><td>-122.0839,37.3861</td><td>b'fff?fff?\\xcd\\xcc\\xcc='</td><td>1742232589</td></tr></table>"
      ],
      "text/plain": [
       "<IPython.core.display.HTML object>"
      ]
     },
     "metadata": {},
     "output_type": "display_data"
    }
   ],
   "source": [
    "from jupyterutils import result_print, table_print\n",
    "\n",
    "table_print(data)"
   ]
  },
  {
   "cell_type": "markdown",
   "metadata": {},
   "source": [
    "## Hash or JSON -- how to choose?\n",
    "Both storage options offer a variety of features and tradeoffs. Below we will work through a dummy dataset to learn when and how to use both."
   ]
  },
  {
   "cell_type": "markdown",
   "metadata": {},
   "source": [
    "### Working with Hashes\n",
    "Hashes in Redis are simple collections of field-value pairs. Think of it like a mutable single-level dictionary contains multiple \"rows\":\n",
    "\n",
    "\n",
    "```python\n",
    "{\n",
    "    \"model\": \"Deimos\",\n",
    "    \"brand\": \"Ergonom\",\n",
    "    \"type\": \"Enduro bikes\",\n",
    "    \"price\": 4972,\n",
    "}\n",
    "```\n",
    "\n",
    "Hashes are best suited for use cases with the following characteristics:\n",
    "- Performance (speed) and storage space (memory consumption) are top concerns\n",
    "- Data can be easily normalized and modeled as a single-level dict\n",
    "\n",
    "> Hashes are typically the default recommendation."
   ]
  },
  {
   "cell_type": "code",
   "execution_count": 3,
   "metadata": {},
   "outputs": [],
   "source": [
    "# define the hash index schema\n",
    "hash_schema = {\n",
    "    \"index\": {\n",
    "        \"name\": \"user-hash\",\n",
    "        \"prefix\": \"user-hash-docs\",\n",
    "        \"storage_type\": \"hash\", # default setting -- HASH\n",
    "    },\n",
    "    \"fields\": [\n",
    "        {\"name\": \"user\", \"type\": \"tag\"},\n",
    "        {\"name\": \"credit_score\", \"type\": \"tag\"},\n",
    "        {\"name\": \"job\", \"type\": \"text\"},\n",
    "        {\"name\": \"age\", \"type\": \"numeric\"},\n",
    "        {\"name\": \"office_location\", \"type\": \"geo\"},\n",
    "        {\n",
    "            \"name\": \"user_embedding\",\n",
    "            \"type\": \"vector\",\n",
    "            \"attrs\": {\n",
    "                \"dims\": 3,\n",
    "                \"distance_metric\": \"cosine\",\n",
    "                \"algorithm\": \"flat\",\n",
    "                \"datatype\": \"float32\"\n",
    "            }\n",
    "\n",
    "        }\n",
    "    ],\n",
    "}"
   ]
  },
  {
   "cell_type": "code",
   "execution_count": 4,
   "metadata": {},
   "outputs": [],
   "source": [
    "# construct a search index from the hash schema\n",
    "hindex = SearchIndex.from_dict(hash_schema, redis_url=\"redis://localhost:6379\")\n",
    "\n",
    "# create the index (no data yet)\n",
    "hindex.create(overwrite=True)"
   ]
  },
  {
   "cell_type": "code",
   "execution_count": 5,
   "metadata": {},
   "outputs": [
    {
     "data": {
      "text/plain": [
       "<StorageType.HASH: 'hash'>"
      ]
     },
     "execution_count": 5,
     "metadata": {},
     "output_type": "execute_result"
    }
   ],
   "source": [
    "# show the underlying storage type\n",
    "hindex.storage_type"
   ]
  },
  {
   "cell_type": "markdown",
   "metadata": {},
   "source": [
    "#### Vectors as byte strings\n",
    "One nuance when working with Hashes in Redis, is that all vectorized data must be passed as a byte string (for efficient storage, indexing, and processing). An example of that can be seen below:"
   ]
  },
  {
   "cell_type": "code",
   "execution_count": 6,
   "metadata": {},
   "outputs": [
    {
     "data": {
      "text/plain": [
       "{'user': 'john',\n",
       " 'age': 18,\n",
       " 'job': 'engineer',\n",
       " 'credit_score': 'high',\n",
       " 'office_location': '-122.4194,37.7749',\n",
       " 'user_embedding': b'\\xcd\\xcc\\xcc=\\xcd\\xcc\\xcc=\\x00\\x00\\x00?',\n",
       " 'last_updated': 1741627789}"
      ]
     },
     "execution_count": 6,
     "metadata": {},
     "output_type": "execute_result"
    }
   ],
   "source": [
    "# show a single entry from the data that will be loaded\n",
    "data[0]"
   ]
  },
  {
   "cell_type": "code",
   "execution_count": 7,
   "metadata": {},
   "outputs": [],
   "source": [
    "# load hash data\n",
    "keys = hindex.load(data)"
   ]
  },
  {
   "cell_type": "code",
   "execution_count": 8,
   "metadata": {},
   "outputs": [
    {
     "name": "stdout",
     "output_type": "stream",
     "text": [
      "\n",
      "Statistics:\n",
      "╭─────────────────────────────┬────────────╮\n",
      "│ Stat Key                    │ Value      │\n",
      "├─────────────────────────────┼────────────┤\n",
      "│ num_docs                    │ 7          │\n",
      "│ num_terms                   │ 6          │\n",
      "│ max_doc_id                  │ 7          │\n",
      "│ num_records                 │ 44         │\n",
      "│ percent_indexed             │ 1          │\n",
      "│ hash_indexing_failures      │ 0          │\n",
      "│ number_of_uses              │ 1          │\n",
      "│ bytes_per_record_avg        │ 40.2954559 │\n",
      "│ doc_table_size_mb           │ 7.27653503 │\n",
      "│ inverted_sz_mb              │ 0.00169086 │\n",
      "│ key_table_size_mb           │ 2.48908996 │\n",
      "│ offset_bits_per_record_avg  │ 8          │\n",
      "│ offset_vectors_sz_mb        │ 8.58306884 │\n",
      "│ offsets_per_term_avg        │ 0.20454545 │\n",
      "│ records_per_doc_avg         │ 6.28571414 │\n",
      "│ sortable_values_size_mb     │ 0          │\n",
      "│ total_indexing_time         │ 0.25799998 │\n",
      "│ total_inverted_index_blocks │ 18         │\n",
      "│ vector_index_sz_mb          │ 0.02023315 │\n",
      "╰─────────────────────────────┴────────────╯\n"
     ]
    }
   ],
   "source": [
    "!rvl stats -i user-hash"
   ]
  },
  {
   "cell_type": "markdown",
   "metadata": {},
   "source": [
    "#### Performing Queries\n",
    "Once our index is created and data is loaded into the right format, we can run queries against the index with RedisVL:"
   ]
  },
  {
   "cell_type": "code",
   "execution_count": 9,
   "metadata": {},
   "outputs": [
    {
     "data": {
      "text/html": [
       "<table><tr><th>vector_distance</th><th>user</th><th>credit_score</th><th>age</th><th>job</th><th>office_location</th></tr><tr><td>0</td><td>john</td><td>high</td><td>18</td><td>engineer</td><td>-122.4194,37.7749</td></tr><tr><td>0.109129190445</td><td>tyler</td><td>high</td><td>100</td><td>engineer</td><td>-122.0839,37.3861</td></tr></table>"
      ],
      "text/plain": [
       "<IPython.core.display.HTML object>"
      ]
     },
     "metadata": {},
     "output_type": "display_data"
    }
   ],
   "source": [
    "from redisvl.query import VectorQuery\n",
    "from redisvl.query.filter import Tag, Text, Num\n",
    "\n",
    "t = (Tag(\"credit_score\") == \"high\") & (Text(\"job\") % \"enginee*\") & (Num(\"age\") > 17)  # codespell:ignore enginee\n",
    "\n",
    "v = VectorQuery(\n",
    "    vector=[0.1, 0.1, 0.5],\n",
    "    vector_field_name=\"user_embedding\",\n",
    "    return_fields=[\"user\", \"credit_score\", \"age\", \"job\", \"office_location\"],\n",
    "    filter_expression=t\n",
    ")\n",
    "\n",
    "\n",
    "results = hindex.query(v)\n",
    "result_print(results)\n"
   ]
  },
  {
   "cell_type": "code",
   "execution_count": 10,
   "metadata": {},
   "outputs": [],
   "source": [
    "# clean up\n",
    "hindex.delete()\n"
   ]
  },
  {
   "cell_type": "markdown",
   "metadata": {},
   "source": [
    "### Working with JSON\n",
    "\n",
    "JSON is best suited for use cases with the following characteristics:\n",
    "- Ease of use and data model flexibility are top concerns\n",
    "- Application data is already native JSON\n",
    "- Replacing another document storage/db solution"
   ]
  },
  {
   "cell_type": "code",
   "execution_count": 11,
   "metadata": {},
   "outputs": [],
   "source": [
    "# define the json index schema\n",
    "json_schema = {\n",
    "    \"index\": {\n",
    "        \"name\": \"user-json\",\n",
    "        \"prefix\": \"user-json-docs\",\n",
    "        \"storage_type\": \"json\", # JSON storage type\n",
    "    },\n",
    "    \"fields\": [\n",
    "        {\"name\": \"user\", \"type\": \"tag\"},\n",
    "        {\"name\": \"credit_score\", \"type\": \"tag\"},\n",
    "        {\"name\": \"job\", \"type\": \"text\"},\n",
    "        {\"name\": \"age\", \"type\": \"numeric\"},\n",
    "        {\"name\": \"office_location\", \"type\": \"geo\"},\n",
    "        {\n",
    "            \"name\": \"user_embedding\",\n",
    "            \"type\": \"vector\",\n",
    "            \"attrs\": {\n",
    "                \"dims\": 3,\n",
    "                \"distance_metric\": \"cosine\",\n",
    "                \"algorithm\": \"flat\",\n",
    "                \"datatype\": \"float32\"\n",
    "            }\n",
    "\n",
    "        }\n",
    "    ],\n",
    "}"
   ]
  },
  {
   "cell_type": "code",
   "execution_count": 12,
   "metadata": {},
   "outputs": [],
   "source": [
    "# construct a search index from the json schema\n",
    "jindex = SearchIndex.from_dict(json_schema, redis_url=\"redis://localhost:6379\")\n",
    "\n",
    "# create the index (no data yet)\n",
    "jindex.create(overwrite=True)"
   ]
  },
  {
   "cell_type": "code",
   "execution_count": 13,
   "metadata": {},
   "outputs": [
    {
     "name": "stdout",
     "output_type": "stream",
     "text": [
      "13:02:56 [RedisVL] INFO   Indices:\n",
      "13:02:56 [RedisVL] INFO   1. user-json\n"
     ]
    }
   ],
   "source": [
    "# note the multiple indices in the same database\n",
    "!rvl index listall"
   ]
  },
  {
   "cell_type": "markdown",
   "metadata": {},
   "source": [
    "#### Vectors as float arrays\n",
    "Vectorized data stored in JSON must be stored as a pure array (python list) of floats. We will modify our sample data to account for this below:"
   ]
  },
  {
   "cell_type": "code",
   "execution_count": 14,
   "metadata": {},
   "outputs": [],
   "source": [
    "json_data = data.copy()\n",
    "\n",
    "for d in json_data:\n",
    "    d['user_embedding'] = buffer_to_array(d['user_embedding'], dtype='float32')"
   ]
  },
  {
   "cell_type": "code",
   "execution_count": 15,
   "metadata": {},
   "outputs": [
    {
     "data": {
      "text/plain": [
       "{'user': 'john',\n",
       " 'age': 18,\n",
       " 'job': 'engineer',\n",
       " 'credit_score': 'high',\n",
       " 'office_location': '-122.4194,37.7749',\n",
       " 'user_embedding': [0.10000000149011612, 0.10000000149011612, 0.5],\n",
       " 'last_updated': 1741627789}"
      ]
     },
     "execution_count": 15,
     "metadata": {},
     "output_type": "execute_result"
    }
   ],
   "source": [
    "# inspect a single JSON record\n",
    "json_data[0]"
   ]
  },
  {
   "cell_type": "code",
   "execution_count": 16,
   "metadata": {},
   "outputs": [],
   "source": [
    "keys = jindex.load(json_data)"
   ]
  },
  {
   "cell_type": "code",
   "execution_count": 17,
   "metadata": {},
   "outputs": [
    {
     "data": {
      "text/html": [
       "<table><tr><th>vector_distance</th><th>user</th><th>credit_score</th><th>age</th><th>job</th><th>office_location</th></tr><tr><td>0</td><td>john</td><td>high</td><td>18</td><td>engineer</td><td>-122.4194,37.7749</td></tr><tr><td>0.109129190445</td><td>tyler</td><td>high</td><td>100</td><td>engineer</td><td>-122.0839,37.3861</td></tr></table>"
      ],
      "text/plain": [
       "<IPython.core.display.HTML object>"
      ]
     },
     "metadata": {},
     "output_type": "display_data"
    }
   ],
   "source": [
    "# we can now run the exact same query as above\n",
    "result_print(jindex.query(v))"
   ]
  },
  {
   "cell_type": "markdown",
   "metadata": {},
   "source": [
    "## Cleanup"
   ]
  },
  {
   "cell_type": "code",
   "execution_count": 18,
   "metadata": {},
   "outputs": [],
   "source": [
    "jindex.delete()"
   ]
  },
  {
   "cell_type": "markdown",
   "metadata": {},
   "source": [
    "# Working with nested data in JSON\n",
    "\n",
    "Redis also supports native **JSON** objects. These can be multi-level (nested) objects, with full JSONPath support for updating/retrieving sub elements:\n",
    "\n",
    "```json\n",
    "{\n",
    "    \"name\": \"Specialized Stump jumper\",\n",
    "    \"metadata\": {\n",
    "        \"model\": \"Stumpjumper\",\n",
    "        \"brand\": \"Specialized\",\n",
    "        \"type\": \"Enduro bikes\",\n",
    "        \"price\": 3000\n",
    "    },\n",
    "}\n",
    "```\n",
    "\n",
    "#### Full JSON Path support\n",
    "Because Redis enables full JSON path support, when creating an index schema, elements need to be indexed and selected by their path with the desired `name` AND `path` that points to where the data is located within the objects.\n",
    "\n",
    "> By default, RedisVL will assume the path as `$.{name}` if not provided in JSON fields schema. If nested provide path as `$.object.attribute`\n",
    "\n",
    "### As an example:"
   ]
  },
  {
   "cell_type": "code",
   "execution_count": 19,
   "metadata": {},
   "outputs": [
    {
     "name": "stderr",
     "output_type": "stream",
     "text": [
      "/Users/tyler.hutcherson/Documents/AppliedAI/redis-vl-python/.venv/lib/python3.13/site-packages/tqdm/auto.py:21: TqdmWarning: IProgress not found. Please update jupyter and ipywidgets. See https://ipywidgets.readthedocs.io/en/stable/user_install.html\n",
      "  from .autonotebook import tqdm as notebook_tqdm\n"
     ]
    },
    {
     "name": "stdout",
     "output_type": "stream",
     "text": [
      "13:02:58 sentence_transformers.SentenceTransformer INFO   Use pytorch device_name: mps\n",
      "13:02:58 sentence_transformers.SentenceTransformer INFO   Load pretrained SentenceTransformer: sentence-transformers/all-mpnet-base-v2\n"
     ]
    },
    {
     "name": "stderr",
     "output_type": "stream",
     "text": [
      "Batches: 100%|██████████| 1/1 [00:00<00:00,  7.23it/s]\n",
      "Batches: 100%|██████████| 1/1 [00:00<00:00, 12.93it/s]\n",
      "Batches: 100%|██████████| 1/1 [00:00<00:00, 14.10it/s]\n"
     ]
    }
   ],
   "source": [
    "from redisvl.utils.vectorize import HFTextVectorizer\n",
    "\n",
    "emb_model = HFTextVectorizer()\n",
    "\n",
    "bike_data = [\n",
    "    {\n",
    "        \"name\": \"Specialized Stump jumper\",\n",
    "        \"metadata\": {\n",
    "            \"model\": \"Stumpjumper\",\n",
    "            \"brand\": \"Specialized\",\n",
    "            \"type\": \"Enduro bikes\",\n",
    "            \"price\": 3000\n",
    "        },\n",
    "        \"description\": \"The Specialized Stumpjumper is a versatile enduro bike that dominates both climbs and descents. Features a FACT 11m carbon fiber frame, FOX FLOAT suspension with 160mm travel, and SRAM X01 Eagle drivetrain. The asymmetric frame design and internal storage compartment make it a practical choice for all-day adventures.\"\n",
    "    },\n",
    "    {\n",
    "        \"name\": \"bike_2\",\n",
    "        \"metadata\": {\n",
    "            \"model\": \"Slash\",\n",
    "            \"brand\": \"Trek\",\n",
    "            \"type\": \"Enduro bikes\",\n",
    "            \"price\": 5000\n",
    "        },\n",
    "        \"description\": \"Trek's Slash is built for aggressive enduro riding and racing. Featuring Trek's Alpha Aluminum frame with RE:aktiv suspension technology, 160mm travel, and Knock Block frame protection. Equipped with Bontrager components and a Shimano XT drivetrain, this bike excels on technical trails and enduro race courses.\"\n",
    "    }\n",
    "]\n",
    "\n",
    "bike_data = [{**d, \"bike_embedding\": emb_model.embed(d[\"description\"])} for d in bike_data]\n",
    "\n",
    "bike_schema = {\n",
    "    \"index\": {\n",
    "        \"name\": \"bike-json\",\n",
    "        \"prefix\": \"bike-json\",\n",
    "        \"storage_type\": \"json\", # JSON storage type\n",
    "    },\n",
    "    \"fields\": [\n",
    "        {\n",
    "            \"name\": \"model\",\n",
    "            \"type\": \"tag\",\n",
    "            \"path\": \"$.metadata.model\" # note the '$'\n",
    "        },\n",
    "        {\n",
    "            \"name\": \"brand\",\n",
    "            \"type\": \"tag\",\n",
    "            \"path\": \"$.metadata.brand\"\n",
    "        },\n",
    "        {\n",
    "            \"name\": \"price\",\n",
    "            \"type\": \"numeric\",\n",
    "            \"path\": \"$.metadata.price\"\n",
    "        },\n",
    "        {\n",
    "            \"name\": \"bike_embedding\",\n",
    "            \"type\": \"vector\",\n",
    "            \"attrs\": {\n",
    "                \"dims\": len(bike_data[0][\"bike_embedding\"]),\n",
    "                \"distance_metric\": \"cosine\",\n",
    "                \"algorithm\": \"flat\",\n",
    "                \"datatype\": \"float32\"\n",
    "            }\n",
    "\n",
    "        }\n",
    "    ],\n",
    "}"
   ]
  },
  {
   "cell_type": "code",
   "execution_count": 20,
   "metadata": {},
   "outputs": [],
   "source": [
    "# construct a search index from the json schema\n",
    "bike_index = SearchIndex.from_dict(bike_schema, redis_url=\"redis://localhost:6379\")\n",
    "\n",
    "# create the index (no data yet)\n",
    "bike_index.create(overwrite=True)"
   ]
  },
  {
   "cell_type": "code",
   "execution_count": 21,
   "metadata": {},
   "outputs": [
    {
     "data": {
      "text/plain": [
       "['bike-json:01JY4J9M48CXF7F4Y6HRGEMT9B',\n",
       " 'bike-json:01JY4J9M48RRY6F80HR82CVZ5G']"
      ]
     },
     "execution_count": 21,
     "metadata": {},
     "output_type": "execute_result"
    }
   ],
   "source": [
    "bike_index.load(bike_data)"
   ]
  },
  {
   "cell_type": "code",
   "execution_count": 22,
   "metadata": {},
   "outputs": [
    {
     "name": "stderr",
     "output_type": "stream",
     "text": [
      "Batches: 100%|██████████| 1/1 [00:00<00:00, 11.72it/s]\n"
     ]
    }
   ],
   "source": [
    "from redisvl.query import VectorQuery\n",
    "\n",
    "vec = emb_model.embed(\"I'd like a bike for aggressive riding\")\n",
    "\n",
    "v = VectorQuery(\n",
    "    vector=vec,\n",
    "    vector_field_name=\"bike_embedding\",\n",
    "    return_fields=[\n",
    "        \"brand\",\n",
    "        \"name\",\n",
    "        \"$.metadata.type\"\n",
    "    ]\n",
    ")\n",
    "\n",
    "\n",
    "results = bike_index.query(v)"
   ]
  },
  {
   "cell_type": "markdown",
   "metadata": {},
   "source": [
    "**Note:** As shown in the example if you want to retrieve a field from json object that was not indexed you will also need to supply the full path as with `$.metadata.type`."
   ]
  },
  {
   "cell_type": "code",
   "execution_count": 23,
   "metadata": {},
   "outputs": [
    {
     "data": {
      "text/plain": [
       "[{'id': 'bike-json:01JY4J9M48RRY6F80HR82CVZ5G',\n",
       "  'vector_distance': '0.519989132881',\n",
       "  'brand': 'Trek',\n",
       "  '$.metadata.type': 'Enduro bikes'},\n",
       " {'id': 'bike-json:01JY4J9M48CXF7F4Y6HRGEMT9B',\n",
       "  'vector_distance': '0.657624304295',\n",
       "  'brand': 'Specialized',\n",
       "  '$.metadata.type': 'Enduro bikes'}]"
      ]
     },
     "execution_count": 23,
     "metadata": {},
     "output_type": "execute_result"
    }
   ],
   "source": [
    "results"
   ]
  },
  {
   "cell_type": "markdown",
   "metadata": {},
   "source": [
    "# Cleanup"
   ]
  },
  {
   "cell_type": "code",
   "execution_count": 24,
   "metadata": {},
   "outputs": [],
   "source": [
    "bike_index.delete()"
   ]
  }
 ],
 "metadata": {
  "kernelspec": {
   "display_name": ".venv",
   "language": "python",
   "name": "python3"
  },
  "language_info": {
   "codemirror_mode": {
    "name": "ipython",
    "version": 3
   },
   "file_extension": ".py",
   "mimetype": "text/x-python",
   "name": "python",
   "nbconvert_exporter": "python",
   "pygments_lexer": "ipython3",
   "version": "3.13.2"
  },
  "orig_nbformat": 4
 },
 "nbformat": 4,
 "nbformat_minor": 2
}
