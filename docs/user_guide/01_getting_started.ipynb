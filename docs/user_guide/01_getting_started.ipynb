{
 "cells": [
  {
   "attachments": {},
   "cell_type": "markdown",
   "metadata": {},
   "source": [
    "# Getting Started with RedisVL\n",
    "`redisvl` is a versatile Python library with an integrated CLI, designed to enhance AI applications using Redis. This guide will walk you through the following steps:\n",
    "\n",
    "1. Defining an `IndexSchema`\n",
    "2. Preparing a sample dataset\n",
    "3. Creating a `SearchIndex` object\n",
    "4. Testing `rvl` CLI functionality\n",
    "5. Loading the sample data\n",
    "6. Building `VectorQuery` objects and executing searches\n",
    "7. Updating a `SearchIndex` object\n",
    "\n",
    "...and more!\n",
    "\n",
    "Prerequisites:\n",
    "- Ensure `redisvl` is installed in your Python environment.\n",
    "- Have a running instance of [Redis Stack](https://redis.io/docs/install/install-stack/) or [Redis Cloud](https://redis.io/cloud).\n",
    "\n",
    "_____"
   ]
  },
  {
   "attachments": {},
   "cell_type": "markdown",
   "metadata": {},
   "source": [
    "## Define an `IndexSchema`\n",
    "\n",
    "The `IndexSchema` maintains crucial **index configuration** and **field definitions** to\n",
    "enable search with Redis. For ease of use, the schema can be constructed from a\n",
    "python dictionary or yaml file.\n",
    "\n",
    "### Example Schema Creation\n",
    "Consider a dataset with user information, including `job`, `age`, `credit_score`,\n",
    "and a 3-dimensional `user_embedding` vector.\n",
    "\n",
    "You must also decide on a Redis index name and key prefix to use for this\n",
    "dataset. Below are example schema definitions in both YAML and Dict format.\n",
    "\n",
    "**YAML Definition:**\n",
    "\n",
    "```yaml\n",
    "version: '0.1.0'\n",
    "\n",
    "index:\n",
    "  name: user_simple\n",
    "  prefix: user_simple_docs\n",
    "\n",
    "fields:\n",
    "    - name: user\n",
    "      type: tag\n",
    "    - name: credit_score\n",
    "      type: tag\n",
    "    - name: job\n",
    "      type: text\n",
    "    - name: age\n",
    "      type: numeric\n",
    "    - name: user_embedding\n",
    "      type: vector\n",
    "      attrs:\n",
    "        algorithm: flat\n",
    "        dims: 3\n",
    "        distance_metric: cosine\n",
    "        datatype: float32\n",
    "```\n",
    "> Store this in a local file, such as `schema.yaml`, for RedisVL usage."
   ]
  },
  {
   "cell_type": "markdown",
   "metadata": {},
   "source": [
    "**Python Dictionary:**"
   ]
  },
  {
   "cell_type": "code",
   "execution_count": 1,
   "metadata": {},
   "outputs": [],
   "source": [
    "schema = {\n",
    "    \"index\": {\n",
    "        \"name\": \"user_simple\",\n",
    "        \"prefix\": \"user_simple_docs\",\n",
    "    },\n",
    "    \"fields\": [\n",
    "        {\"name\": \"user\", \"type\": \"tag\"},\n",
    "        {\"name\": \"credit_score\", \"type\": \"tag\"},\n",
    "        {\"name\": \"job\", \"type\": \"text\"},\n",
    "        {\"name\": \"age\", \"type\": \"numeric\"},\n",
    "        {\n",
    "            \"name\": \"user_embedding\",\n",
    "            \"type\": \"vector\",\n",
    "            \"attrs\": {\n",
    "                \"dims\": 3,\n",
    "                \"distance_metric\": \"cosine\",\n",
    "                \"algorithm\": \"flat\",\n",
    "                \"datatype\": \"float32\"\n",
    "            }\n",
    "        }\n",
    "    ]\n",
    "}"
   ]
  },
  {
   "attachments": {},
   "cell_type": "markdown",
   "metadata": {},
   "source": [
    "## Sample Dataset Preparation\n",
    "\n",
    "Below, create a mock dataset with `user`, `job`, `age`, `credit_score`, and\n",
    "`user_embedding` fields. The `user_embedding` vectors are synthetic examples\n",
    "for demonstration purposes.\n",
    "\n",
    "For more information on creating real-world embeddings, refer to this\n",
    "[article](https://mlops.community/vector-similarity-search-from-basics-to-production/)."
   ]
  },
  {
   "cell_type": "code",
   "execution_count": 2,
   "metadata": {},
   "outputs": [],
   "source": [
    "import numpy as np\n",
    "\n",
    "\n",
    "data = [\n",
    "    {\n",
    "        'user': 'john',\n",
    "        'age': 1,\n",
    "        'job': 'engineer',\n",
    "        'credit_score': 'high',\n",
    "        'user_embedding': np.array([0.1, 0.1, 0.5], dtype=np.float32).tobytes()\n",
    "    },\n",
    "    {\n",
    "        'user': 'mary',\n",
    "        'age': 2,\n",
    "        'job': 'doctor',\n",
    "        'credit_score': 'low',\n",
    "        'user_embedding': np.array([0.1, 0.1, 0.5], dtype=np.float32).tobytes()\n",
    "    },\n",
    "    {\n",
    "        'user': 'joe',\n",
    "        'age': 3,\n",
    "        'job': 'dentist',\n",
    "        'credit_score': 'medium',\n",
    "        'user_embedding': np.array([0.9, 0.9, 0.1], dtype=np.float32).tobytes()\n",
    "    }\n",
    "]"
   ]
  },
  {
   "attachments": {},
   "cell_type": "markdown",
   "metadata": {},
   "source": [
    ">As seen above, the sample `user_embedding` vectors are converted into bytes. Using the `NumPy`, this is fairly trivial."
   ]
  },
  {
   "attachments": {},
   "cell_type": "markdown",
   "metadata": {},
   "source": [
    "## Create a `SearchIndex`\n",
    "\n",
    "With the schema and sample dataset ready, create a `SearchIndex`."
   ]
  },
  {
   "cell_type": "markdown",
   "metadata": {},
   "source": [
    "### Bring your own Redis connection instance\n",
    "\n",
    "This is ideal in scenarios where you have custom settings on the connection instance or if your application will share a connection pool:"
   ]
  },
  {
   "cell_type": "code",
   "execution_count": 3,
   "metadata": {},
   "outputs": [],
   "source": [
    "from redisvl.index import SearchIndex\n",
    "from redis import Redis\n",
    "\n",
    "client = Redis.from_url(\"redis://localhost:6379\")\n",
    "index = SearchIndex.from_dict(schema, redis_client=client, validate_on_load=True)"
   ]
  },
  {
   "cell_type": "markdown",
   "metadata": {},
   "source": [
    "### Let the index manage the connection instance\n",
    "\n",
    "This is ideal for simple cases:"
   ]
  },
  {
   "cell_type": "code",
   "execution_count": 4,
   "metadata": {},
   "outputs": [],
   "source": [
    "index = SearchIndex.from_dict(schema, redis_url=\"redis://localhost:6379\", validate_on_load=True)\n",
    "\n",
    "# If you don't specify a client or Redis URL, the index will attempt to\n",
    "# connect to Redis at the default address \"redis://localhost:6379\"."
   ]
  },
  {
   "cell_type": "markdown",
   "metadata": {},
   "source": [
    "### Create the index\n",
    "\n",
    "Now that we are connected to Redis, we need to run the create command."
   ]
  },
  {
   "cell_type": "code",
   "execution_count": 5,
   "metadata": {},
   "outputs": [
    {
     "name": "stdout",
     "output_type": "stream",
     "text": [
      "13:00:22 redisvl.index.index INFO   Index already exists, overwriting.\n"
     ]
    }
   ],
   "source": [
    "index.create(overwrite=True)"
   ]
  },
  {
   "cell_type": "markdown",
   "metadata": {},
   "source": [
    ">Note that at this point, the index has no entries. Data loading follows."
   ]
  },
  {
   "cell_type": "markdown",
   "metadata": {},
   "source": [
    "## Inspect with the `rvl` CLI\n",
    "Use the `rvl` CLI to inspect the created index and its fields:"
   ]
  },
  {
   "cell_type": "code",
   "execution_count": 6,
   "metadata": {},
   "outputs": [
    {
     "name": "stdout",
     "output_type": "stream",
     "text": [
      "13:00:24 [RedisVL] INFO   Indices:\n",
      "13:00:24 [RedisVL] INFO   1. user_simple\n"
     ]
    }
   ],
   "source": [
    "!rvl index listall"
   ]
  },
  {
   "cell_type": "code",
   "execution_count": 7,
   "metadata": {},
   "outputs": [
    {
     "name": "stdout",
     "output_type": "stream",
     "text": [
      "\n",
      "\n",
      "Index Information:\n",
      "╭──────────────────────┬──────────────────────┬──────────────────────┬──────────────────────┬──────────────────────╮\n",
      "│ Index Name           │ Storage Type         │ Prefixes             │ Index Options        │ Indexing             │\n",
      "├──────────────────────┼──────────────────────┼──────────────────────┼──────────────────────┼──────────────────────┤\n",
      "| user_simple          | HASH                 | ['user_simple_docs'] | []                   | 0                    |\n",
      "╰──────────────────────┴──────────────────────┴──────────────────────┴──────────────────────┴──────────────────────╯\n",
      "Index Fields:\n",
      "╭─────────────────┬─────────────────┬─────────────────┬─────────────────┬─────────────────┬─────────────────┬─────────────────┬─────────────────┬─────────────────┬─────────────────┬─────────────────╮\n",
      "│ Name            │ Attribute       │ Type            │ Field Option    │ Option Value    │ Field Option    │ Option Value    │ Field Option    │ Option Value    │ Field Option    │ Option Value    │\n",
      "├─────────────────┼─────────────────┼─────────────────┼─────────────────┼─────────────────┼─────────────────┼─────────────────┼─────────────────┼─────────────────┼─────────────────┼─────────────────┤\n",
      "│ user            │ user            │ TAG             │ SEPARATOR       │ ,               │                 │                 │                 │                 │                 │                 │\n",
      "│ credit_score    │ credit_score    │ TAG             │ SEPARATOR       │ ,               │                 │                 │                 │                 │                 │                 │\n",
      "│ job             │ job             │ TEXT            │ WEIGHT          │ 1               │                 │                 │                 │                 │                 │                 │\n",
      "│ age             │ age             │ NUMERIC         │                 │                 │                 │                 │                 │                 │                 │                 │\n",
      "│ user_embedding  │ user_embedding  │ VECTOR          │ algorithm       │ FLAT            │ data_type       │ FLOAT32         │ dim             │ 3               │ distance_metric │ COSINE          │\n",
      "╰─────────────────┴─────────────────┴─────────────────┴─────────────────┴─────────────────┴─────────────────┴─────────────────┴─────────────────┴─────────────────┴─────────────────┴─────────────────╯\n"
     ]
    }
   ],
   "source": [
    "!rvl index info -i user_simple"
   ]
  },
  {
   "cell_type": "markdown",
   "metadata": {},
   "source": [
    "## Load Data to `SearchIndex`\n",
    "\n",
    "Load the sample dataset to Redis.\n",
    "\n",
    "### Validate data entries on load\n",
    "RedisVL uses pydantic validation under the hood to ensure loaded data is valid and confirms to your schema. This setting is optional and can be configured in the `SearchIndex` class."
   ]
  },
  {
   "cell_type": "code",
   "execution_count": 8,
   "metadata": {},
   "outputs": [
    {
     "name": "stdout",
     "output_type": "stream",
     "text": [
      "['user_simple_docs:01JY4J4Y08GFY10VMB9D4YDMZQ', 'user_simple_docs:01JY4J4Y0AY2MKJ24QXQS2Q2YS', 'user_simple_docs:01JY4J4Y0A9GFF2XG1R81EFD4Z']\n"
     ]
    }
   ],
   "source": [
    "keys = index.load(data)\n",
    "\n",
    "print(keys)"
   ]
  },
  {
   "cell_type": "markdown",
   "metadata": {},
   "source": [
    ">By default, `load` will create a unique Redis key as a combination of the index key `prefix` and a random ULID. You can also customize the key by providing direct keys or pointing to a specified `id_field` on load."
   ]
  },
  {
   "cell_type": "markdown",
   "metadata": {},
   "source": [
    "### Load INVALID data\n",
    "This will raise a `SchemaValidationError` if `validate_on_load` is set to true in the `SearchIndex` class."
   ]
  },
  {
   "cell_type": "code",
   "execution_count": 9,
   "metadata": {},
   "outputs": [
    {
     "name": "stdout",
     "output_type": "stream",
     "text": [
      "13:00:27 redisvl.index.index ERROR   Data validation failed during load operation\n",
      "Schema validation failed for object at index 0. Field 'user_embedding' expects bytes (vector data), but got boolean value 'True'. If this should be a vector field, provide a list of numbers or bytes. If this should be a different field type, check your schema definition.\n",
      "Object data: {\n",
      "  \"user_embedding\": true\n",
      "}\n",
      "Hint: Check that your data types match the schema field definitions. Use index.schema.fields to view expected field types.\n"
     ]
    }
   ],
   "source": [
    "# NBVAL_SKIP\n",
    "\n",
    "try:\n",
    "    keys = index.load([{\"user_embedding\": True}])\n",
    "except Exception as e:\n",
    "    print(str(e))"
   ]
  },
  {
   "cell_type": "markdown",
   "metadata": {},
   "source": [
    "### Upsert the index with new data\n",
    "Upsert data by using the `load` method again:"
   ]
  },
  {
   "cell_type": "code",
   "execution_count": 10,
   "metadata": {},
   "outputs": [
    {
     "name": "stdout",
     "output_type": "stream",
     "text": [
      "['user_simple_docs:01JY4J4Y0N4CNR9Y6R67MMVG7Q']\n"
     ]
    }
   ],
   "source": [
    "# Add more data\n",
    "new_data = [{\n",
    "    'user': 'tyler',\n",
    "    'age': 9,\n",
    "    'job': 'engineer',\n",
    "    'credit_score': 'high',\n",
    "    'user_embedding': np.array([0.1, 0.3, 0.5], dtype=np.float32).tobytes()\n",
    "}]\n",
    "keys = index.load(new_data)\n",
    "\n",
    "print(keys)"
   ]
  },
  {
   "attachments": {},
   "cell_type": "markdown",
   "metadata": {},
   "source": [
    "## Creating `VectorQuery` Objects\n",
    "\n",
    "Next we will create a vector query object for our newly populated index. This example will use a simple vector to demonstrate how vector similarity works. Vectors in production will likely be much larger than 3 floats and often require Machine Learning models (i.e. Huggingface sentence transformers) or an embeddings API (Cohere, OpenAI). `redisvl` provides a set of [Vectorizers](https://docs.redisvl.com/en/latest/user_guide/vectorizers_04.html#openai) to assist in vector creation."
   ]
  },
  {
   "cell_type": "code",
   "execution_count": 11,
   "metadata": {},
   "outputs": [],
   "source": [
    "from redisvl.query import VectorQuery\n",
    "from jupyterutils import result_print\n",
    "\n",
    "query = VectorQuery(\n",
    "    vector=[0.1, 0.1, 0.5],\n",
    "    vector_field_name=\"user_embedding\",\n",
    "    return_fields=[\"user\", \"age\", \"job\", \"credit_score\", \"vector_distance\"],\n",
    "    num_results=3\n",
    ")"
   ]
  },
  {
   "cell_type": "markdown",
   "metadata": {},
   "source": [
    "### Executing queries\n",
    "With our `VectorQuery` object defined above, we can execute the query over the `SearchIndex` using the `query` method."
   ]
  },
  {
   "cell_type": "code",
   "execution_count": 12,
   "metadata": {},
   "outputs": [
    {
     "data": {
      "text/html": [
       "<table><tr><th>vector_distance</th><th>user</th><th>age</th><th>job</th><th>credit_score</th></tr><tr><td>0</td><td>john</td><td>1</td><td>engineer</td><td>high</td></tr><tr><td>0</td><td>mary</td><td>2</td><td>doctor</td><td>low</td></tr><tr><td>0</td><td>john</td><td>1</td><td>engineer</td><td>high</td></tr></table>"
      ],
      "text/plain": [
       "<IPython.core.display.HTML object>"
      ]
     },
     "metadata": {},
     "output_type": "display_data"
    }
   ],
   "source": [
    "results = index.query(query)\n",
    "result_print(results)"
   ]
  },
  {
   "cell_type": "markdown",
   "metadata": {},
   "source": [
    "## Using an Asynchronous Redis Client\n",
    "\n",
    "The `AsyncSearchIndex` class along with an async Redis python client allows for queries, index creation, and data loading to be done asynchronously. This is the\n",
    "recommended route for working with `redisvl` in production-like settings."
   ]
  },
  {
   "cell_type": "code",
   "execution_count": 13,
   "metadata": {},
   "outputs": [
    {
     "data": {
      "text/plain": [
       "{'index': {'name': 'user_simple', 'prefix': 'user_simple_docs'},\n",
       " 'fields': [{'name': 'user', 'type': 'tag'},\n",
       "  {'name': 'credit_score', 'type': 'tag'},\n",
       "  {'name': 'job', 'type': 'text'},\n",
       "  {'name': 'age', 'type': 'numeric'},\n",
       "  {'name': 'user_embedding',\n",
       "   'type': 'vector',\n",
       "   'attrs': {'dims': 3,\n",
       "    'distance_metric': 'cosine',\n",
       "    'algorithm': 'flat',\n",
       "    'datatype': 'float32'}}]}"
      ]
     },
     "execution_count": 13,
     "metadata": {},
     "output_type": "execute_result"
    }
   ],
   "source": [
    "schema"
   ]
  },
  {
   "cell_type": "code",
   "execution_count": 14,
   "metadata": {},
   "outputs": [],
   "source": [
    "from redisvl.index import AsyncSearchIndex\n",
    "from redis.asyncio import Redis\n",
    "\n",
    "client = Redis.from_url(\"redis://localhost:6379\")\n",
    "index = AsyncSearchIndex.from_dict(schema, redis_client=client)"
   ]
  },
  {
   "cell_type": "code",
   "execution_count": 15,
   "metadata": {},
   "outputs": [
    {
     "data": {
      "text/html": [
       "<table><tr><th>vector_distance</th><th>user</th><th>age</th><th>job</th><th>credit_score</th></tr><tr><td>0</td><td>john</td><td>1</td><td>engineer</td><td>high</td></tr><tr><td>0</td><td>mary</td><td>2</td><td>doctor</td><td>low</td></tr><tr><td>0</td><td>john</td><td>1</td><td>engineer</td><td>high</td></tr></table>"
      ],
      "text/plain": [
       "<IPython.core.display.HTML object>"
      ]
     },
     "metadata": {},
     "output_type": "display_data"
    }
   ],
   "source": [
    "# execute the vector query async\n",
    "results = await index.query(query)\n",
    "result_print(results)"
   ]
  },
  {
   "cell_type": "markdown",
   "metadata": {},
   "source": [
    "## Updating a schema\n",
    "In some scenarios, it makes sense to update the index schema. With Redis and `redisvl`, this is easy because Redis can keep the underlying data in place while you change or make updates to the index configuration."
   ]
  },
  {
   "cell_type": "markdown",
   "metadata": {},
   "source": [
    "So for our scenario, let's imagine we want to reindex this data in 2 ways:\n",
    "- by using a `Tag` type for `job` field instead of `Text`\n",
    "- by using an `hnsw` vector index for the `user_embedding` field instead of a `flat` vector index"
   ]
  },
  {
   "cell_type": "code",
   "execution_count": 16,
   "metadata": {},
   "outputs": [],
   "source": [
    "# Modify this schema to have what we want\n",
    "\n",
    "index.schema.remove_field(\"job\")\n",
    "index.schema.remove_field(\"user_embedding\")\n",
    "index.schema.add_fields([\n",
    "    {\"name\": \"job\", \"type\": \"tag\"},\n",
    "    {\n",
    "        \"name\": \"user_embedding\",\n",
    "        \"type\": \"vector\",\n",
    "        \"attrs\": {\n",
    "            \"dims\": 3,\n",
    "            \"distance_metric\": \"cosine\",\n",
    "            \"algorithm\": \"hnsw\",\n",
    "            \"datatype\": \"float32\"\n",
    "        }\n",
    "    }\n",
    "])"
   ]
  },
  {
   "cell_type": "code",
   "execution_count": 17,
   "metadata": {},
   "outputs": [
    {
     "name": "stdout",
     "output_type": "stream",
     "text": [
      "13:00:27 redisvl.index.index INFO   Index already exists, overwriting.\n"
     ]
    }
   ],
   "source": [
    "# Run the index update but keep underlying data in place\n",
    "await index.create(overwrite=True, drop=False)"
   ]
  },
  {
   "cell_type": "code",
   "execution_count": 18,
   "metadata": {},
   "outputs": [
    {
     "data": {
      "text/html": [
       "<table><tr><th>vector_distance</th><th>user</th><th>age</th><th>job</th><th>credit_score</th></tr><tr><td>0</td><td>mary</td><td>2</td><td>doctor</td><td>low</td></tr><tr><td>0</td><td>john</td><td>1</td><td>engineer</td><td>high</td></tr><tr><td>0</td><td>john</td><td>1</td><td>engineer</td><td>high</td></tr></table>"
      ],
      "text/plain": [
       "<IPython.core.display.HTML object>"
      ]
     },
     "metadata": {},
     "output_type": "display_data"
    }
   ],
   "source": [
    "# Execute the vector query async\n",
    "results = await index.query(query)\n",
    "result_print(results)"
   ]
  },
  {
   "cell_type": "markdown",
   "metadata": {},
   "source": [
    "## Check Index Stats\n",
    "Use the `rvl` CLI to check the stats for the index:"
   ]
  },
  {
   "cell_type": "code",
   "execution_count": 19,
   "metadata": {},
   "outputs": [
    {
     "name": "stdout",
     "output_type": "stream",
     "text": [
      "\n",
      "Statistics:\n",
      "╭─────────────────────────────┬────────────╮\n",
      "│ Stat Key                    │ Value      │\n",
      "├─────────────────────────────┼────────────┤\n",
      "│ num_docs                    │ 10         │\n",
      "│ num_terms                   │ 0          │\n",
      "│ max_doc_id                  │ 10         │\n",
      "│ num_records                 │ 50         │\n",
      "│ percent_indexed             │ 1          │\n",
      "│ hash_indexing_failures      │ 0          │\n",
      "│ number_of_uses              │ 2          │\n",
      "│ bytes_per_record_avg        │ 19.5200004 │\n",
      "│ doc_table_size_mb           │ 0.00105857 │\n",
      "│ inverted_sz_mb              │ 9.30786132 │\n",
      "│ key_table_size_mb           │ 4.70161437 │\n",
      "│ offset_bits_per_record_avg  │ nan        │\n",
      "│ offset_vectors_sz_mb        │ 0          │\n",
      "│ offsets_per_term_avg        │ 0          │\n",
      "│ records_per_doc_avg         │ 5          │\n",
      "│ sortable_values_size_mb     │ 0          │\n",
      "│ total_indexing_time         │ 0.16899999 │\n",
      "│ total_inverted_index_blocks │ 11         │\n",
      "│ vector_index_sz_mb          │ 0.23619842 │\n",
      "╰─────────────────────────────┴────────────╯\n"
     ]
    }
   ],
   "source": [
    "!rvl stats -i user_simple"
   ]
  },
  {
   "cell_type": "markdown",
   "metadata": {},
   "source": [
    "## Cleanup"
   ]
  },
  {
   "cell_type": "markdown",
   "metadata": {},
   "source": [
    "Below we will clean up after our work. First, you can flush all data from Redis associated with the index by\n",
    "using the `.clear()` method. This will leave the secondary index in place for future insertions or updates.\n",
    "\n",
    "But if you want to clean up everything, including the index, just use `.delete()`\n",
    "which will by default remove the index AND the underlying data."
   ]
  },
  {
   "cell_type": "code",
   "execution_count": 20,
   "metadata": {},
   "outputs": [
    {
     "data": {
      "text/plain": [
       "10"
      ]
     },
     "execution_count": 20,
     "metadata": {},
     "output_type": "execute_result"
    }
   ],
   "source": [
    "# Clear all data from Redis associated with the index\n",
    "await index.clear()"
   ]
  },
  {
   "cell_type": "code",
   "execution_count": 21,
   "metadata": {},
   "outputs": [
    {
     "data": {
      "text/plain": [
       "True"
      ]
     },
     "execution_count": 21,
     "metadata": {},
     "output_type": "execute_result"
    }
   ],
   "source": [
    "# Butm the index is still in place\n",
    "await index.exists()"
   ]
  },
  {
   "cell_type": "code",
   "execution_count": 22,
   "metadata": {},
   "outputs": [],
   "source": [
    "# Remove / delete the index in its entirety\n",
    "await index.delete()"
   ]
  }
 ],
 "metadata": {
  "kernelspec": {
   "display_name": ".venv",
   "language": "python",
   "name": "python3"
  },
  "language_info": {
   "codemirror_mode": {
    "name": "ipython",
    "version": 3
   },
   "file_extension": ".py",
   "mimetype": "text/x-python",
   "name": "python",
   "nbconvert_exporter": "python",
   "pygments_lexer": "ipython3",
   "version": "3.13.2"
  },
  "orig_nbformat": 4
 },
 "nbformat": 4,
 "nbformat_minor": 2
}
