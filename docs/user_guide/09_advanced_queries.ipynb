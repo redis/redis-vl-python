{
 "cells": [
  {
   "cell_type": "markdown",
   "metadata": {},
   "source": [
    "# Advanced Query Types\n",
    "\n",
    "In this notebook, we will explore advanced query types available in RedisVL:\n",
    "\n",
    "1. **`TextQuery`**: Full text search with advanced scoring\n",
    "2. **`HybridQuery`**: Combines text and vector search for hybrid retrieval\n",
    "3. **`MultiVectorQuery`**: Search over multiple vector fields simultaneously\n",
    "\n",
    "These query types are powerful tools for building sophisticated search applications that go beyond simple vector similarity search.\n",
    "\n",
    "Prerequisites:\n",
    "- Ensure `redisvl` is installed in your Python environment.\n",
    "- Have a running instance of [Redis Stack](https://redis.io/docs/install/install-stack/) or [Redis Cloud](https://redis.io/cloud).\n"
   ]
  },
  {
   "cell_type": "markdown",
   "metadata": {},
   "source": [
    "## Setup and Data Preparation\n",
    "\n",
    "First, let's create a schema and prepare sample data that includes text fields, numeric fields, and vector fields."
   ]
  },
  {
   "cell_type": "code",
   "execution_count": 1,
   "metadata": {},
   "outputs": [],
   "source": [
    "import numpy as np\n",
    "from jupyterutils import result_print\n",
    "\n",
    "# Sample data with text descriptions, categories, and vectors\n",
    "data = [\n",
    "    {\n",
    "        'product_id': 'prod_1',\n",
    "        'brief_description': 'comfortable running shoes for athletes',\n",
    "        'full_description': 'Engineered with a dual-layer EVA foam midsole and FlexWeave breathable mesh upper, these running shoes deliver responsive cushioning for long-distance runs. The anatomical footbed adapts to your stride while the carbon rubber outsole provides superior traction on varied terrain.',\n",
    "        'category': 'footwear',\n",
    "        'price': 89.99,\n",
    "        'rating': 4.5,\n",
    "        'text_embedding': np.array([0.1, 0.2, 0.1], dtype=np.float32).tobytes(),\n",
    "        'image_embedding': np.array([0.8, 0.1], dtype=np.float32).tobytes(),\n",
    "    },\n",
    "    {\n",
    "        'product_id': 'prod_2',\n",
    "        'brief_description': 'lightweight running jacket with water resistance',\n",
    "        'full_description': 'Stay protected with this ultralight 2.5-layer DWR-coated shell featuring laser-cut ventilation zones and reflective piping for low-light visibility. Packs into its own chest pocket and weighs just 4.2 oz, making it ideal for unpredictable weather conditions.',\n",
    "        'category': 'outerwear',\n",
    "        'price': 129.99,\n",
    "        'rating': 4.8,\n",
    "        'text_embedding': np.array([0.2, 0.3, 0.2], dtype=np.float32).tobytes(),\n",
    "        'image_embedding': np.array([0.7, 0.2], dtype=np.float32).tobytes(),\n",
    "    },\n",
    "    {\n",
    "        'product_id': 'prod_3',\n",
    "        'brief_description': 'professional tennis racket for competitive players',\n",
    "        'full_description': 'Competition-grade racket featuring a 98 sq in head size, 16x19 string pattern, and aerospace-grade graphite frame that delivers explosive power with pinpoint control. Tournament-approved specs include 315g weight and 68 RA stiffness rating for advanced baseline play.',\n",
    "        'category': 'equipment',\n",
    "        'price': 199.99,\n",
    "        'rating': 4.9,\n",
    "        'text_embedding': np.array([0.9, 0.1, 0.05], dtype=np.float32).tobytes(),\n",
    "        'image_embedding': np.array([0.1, 0.9], dtype=np.float32).tobytes(),\n",
    "    },\n",
    "    {\n",
    "        'product_id': 'prod_4',\n",
    "        'brief_description': 'yoga mat with extra cushioning for comfort',\n",
    "        'full_description': 'Premium 8mm thick TPE yoga mat with dual-texture surface - smooth side for hot yoga flow and textured side for maximum grip during balancing poses. Closed-cell technology prevents moisture absorption while alignment markers guide proper positioning in asanas.',\n",
    "        'category': 'accessories',\n",
    "        'price': 39.99,\n",
    "        'rating': 4.3,\n",
    "        'text_embedding': np.array([0.15, 0.25, 0.15], dtype=np.float32).tobytes(),\n",
    "        'image_embedding': np.array([0.5, 0.5], dtype=np.float32).tobytes(),\n",
    "    },\n",
    "    {\n",
    "        'product_id': 'prod_5',\n",
    "        'brief_description': 'basketball shoes with excellent ankle support',\n",
    "        'full_description': 'High-top basketball sneakers with Zoom Air units in forefoot and heel, reinforced lateral sidewalls for explosive cuts, and herringbone traction pattern optimized for hardwood courts. The internal bootie construction and extended ankle collar provide lockdown support during aggressive drives.',\n",
    "        'category': 'footwear',\n",
    "        'price': 139.99,\n",
    "        'rating': 4.7,\n",
    "        'text_embedding': np.array([0.12, 0.18, 0.12], dtype=np.float32).tobytes(),\n",
    "        'image_embedding': np.array([0.75, 0.15], dtype=np.float32).tobytes(),\n",
    "    },\n",
    "    {\n",
    "        'product_id': 'prod_6',\n",
    "        'brief_description': 'swimming goggles with anti-fog coating',\n",
    "        'full_description': 'Low-profile competition goggles with curved polycarbonate lenses offering 180-degree peripheral vision and UV protection. Hydrophobic anti-fog coating lasts 10x longer than standard treatments, while the split silicone strap and interchangeable nose bridges ensure a watertight, custom fit.',\n",
    "        'category': 'accessories',\n",
    "        'price': 24.99,\n",
    "        'rating': 4.4,\n",
    "        'text_embedding': np.array([0.3, 0.1, 0.2], dtype=np.float32).tobytes(),\n",
    "        'image_embedding': np.array([0.2, 0.8], dtype=np.float32).tobytes(),\n",
    "    },\n",
    "]"
   ]
  },
  {
   "cell_type": "markdown",
   "metadata": {},
   "source": [
    "## Define the Schema\n",
    "\n",
    "Our schema includes:\n",
    "- **Tag fields**: `product_id`, `category`\n",
    "- **Text fields**: `brief_description` and `full_description` for full-text search\n",
    "- **Numeric fields**: `price`, `rating`\n",
    "- **Vector fields**: `text_embedding` (3 dimensions) and `image_embedding` (2 dimensions) for semantic search"
   ]
  },
  {
   "cell_type": "code",
   "execution_count": 2,
   "metadata": {},
   "outputs": [],
   "source": [
    "schema = {\n",
    "    \"index\": {\n",
    "        \"name\": \"advanced_queries\",\n",
    "        \"prefix\": \"products\",\n",
    "        \"storage_type\": \"hash\",\n",
    "    },\n",
    "    \"fields\": [\n",
    "        {\"name\": \"product_id\", \"type\": \"tag\"},\n",
    "        {\"name\": \"category\", \"type\": \"tag\"},\n",
    "        {\"name\": \"brief_description\", \"type\": \"text\"},\n",
    "        {\"name\": \"full_description\", \"type\": \"text\"},\n",
    "        {\"name\": \"price\", \"type\": \"numeric\"},\n",
    "        {\"name\": \"rating\", \"type\": \"numeric\"},\n",
    "        {\n",
    "            \"name\": \"text_embedding\",\n",
    "            \"type\": \"vector\",\n",
    "            \"attrs\": {\n",
    "                \"dims\": 3,\n",
    "                \"distance_metric\": \"cosine\",\n",
    "                \"algorithm\": \"flat\",\n",
    "                \"datatype\": \"float32\"\n",
    "            }\n",
    "        },\n",
    "        {\n",
    "            \"name\": \"image_embedding\",\n",
    "            \"type\": \"vector\",\n",
    "            \"attrs\": {\n",
    "                \"dims\": 2,\n",
    "                \"distance_metric\": \"cosine\",\n",
    "                \"algorithm\": \"flat\",\n",
    "                \"datatype\": \"float32\"\n",
    "            }\n",
    "        }\n",
    "    ],\n",
    "}"
   ]
  },
  {
   "cell_type": "markdown",
   "metadata": {},
   "source": [
    "## Create Index and Load Data"
   ]
  },
  {
   "cell_type": "code",
   "execution_count": 3,
   "metadata": {},
   "outputs": [
    {
     "name": "stdout",
     "output_type": "stream",
     "text": [
      "16:44:48 redisvl.index.index INFO   Index already exists, overwriting.\n",
      "Loaded 6 products into the index\n"
     ]
    }
   ],
   "source": [
    "from redisvl.index import SearchIndex\n",
    "\n",
    "# Create the search index\n",
    "index = SearchIndex.from_dict(schema, redis_url=\"redis://localhost:6379\")\n",
    "\n",
    "# Create the index and load data\n",
    "index.create(overwrite=True)\n",
    "keys = index.load(data)\n",
    "\n",
    "print(f\"Loaded {len(keys)} products into the index\")"
   ]
  },
  {
   "cell_type": "markdown",
   "metadata": {},
   "source": [
    "## 1. TextQuery: Full Text Search\n",
    "\n",
    "The `TextQuery` class enables full text search with advanced scoring algorithms. It's ideal for keyword-based search with relevance ranking.\n",
    "\n",
    "### Basic Text Search\n",
    "\n",
    "Let's search for products related to \"running shoes\":"
   ]
  },
  {
   "cell_type": "code",
   "execution_count": 4,
   "metadata": {},
   "outputs": [
    {
     "data": {
      "text/html": [
       "<table><tr><th>score</th><th>product_id</th><th>brief_description</th><th>category</th><th>price</th></tr><tr><td>6.238442187162249</td><td>prod_1</td><td>comfortable running shoes for athletes</td><td>footwear</td><td>89.99</td></tr><tr><td>6.238442187162249</td><td>prod_1</td><td>comfortable running shoes for athletes</td><td>footwear</td><td>89.99</td></tr><tr><td>6.238442187162249</td><td>prod_1</td><td>comfortable running shoes for athletes</td><td>footwear</td><td>89.99</td></tr><tr><td>6.238442187162249</td><td>prod_1</td><td>comfortable running shoes for athletes</td><td>footwear</td><td>89.99</td></tr><tr><td>2.18494190116289</td><td>prod_5</td><td>basketball shoes with excellent ankle support</td><td>footwear</td><td>139.99</td></tr></table>"
      ],
      "text/plain": [
       "<IPython.core.display.HTML object>"
      ]
     },
     "metadata": {},
     "output_type": "display_data"
    }
   ],
   "source": [
    "from redisvl.query import TextQuery\n",
    "\n",
    "# Create a text query\n",
    "text_query = TextQuery(\n",
    "    text=\"running shoes\",\n",
    "    text_field_name=\"brief_description\",\n",
    "    return_fields=[\"product_id\", \"brief_description\", \"category\", \"price\"],\n",
    "    num_results=5\n",
    ")\n",
    "\n",
    "results = index.query(text_query)\n",
    "result_print(results)"
   ]
  },
  {
   "cell_type": "markdown",
   "metadata": {},
   "source": [
    "### Text Search with Different Scoring Algorithms\n",
    "\n",
    "RedisVL supports multiple text scoring algorithms. Let's compare `BM25` and `TFIDF`:"
   ]
  },
  {
   "cell_type": "code",
   "execution_count": 5,
   "metadata": {},
   "outputs": [
    {
     "name": "stdout",
     "output_type": "stream",
     "text": [
      "Results with BM25 scoring:\n"
     ]
    },
    {
     "data": {
      "text/html": [
       "<table><tr><th>score</th><th>product_id</th><th>brief_description</th><th>price</th></tr><tr><td>0.23849538930358372</td><td>prod_1</td><td>comfortable running shoes for athletes</td><td>89.99</td></tr><tr><td>0.23849538930358372</td><td>prod_1</td><td>comfortable running shoes for athletes</td><td>89.99</td></tr><tr><td>0.23849538930358372</td><td>prod_1</td><td>comfortable running shoes for athletes</td><td>89.99</td></tr></table>"
      ],
      "text/plain": [
       "<IPython.core.display.HTML object>"
      ]
     },
     "metadata": {},
     "output_type": "display_data"
    }
   ],
   "source": [
    "# BM25 scoring (default)\n",
    "bm25_query = TextQuery(\n",
    "    text=\"comfortable shoes\",\n",
    "    text_field_name=\"brief_description\",\n",
    "    text_scorer=\"BM25\",\n",
    "    return_fields=[\"product_id\", \"brief_description\", \"price\"],\n",
    "    num_results=3\n",
    ")\n",
    "\n",
    "print(\"Results with BM25 scoring:\")\n",
    "results = index.query(bm25_query)\n",
    "result_print(results)"
   ]
  },
  {
   "cell_type": "code",
   "execution_count": 6,
   "metadata": {},
   "outputs": [
    {
     "name": "stdout",
     "output_type": "stream",
     "text": [
      "Results with TFIDF scoring:\n"
     ]
    },
    {
     "data": {
      "text/html": [
       "<table><tr><th>score</th><th>product_id</th><th>brief_description</th><th>price</th></tr><tr><td>2.0</td><td>prod_1</td><td>comfortable running shoes for athletes</td><td>89.99</td></tr><tr><td>2.0</td><td>prod_5</td><td>basketball shoes with excellent ankle support</td><td>139.99</td></tr><tr><td>2.0</td><td>prod_1</td><td>comfortable running shoes for athletes</td><td>89.99</td></tr></table>"
      ],
      "text/plain": [
       "<IPython.core.display.HTML object>"
      ]
     },
     "metadata": {},
     "output_type": "display_data"
    }
   ],
   "source": [
    "# TFIDF scoring\n",
    "tfidf_query = TextQuery(\n",
    "    text=\"comfortable shoes\",\n",
    "    text_field_name=\"brief_description\",\n",
    "    text_scorer=\"TFIDF\",\n",
    "    return_fields=[\"product_id\", \"brief_description\", \"price\"],\n",
    "    num_results=3\n",
    ")\n",
    "\n",
    "print(\"Results with TFIDF scoring:\")\n",
    "results = index.query(tfidf_query)\n",
    "result_print(results)"
   ]
  },
  {
   "cell_type": "markdown",
   "metadata": {},
   "source": [
    "### Text Search with Filters\n",
    "\n",
    "Combine text search with filters to narrow results:"
   ]
  },
  {
   "cell_type": "code",
   "execution_count": 7,
   "metadata": {},
   "outputs": [
    {
     "data": {
      "text/html": [
       "<table><tr><th>score</th><th>product_id</th><th>brief_description</th><th>category</th><th>price</th></tr><tr><td>4.119321352115177</td><td>prod_1</td><td>comfortable running shoes for athletes</td><td>footwear</td><td>89.99</td></tr><tr><td>4.119321352115177</td><td>prod_1</td><td>comfortable running shoes for athletes</td><td>footwear</td><td>89.99</td></tr><tr><td>4.119321352115177</td><td>prod_1</td><td>comfortable running shoes for athletes</td><td>footwear</td><td>89.99</td></tr><tr><td>4.119321352115177</td><td>prod_1</td><td>comfortable running shoes for athletes</td><td>footwear</td><td>89.99</td></tr><tr><td>3.2774128517443346</td><td>prod_5</td><td>basketball shoes with excellent ankle support</td><td>footwear</td><td>139.99</td></tr></table>"
      ],
      "text/plain": [
       "<IPython.core.display.HTML object>"
      ]
     },
     "metadata": {},
     "output_type": "display_data"
    }
   ],
   "source": [
    "from redisvl.query.filter import Tag, Num\n",
    "\n",
    "# Search for \"shoes\" only in the footwear category\n",
    "filtered_text_query = TextQuery(\n",
    "    text=\"shoes\",\n",
    "    text_field_name=\"brief_description\",\n",
    "    filter_expression=Tag(\"category\") == \"footwear\",\n",
    "    return_fields=[\"product_id\", \"brief_description\", \"category\", \"price\"],\n",
    "    num_results=5\n",
    ")\n",
    "\n",
    "results = index.query(filtered_text_query)\n",
    "result_print(results)"
   ]
  },
  {
   "cell_type": "code",
   "execution_count": 8,
   "metadata": {},
   "outputs": [
    {
     "data": {
      "text/html": [
       "<table><tr><th>score</th><th>product_id</th><th>brief_description</th><th>price</th></tr><tr><td>3.5111376924416335</td><td>prod_1</td><td>comfortable running shoes for athletes</td><td>89.99</td></tr><tr><td>3.5111376924416335</td><td>prod_1</td><td>comfortable running shoes for athletes</td><td>89.99</td></tr><tr><td>1.7555688462208168</td><td>prod_1</td><td>comfortable running shoes for athletes</td><td>89.99</td></tr><tr><td>1.7555688462208168</td><td>prod_1</td><td>comfortable running shoes for athletes</td><td>89.99</td></tr><tr><td>1.699617211717734</td><td>prod_4</td><td>yoga mat with extra cushioning for comfort</td><td>39.99</td></tr></table>"
      ],
      "text/plain": [
       "<IPython.core.display.HTML object>"
      ]
     },
     "metadata": {},
     "output_type": "display_data"
    }
   ],
   "source": [
    "# Search for products under $100\n",
    "price_filtered_query = TextQuery(\n",
    "    text=\"comfortable\",\n",
    "    text_field_name=\"brief_description\",\n",
    "    filter_expression=Num(\"price\") < 100,\n",
    "    return_fields=[\"product_id\", \"brief_description\", \"price\"],\n",
    "    num_results=5\n",
    ")\n",
    "\n",
    "results = index.query(price_filtered_query)\n",
    "result_print(results)"
   ]
  },
  {
   "cell_type": "markdown",
   "metadata": {},
   "source": [
    "### Text Search with Multiple Fields and Weights\n",
    "\n",
    "You can search across multiple text fields with different weights to prioritize certain fields.\n",
    "Here we'll prioritize the `brief_description` field and make text similarity in that field twice as important as text similarity in `full_description`:"
   ]
  },
  {
   "cell_type": "code",
   "execution_count": 9,
   "metadata": {},
   "outputs": [
    {
     "data": {
      "text/html": [
       "<table><tr><th>score</th><th>product_id</th><th>brief_description</th></tr><tr><td>5.276009030414375</td><td>prod_1</td><td>comfortable running shoes for athletes</td></tr><tr><td>5.276009030414375</td><td>prod_1</td><td>comfortable running shoes for athletes</td></tr><tr><td>5.276009030414375</td><td>prod_1</td><td>comfortable running shoes for athletes</td></tr></table>"
      ],
      "text/plain": [
       "<IPython.core.display.HTML object>"
      ]
     },
     "metadata": {},
     "output_type": "display_data"
    }
   ],
   "source": [
    "weighted_query = TextQuery(\n",
    "    text=\"shoes\",\n",
    "    text_field_name={\"brief_description\": 1.0, \"full_description\": 0.5},\n",
    "    return_fields=[\"product_id\", \"brief_description\"],\n",
    "    num_results=3\n",
    ")\n",
    "\n",
    "results = index.query(weighted_query)\n",
    "result_print(results)"
   ]
  },
  {
   "cell_type": "markdown",
   "metadata": {},
   "source": [
    "### Text Search with Custom Stopwords\n",
    "\n",
    "Stopwords are common words that are filtered out before processing the query. You can specify which language's default stopwords should be filtered out, like `english`, `french`, or `german`. You can also define your own list of stopwords:"
   ]
  },
  {
   "cell_type": "code",
   "execution_count": 10,
   "metadata": {},
   "outputs": [
    {
     "data": {
      "text/html": [
       "<table><tr><th>score</th><th>product_id</th><th>brief_description</th></tr><tr><td>6.238442187162249</td><td>prod_1</td><td>comfortable running shoes for athletes</td></tr><tr><td>6.238442187162249</td><td>prod_1</td><td>comfortable running shoes for athletes</td></tr><tr><td>6.238442187162249</td><td>prod_1</td><td>comfortable running shoes for athletes</td></tr></table>"
      ],
      "text/plain": [
       "<IPython.core.display.HTML object>"
      ]
     },
     "metadata": {},
     "output_type": "display_data"
    }
   ],
   "source": [
    "# Use English stopwords (default)\n",
    "query_with_stopwords = TextQuery(\n",
    "    text=\"the best shoes for running\",\n",
    "    text_field_name=\"brief_description\",\n",
    "    stopwords=\"english\",  # Common words like \"the\", \"for\" will be removed\n",
    "    return_fields=[\"product_id\", \"brief_description\"],\n",
    "    num_results=3\n",
    ")\n",
    "\n",
    "results = index.query(query_with_stopwords)\n",
    "result_print(results)"
   ]
  },
  {
   "cell_type": "code",
   "execution_count": 11,
   "metadata": {},
   "outputs": [
    {
     "data": {
      "text/html": [
       "<table><tr><th>score</th><th>product_id</th><th>brief_description</th></tr><tr><td>3.5111376924416335</td><td>prod_1</td><td>comfortable running shoes for athletes</td></tr><tr><td>3.5111376924416335</td><td>prod_1</td><td>comfortable running shoes for athletes</td></tr><tr><td>3.5111376924416335</td><td>prod_1</td><td>comfortable running shoes for athletes</td></tr></table>"
      ],
      "text/plain": [
       "<IPython.core.display.HTML object>"
      ]
     },
     "metadata": {},
     "output_type": "display_data"
    }
   ],
   "source": [
    "# Use custom stopwords\n",
    "custom_stopwords_query = TextQuery(\n",
    "    text=\"professional equipment for athletes\",\n",
    "    text_field_name=\"brief_description\",\n",
    "    stopwords=[\"for\", \"with\"],  # Only these words will be filtered\n",
    "    return_fields=[\"product_id\", \"brief_description\"],\n",
    "    num_results=3\n",
    ")\n",
    "\n",
    "results = index.query(custom_stopwords_query)\n",
    "result_print(results)"
   ]
  },
  {
   "cell_type": "code",
   "execution_count": 12,
   "metadata": {},
   "outputs": [
    {
     "data": {
      "text/html": [
       "<table><tr><th>score</th><th>product_id</th><th>brief_description</th></tr><tr><td>6.238442187162249</td><td>prod_1</td><td>comfortable running shoes for athletes</td></tr><tr><td>6.238442187162249</td><td>prod_1</td><td>comfortable running shoes for athletes</td></tr><tr><td>6.238442187162249</td><td>prod_1</td><td>comfortable running shoes for athletes</td></tr></table>"
      ],
      "text/plain": [
       "<IPython.core.display.HTML object>"
      ]
     },
     "metadata": {},
     "output_type": "display_data"
    }
   ],
   "source": [
    "# No stopwords\n",
    "no_stopwords_query = TextQuery(\n",
    "    text=\"the best shoes for running\",\n",
    "    text_field_name=\"brief_description\",\n",
    "    stopwords=None,  # All words will be included\n",
    "    return_fields=[\"product_id\", \"brief_description\"],\n",
    "    num_results=3\n",
    ")\n",
    "\n",
    "results = index.query(no_stopwords_query)\n",
    "result_print(results)"
   ]
  },
  {
   "cell_type": "markdown",
   "metadata": {},
   "source": [
    "## 2. HybridQuery: Combining Text and Vector Search\n",
    "\n",
    "The `HybridQuery` combines text search and vector similarity to provide the best of both worlds:\n",
    "- **Text search**: Finds exact keyword matches\n",
    "- **Vector search**: Captures semantic similarity\n",
    "\n",
    "Results are scored using a weighted combination:\n",
    "\n",
    "```\n",
    "hybrid_score = (alpha) * vector_score + (1 - alpha) * text_score\n",
    "```\n",
    "\n",
    "Where `alpha` controls the balance between vector and text search (default: 0.7)."
   ]
  },
  {
   "cell_type": "markdown",
   "metadata": {},
   "source": [
    "### Basic Hybrid Query\n",
    "\n",
    "Let's search for \"running\" with both text and semantic search:"
   ]
  },
  {
   "cell_type": "code",
   "execution_count": 13,
   "metadata": {},
   "outputs": [
    {
     "data": {
      "text/html": [
       "<table><tr><th>vector_distance</th><th>product_id</th><th>brief_description</th><th>category</th><th>price</th><th>vector_similarity</th><th>text_score</th><th>hybrid_score</th></tr><tr><td>5.96046447754e-08</td><td>prod_1</td><td>comfortable running shoes for athletes</td><td>footwear</td><td>89.99</td><td>0.999999970198</td><td>6.23844218716</td><td>2.57153263529</td></tr><tr><td>5.96046447754e-08</td><td>prod_1</td><td>comfortable running shoes for athletes</td><td>footwear</td><td>89.99</td><td>0.999999970198</td><td>6.23844218716</td><td>2.57153263529</td></tr><tr><td>5.96046447754e-08</td><td>prod_1</td><td>comfortable running shoes for athletes</td><td>footwear</td><td>89.99</td><td>0.999999970198</td><td>6.23844218716</td><td>2.57153263529</td></tr><tr><td>5.96046447754e-08</td><td>prod_1</td><td>comfortable running shoes for athletes</td><td>footwear</td><td>89.99</td><td>0.999999970198</td><td>6.23844218716</td><td>2.57153263529</td></tr><tr><td>0.0038834810257</td><td>prod_4</td><td>yoga mat with extra cushioning for comfort</td><td>accessories</td><td>39.99</td><td>0.998058259487</td><td>0</td><td>0.698640781641</td></tr></table>"
      ],
      "text/plain": [
       "<IPython.core.display.HTML object>"
      ]
     },
     "metadata": {},
     "output_type": "display_data"
    }
   ],
   "source": [
    "from redisvl.query import HybridQuery\n",
    "\n",
    "# Create a hybrid query\n",
    "hybrid_query = HybridQuery(\n",
    "    text=\"running shoes\",\n",
    "    text_field_name=\"brief_description\",\n",
    "    vector=[0.1, 0.2, 0.1],  # Query vector\n",
    "    vector_field_name=\"text_embedding\",\n",
    "    return_fields=[\"product_id\", \"brief_description\", \"category\", \"price\"],\n",
    "    num_results=5\n",
    ")\n",
    "\n",
    "results = index.query(hybrid_query)\n",
    "result_print(results)"
   ]
  },
  {
   "cell_type": "markdown",
   "metadata": {},
   "source": [
    "### Adjusting the Alpha Parameter\n",
    "\n",
    "The `alpha` parameter controls the weight between vector and text search:\n",
    "- `alpha=1.0`: Pure vector search\n",
    "- `alpha=0.0`: Pure text search\n",
    "- `alpha=0.7` (default): 70% vector, 30% text"
   ]
  },
  {
   "cell_type": "code",
   "execution_count": 14,
   "metadata": {},
   "outputs": [
    {
     "name": "stdout",
     "output_type": "stream",
     "text": [
      "Results with alpha=0.9 (vector-heavy):\n"
     ]
    },
    {
     "data": {
      "text/html": [
       "<table><tr><th>vector_distance</th><th>product_id</th><th>brief_description</th><th>vector_similarity</th><th>text_score</th><th>hybrid_score</th></tr><tr><td>-1.19209289551e-07</td><td>prod_4</td><td>yoga mat with extra cushioning for comfort</td><td>1.0000000596</td><td>1.69961721172</td><td>1.06996177482</td></tr><tr><td>-1.19209289551e-07</td><td>prod_4</td><td>yoga mat with extra cushioning for comfort</td><td>1.0000000596</td><td>1.69961721172</td><td>1.06996177482</td></tr><tr><td>-1.19209289551e-07</td><td>prod_4</td><td>yoga mat with extra cushioning for comfort</td><td>1.0000000596</td><td>1.69961721172</td><td>1.06996177482</td></tr></table>"
      ],
      "text/plain": [
       "<IPython.core.display.HTML object>"
      ]
     },
     "metadata": {},
     "output_type": "display_data"
    }
   ],
   "source": [
    "# More emphasis on vector search (alpha=0.9)\n",
    "vector_heavy_query = HybridQuery(\n",
    "    text=\"comfortable\",\n",
    "    text_field_name=\"brief_description\",\n",
    "    vector=[0.15, 0.25, 0.15],\n",
    "    vector_field_name=\"text_embedding\",\n",
    "    alpha=0.9,  # 90% vector, 10% text\n",
    "    return_fields=[\"product_id\", \"brief_description\"],\n",
    "    num_results=3\n",
    ")\n",
    "\n",
    "print(\"Results with alpha=0.9 (vector-heavy):\")\n",
    "results = index.query(vector_heavy_query)\n",
    "result_print(results)"
   ]
  },
  {
   "cell_type": "markdown",
   "metadata": {},
   "source": [
    "### Hybrid Query with Filters\n",
    "\n",
    "You can also combine hybrid search with filters:"
   ]
  },
  {
   "cell_type": "code",
   "execution_count": 15,
   "metadata": {},
   "outputs": [
    {
     "data": {
      "text/html": [
       "<table><tr><th>vector_distance</th><th>product_id</th><th>brief_description</th><th>category</th><th>price</th><th>vector_similarity</th><th>text_score</th><th>hybrid_score</th></tr><tr><td>-1.19209289551e-07</td><td>prod_3</td><td>professional tennis racket for competitive players</td><td>equipment</td><td>199.99</td><td>1.0000000596</td><td>3.43573445569</td><td>1.73072037843</td></tr><tr><td>-1.19209289551e-07</td><td>prod_3</td><td>professional tennis racket for competitive players</td><td>equipment</td><td>199.99</td><td>1.0000000596</td><td>1.71786722784</td><td>1.21536021008</td></tr><tr><td>-1.19209289551e-07</td><td>prod_3</td><td>professional tennis racket for competitive players</td><td>equipment</td><td>199.99</td><td>1.0000000596</td><td>1.71786722784</td><td>1.21536021008</td></tr><tr><td>-1.19209289551e-07</td><td>prod_3</td><td>professional tennis racket for competitive players</td><td>equipment</td><td>199.99</td><td>1.0000000596</td><td>1.71786722784</td><td>1.21536021008</td></tr><tr><td>0.411657452583</td><td>prod_5</td><td>basketball shoes with excellent ankle support</td><td>footwear</td><td>139.99</td><td>0.794171273708</td><td>0</td><td>0.555919891596</td></tr></table>"
      ],
      "text/plain": [
       "<IPython.core.display.HTML object>"
      ]
     },
     "metadata": {},
     "output_type": "display_data"
    }
   ],
   "source": [
    "# Hybrid search with a price filter\n",
    "filtered_hybrid_query = HybridQuery(\n",
    "    text=\"professional equipment\",\n",
    "    text_field_name=\"brief_description\",\n",
    "    vector=[0.9, 0.1, 0.05],\n",
    "    vector_field_name=\"text_embedding\",\n",
    "    filter_expression=Num(\"price\") > 100,\n",
    "    return_fields=[\"product_id\", \"brief_description\", \"category\", \"price\"],\n",
    "    num_results=5\n",
    ")\n",
    "\n",
    "results = index.query(filtered_hybrid_query)\n",
    "result_print(results)"
   ]
  },
  {
   "cell_type": "markdown",
   "metadata": {},
   "source": [
    "### Using Different Text Scorers\n",
    "\n",
    "HybridQuery supports the same text scoring algorithms as TextQuery:"
   ]
  },
  {
   "cell_type": "code",
   "execution_count": 16,
   "metadata": {},
   "outputs": [
    {
     "data": {
      "text/html": [
       "<table><tr><th>vector_distance</th><th>product_id</th><th>brief_description</th><th>vector_similarity</th><th>text_score</th><th>hybrid_score</th></tr><tr><td>0</td><td>prod_5</td><td>basketball shoes with excellent ankle support</td><td>1</td><td>4</td><td>1.9</td></tr><tr><td>0</td><td>prod_5</td><td>basketball shoes with excellent ankle support</td><td>1</td><td>4</td><td>1.9</td></tr><tr><td>0</td><td>prod_2</td><td>lightweight running jacket with water resistance</td><td>1</td><td>0</td><td>0.7</td></tr></table>"
      ],
      "text/plain": [
       "<IPython.core.display.HTML object>"
      ]
     },
     "metadata": {},
     "output_type": "display_data"
    }
   ],
   "source": [
    "# Hybrid query with TFIDF scorer\n",
    "hybrid_tfidf = HybridQuery(\n",
    "    text=\"shoes support\",\n",
    "    text_field_name=\"brief_description\",\n",
    "    vector=[0.12, 0.18, 0.12],\n",
    "    vector_field_name=\"text_embedding\",\n",
    "    text_scorer=\"TFIDF\",\n",
    "    return_fields=[\"product_id\", \"brief_description\"],\n",
    "    num_results=3\n",
    ")\n",
    "\n",
    "results = index.query(hybrid_tfidf)\n",
    "result_print(results)"
   ]
  },
  {
   "cell_type": "markdown",
   "metadata": {},
   "source": [
    "## 3. MultiVectorQuery: Multi-Vector Search\n",
    "\n",
    "The `MultiVectorQuery` allows you to search over multiple vector fields simultaneously. This is useful when you have different types of embeddings (e.g., text and image embeddings) and want to find results that match across multiple modalities.\n",
    "\n",
    "The final score is calculated as a weighted combination:\n",
    "\n",
    "```\n",
    "combined_score = w_1 * score_1 + w_2 * score_2 + w_3 * score_3 + ...\n",
    "```"
   ]
  },
  {
   "cell_type": "markdown",
   "metadata": {},
   "source": [
    "### Basic Multi-Vector Query\n",
    "\n",
    "First, we need to import the `Vector` class to define our query vectors:"
   ]
  },
  {
   "cell_type": "code",
   "execution_count": 17,
   "metadata": {},
   "outputs": [
    {
     "data": {
      "text/html": [
       "<table><tr><th>distance_0</th><th>distance_1</th><th>product_id</th><th>brief_description</th><th>category</th><th>score_0</th><th>score_1</th><th>combined_score</th></tr><tr><td>5.96046447754e-08</td><td>5.96046447754e-08</td><td>prod_1</td><td>comfortable running shoes for athletes</td><td>footwear</td><td>0.999999970198</td><td>0.999999970198</td><td>0.999999970198</td></tr><tr><td>5.96046447754e-08</td><td>5.96046447754e-08</td><td>prod_1</td><td>comfortable running shoes for athletes</td><td>footwear</td><td>0.999999970198</td><td>0.999999970198</td><td>0.999999970198</td></tr><tr><td>5.96046447754e-08</td><td>5.96046447754e-08</td><td>prod_1</td><td>comfortable running shoes for athletes</td><td>footwear</td><td>0.999999970198</td><td>0.999999970198</td><td>0.999999970198</td></tr><tr><td>5.96046447754e-08</td><td>5.96046447754e-08</td><td>prod_1</td><td>comfortable running shoes for athletes</td><td>footwear</td><td>0.999999970198</td><td>0.999999970198</td><td>0.999999970198</td></tr><tr><td>0.00985252857208</td><td>0.00266629457474</td><td>prod_5</td><td>basketball shoes with excellent ankle support</td><td>footwear</td><td>0.995073735714</td><td>0.998666852713</td><td>0.996151670814</td></tr></table>"
      ],
      "text/plain": [
       "<IPython.core.display.HTML object>"
      ]
     },
     "metadata": {},
     "output_type": "display_data"
    }
   ],
   "source": [
    "from redisvl.query import MultiVectorQuery, Vector\n",
    "\n",
    "# Define multiple vectors for the query\n",
    "text_vector = Vector(\n",
    "    vector=[0.1, 0.2, 0.1],\n",
    "    field_name=\"text_embedding\",\n",
    "    dtype=\"float32\",\n",
    "    weight=0.7  # 70% weight for text embedding\n",
    ")\n",
    "\n",
    "image_vector = Vector(\n",
    "    vector=[0.8, 0.1],\n",
    "    field_name=\"image_embedding\",\n",
    "    dtype=\"float32\",\n",
    "    weight=0.3  # 30% weight for image embedding\n",
    ")\n",
    "\n",
    "# Create a multi-vector query\n",
    "multi_vector_query = MultiVectorQuery(\n",
    "    vectors=[text_vector, image_vector],\n",
    "    return_fields=[\"product_id\", \"brief_description\", \"category\"],\n",
    "    num_results=5\n",
    ")\n",
    "\n",
    "results = index.query(multi_vector_query)\n",
    "result_print(results)"
   ]
  },
  {
   "cell_type": "markdown",
   "metadata": {},
   "source": [
    "### Adjusting Vector Weights\n",
    "\n",
    "You can adjust the weights to prioritize different vector fields:"
   ]
  },
  {
   "cell_type": "code",
   "execution_count": 18,
   "metadata": {},
   "outputs": [
    {
     "name": "stdout",
     "output_type": "stream",
     "text": [
      "Results with emphasis on image similarity:\n"
     ]
    },
    {
     "data": {
      "text/html": [
       "<table><tr><th>distance_0</th><th>distance_1</th><th>product_id</th><th>brief_description</th><th>category</th><th>score_0</th><th>score_1</th><th>combined_score</th></tr><tr><td>-1.19209289551e-07</td><td>0</td><td>prod_3</td><td>professional tennis racket for competitive players</td><td>equipment</td><td>1.0000000596</td><td>1</td><td>1.00000001192</td></tr><tr><td>-1.19209289551e-07</td><td>0</td><td>prod_3</td><td>professional tennis racket for competitive players</td><td>equipment</td><td>1.0000000596</td><td>1</td><td>1.00000001192</td></tr><tr><td>-1.19209289551e-07</td><td>0</td><td>prod_3</td><td>professional tennis racket for competitive players</td><td>equipment</td><td>1.0000000596</td><td>1</td><td>1.00000001192</td></tr></table>"
      ],
      "text/plain": [
       "<IPython.core.display.HTML object>"
      ]
     },
     "metadata": {},
     "output_type": "display_data"
    }
   ],
   "source": [
    "# More emphasis on image similarity\n",
    "text_vec = Vector(\n",
    "    vector=[0.9, 0.1, 0.05],\n",
    "    field_name=\"text_embedding\",\n",
    "    dtype=\"float32\",\n",
    "    weight=0.2  # 20% weight\n",
    ")\n",
    "\n",
    "image_vec = Vector(\n",
    "    vector=[0.1, 0.9],\n",
    "    field_name=\"image_embedding\",\n",
    "    dtype=\"float32\",\n",
    "    weight=0.8  # 80% weight\n",
    ")\n",
    "\n",
    "image_heavy_query = MultiVectorQuery(\n",
    "    vectors=[text_vec, image_vec],\n",
    "    return_fields=[\"product_id\", \"brief_description\", \"category\"],\n",
    "    num_results=3\n",
    ")\n",
    "\n",
    "print(\"Results with emphasis on image similarity:\")\n",
    "results = index.query(image_heavy_query)\n",
    "result_print(results)"
   ]
  },
  {
   "cell_type": "markdown",
   "metadata": {},
   "source": [
    "### Multi-Vector Query with Filters\n",
    "\n",
    "Combine multi-vector search with filters to narrow results:"
   ]
  },
  {
   "cell_type": "code",
   "execution_count": 19,
   "metadata": {},
   "outputs": [
    {
     "data": {
      "text/html": [
       "<table><tr><th>distance_0</th><th>distance_1</th><th>product_id</th><th>brief_description</th><th>category</th><th>price</th><th>score_0</th><th>score_1</th><th>combined_score</th></tr><tr><td>5.96046447754e-08</td><td>5.96046447754e-08</td><td>prod_1</td><td>comfortable running shoes for athletes</td><td>footwear</td><td>89.99</td><td>0.999999970198</td><td>0.999999970198</td><td>0.999999970198</td></tr><tr><td>5.96046447754e-08</td><td>5.96046447754e-08</td><td>prod_1</td><td>comfortable running shoes for athletes</td><td>footwear</td><td>89.99</td><td>0.999999970198</td><td>0.999999970198</td><td>0.999999970198</td></tr><tr><td>5.96046447754e-08</td><td>5.96046447754e-08</td><td>prod_1</td><td>comfortable running shoes for athletes</td><td>footwear</td><td>89.99</td><td>0.999999970198</td><td>0.999999970198</td><td>0.999999970198</td></tr><tr><td>5.96046447754e-08</td><td>5.96046447754e-08</td><td>prod_1</td><td>comfortable running shoes for athletes</td><td>footwear</td><td>89.99</td><td>0.999999970198</td><td>0.999999970198</td><td>0.999999970198</td></tr><tr><td>0.00985252857208</td><td>0.00266629457474</td><td>prod_5</td><td>basketball shoes with excellent ankle support</td><td>footwear</td><td>139.99</td><td>0.995073735714</td><td>0.998666852713</td><td>0.996510982513</td></tr></table>"
      ],
      "text/plain": [
       "<IPython.core.display.HTML object>"
      ]
     },
     "metadata": {},
     "output_type": "display_data"
    }
   ],
   "source": [
    "# Multi-vector search with category filter\n",
    "text_vec = Vector(\n",
    "    vector=[0.1, 0.2, 0.1],\n",
    "    field_name=\"text_embedding\",\n",
    "    dtype=\"float32\",\n",
    "    weight=0.6\n",
    ")\n",
    "\n",
    "image_vec = Vector(\n",
    "    vector=[0.8, 0.1],\n",
    "    field_name=\"image_embedding\",\n",
    "    dtype=\"float32\",\n",
    "    weight=0.4\n",
    ")\n",
    "\n",
    "filtered_multi_query = MultiVectorQuery(\n",
    "    vectors=[text_vec, image_vec],\n",
    "    filter_expression=Tag(\"category\") == \"footwear\",\n",
    "    return_fields=[\"product_id\", \"brief_description\", \"category\", \"price\"],\n",
    "    num_results=5\n",
    ")\n",
    "\n",
    "results = index.query(filtered_multi_query)\n",
    "result_print(results)"
   ]
  },
  {
   "cell_type": "markdown",
   "metadata": {},
   "source": [
    "## Comparing Query Types\n",
    "\n",
    "Let's compare the three query types side by side:"
   ]
  },
  {
   "cell_type": "code",
   "execution_count": 20,
   "metadata": {},
   "outputs": [
    {
     "name": "stdout",
     "output_type": "stream",
     "text": [
      "TextQuery Results (keyword-based):\n"
     ]
    },
    {
     "data": {
      "text/html": [
       "<table><tr><th>score</th><th>product_id</th><th>brief_description</th></tr><tr><td>3.014862303093929</td><td>prod_1</td><td>comfortable running shoes for athletes</td></tr><tr><td>3.014862303093929</td><td>prod_1</td><td>comfortable running shoes for athletes</td></tr><tr><td>3.014862303093929</td><td>prod_1</td><td>comfortable running shoes for athletes</td></tr></table>"
      ],
      "text/plain": [
       "<IPython.core.display.HTML object>"
      ]
     },
     "metadata": {},
     "output_type": "display_data"
    },
    {
     "name": "stdout",
     "output_type": "stream",
     "text": [
      "\n"
     ]
    }
   ],
   "source": [
    "# TextQuery - keyword-based search\n",
    "text_q = TextQuery(\n",
    "    text=\"shoes\",\n",
    "    text_field_name=\"brief_description\",\n",
    "    return_fields=[\"product_id\", \"brief_description\"],\n",
    "    num_results=3\n",
    ")\n",
    "\n",
    "print(\"TextQuery Results (keyword-based):\")\n",
    "result_print(index.query(text_q))\n",
    "print()"
   ]
  },
  {
   "cell_type": "code",
   "execution_count": 21,
   "metadata": {},
   "outputs": [
    {
     "name": "stdout",
     "output_type": "stream",
     "text": [
      "HybridQuery Results (text + vector):\n"
     ]
    },
    {
     "data": {
      "text/html": [
       "<table><tr><th>vector_distance</th><th>product_id</th><th>brief_description</th><th>vector_similarity</th><th>text_score</th><th>hybrid_score</th></tr><tr><td>5.96046447754e-08</td><td>prod_1</td><td>comfortable running shoes for athletes</td><td>0.999999970198</td><td>3.01486230309</td><td>1.60445867007</td></tr><tr><td>5.96046447754e-08</td><td>prod_1</td><td>comfortable running shoes for athletes</td><td>0.999999970198</td><td>3.01486230309</td><td>1.60445867007</td></tr><tr><td>5.96046447754e-08</td><td>prod_1</td><td>comfortable running shoes for athletes</td><td>0.999999970198</td><td>3.01486230309</td><td>1.60445867007</td></tr></table>"
      ],
      "text/plain": [
       "<IPython.core.display.HTML object>"
      ]
     },
     "metadata": {},
     "output_type": "display_data"
    },
    {
     "name": "stdout",
     "output_type": "stream",
     "text": [
      "\n"
     ]
    }
   ],
   "source": [
    "# HybridQuery - combines text and vector search\n",
    "hybrid_q = HybridQuery(\n",
    "    text=\"shoes\",\n",
    "    text_field_name=\"brief_description\",\n",
    "    vector=[0.1, 0.2, 0.1],\n",
    "    vector_field_name=\"text_embedding\",\n",
    "    return_fields=[\"product_id\", \"brief_description\"],\n",
    "    num_results=3\n",
    ")\n",
    "\n",
    "print(\"HybridQuery Results (text + vector):\")\n",
    "result_print(index.query(hybrid_q))\n",
    "print()"
   ]
  },
  {
   "cell_type": "code",
   "execution_count": 22,
   "metadata": {},
   "outputs": [
    {
     "name": "stdout",
     "output_type": "stream",
     "text": [
      "MultiVectorQuery Results (multiple vectors):\n"
     ]
    },
    {
     "data": {
      "text/html": [
       "<table><tr><th>distance_0</th><th>distance_1</th><th>product_id</th><th>brief_description</th><th>score_0</th><th>score_1</th><th>combined_score</th></tr><tr><td>5.96046447754e-08</td><td>5.96046447754e-08</td><td>prod_1</td><td>comfortable running shoes for athletes</td><td>0.999999970198</td><td>0.999999970198</td><td>0.999999970198</td></tr><tr><td>5.96046447754e-08</td><td>5.96046447754e-08</td><td>prod_1</td><td>comfortable running shoes for athletes</td><td>0.999999970198</td><td>0.999999970198</td><td>0.999999970198</td></tr><tr><td>5.96046447754e-08</td><td>5.96046447754e-08</td><td>prod_1</td><td>comfortable running shoes for athletes</td><td>0.999999970198</td><td>0.999999970198</td><td>0.999999970198</td></tr></table>"
      ],
      "text/plain": [
       "<IPython.core.display.HTML object>"
      ]
     },
     "metadata": {},
     "output_type": "display_data"
    }
   ],
   "source": [
    "# MultiVectorQuery - searches multiple vector fields\n",
    "mv_text = Vector(\n",
    "    vector=[0.1, 0.2, 0.1],\n",
    "    field_name=\"text_embedding\",\n",
    "    dtype=\"float32\",\n",
    "    weight=0.5\n",
    ")\n",
    "\n",
    "mv_image = Vector(\n",
    "    vector=[0.8, 0.1],\n",
    "    field_name=\"image_embedding\",\n",
    "    dtype=\"float32\",\n",
    "    weight=0.5\n",
    ")\n",
    "\n",
    "multi_q = MultiVectorQuery(\n",
    "    vectors=[mv_text, mv_image],\n",
    "    return_fields=[\"product_id\", \"brief_description\"],\n",
    "    num_results=3\n",
    ")\n",
    "\n",
    "print(\"MultiVectorQuery Results (multiple vectors):\")\n",
    "result_print(index.query(multi_q))"
   ]
  },
  {
   "cell_type": "markdown",
   "metadata": {},
   "source": [
    "## Best Practices\n",
    "\n",
    "### When to Use Each Query Type:\n",
    "\n",
    "1. **`TextQuery`**:\n",
    "   - When you need precise keyword matching\n",
    "   - For traditional search engine functionality\n",
    "   - When text relevance scoring is important\n",
    "   - Example: Product search, document retrieval\n",
    "\n",
    "2. **`HybridQuery`**:\n",
    "   - When you want to combine keyword and semantic search\n",
    "   - For improved search quality over pure text or vector search\n",
    "   - When you have both text and vector representations of your data\n",
    "   - Example: E-commerce search, content recommendation\n",
    "\n",
    "3. **`MultiVectorQuery`**:\n",
    "   - When you have multiple types of embeddings (text, image, audio, etc.)\n",
    "   - For multi-modal search applications\n",
    "   - When you want to balance multiple semantic signals\n",
    "   - Example: Image-text search, cross-modal retrieval"
   ]
  },
  {
   "cell_type": "code",
   "execution_count": 23,
   "metadata": {},
   "outputs": [],
   "source": [
    "# Cleanup\n",
    "index.delete()"
   ]
  }
 ],
 "metadata": {
  "kernelspec": {
   "display_name": "redisvl-dev",
   "language": "python",
   "name": "python3"
  },
  "language_info": {
   "codemirror_mode": {
    "name": "ipython",
    "version": 3
   },
   "file_extension": ".py",
   "mimetype": "text/x-python",
   "name": "python",
   "nbconvert_exporter": "python",
   "pygments_lexer": "ipython3",
   "version": "3.13.0"
  }
 },
 "nbformat": 4,
 "nbformat_minor": 4
}
