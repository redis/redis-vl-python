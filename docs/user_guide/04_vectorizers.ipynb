{
   "cells": [
      {
         "attachments": {},
         "cell_type": "markdown",
         "metadata": {},
         "source": [
            "# Vectorizers\n",
            "\n",
            "In this notebook, we will show how to use RedisVL to create embeddings using the built-in text embedding vectorizers. Today RedisVL supports:\n",
            "1. OpenAI\n",
            "2. HuggingFace\n",
            "3. Vertex AI\n",
            "4. Cohere\n",
            "5. Mistral AI\n",
            "6. Amazon Bedrock\n",
            "7. Bringing your own vectorizer\n",
            "8. VoyageAI\n",
            "\n",
            "Before running this notebook, be sure to\n",
            "1. Have installed ``redisvl`` and have that environment active for this notebook.\n",
            "2. Have a running Redis Stack instance with RediSearch > 2.4 active.\n",
            "\n",
            "For example, you can run Redis Stack locally with Docker:\n",
            "\n",
            "```bash\n",
            "docker run -d -p 6379:6379 -p 8001:8001 redis/redis-stack:latest\n",
            "```\n",
            "\n",
            "This will run Redis on port 6379 and RedisInsight at http://localhost:8001."
         ]
      },
      {
         "cell_type": "code",
         "execution_count": 2,
         "metadata": {},
         "outputs": [],
         "source": [
            "# import necessary modules\n",
            "import os"
         ]
      },
      {
         "cell_type": "markdown",
         "metadata": {},
         "source": [
            "## Creating Text Embeddings\n",
            "\n",
            "This example will show how to create an embedding from 3 simple sentences with a number of different text vectorizers in RedisVL.\n",
            "\n",
            "- \"That is a happy dog\"\n",
            "- \"That is a happy person\"\n",
            "- \"Today is a nice day\"\n"
         ]
      },
      {
         "cell_type": "markdown",
         "metadata": {},
         "source": [
            "### OpenAI\n",
            "\n",
            "The ``OpenAITextVectorizer`` makes it simple to use RedisVL with the embeddings models at OpenAI. For this you will need to install ``openai``. \n",
            "\n",
            "```bash\n",
            "pip install openai\n",
            "```\n"
         ]
      },
      {
         "cell_type": "code",
         "execution_count": 3,
         "metadata": {},
         "outputs": [],
         "source": [
            "import getpass\n",
            "\n",
            "# setup the API Key\n",
            "api_key = os.environ.get(\"OPENAI_API_KEY\") or getpass.getpass(\"Enter your OpenAI API key: \")"
         ]
      },
      {
         "cell_type": "code",
         "execution_count": null,
         "metadata": {},
         "outputs": [],
         "source": [
            "from redisvl.utils.vectorize import OpenAITextVectorizer\n",
            "\n",
            "# create a vectorizer\n",
            "oai = OpenAITextVectorizer(\n",
            "    model=\"text-embedding-ada-002\",\n",
            "    api_config={\"api_key\": api_key},\n",
            ")\n",
            "\n",
            "test = oai.embed(\"This is a test sentence.\")\n",
            "print(\"Vector dimensions: \", len(test))\n",
            "test[:10]"
         ]
      },
      {
         "cell_type": "code",
         "execution_count": null,
         "metadata": {},
         "outputs": [],
         "source": [
            "# Create many embeddings at once\n",
            "sentences = [\n",
            "    \"That is a happy dog\",\n",
            "    \"That is a happy person\",\n",
            "    \"Today is a sunny day\"\n",
            "]\n",
            "\n",
            "embeddings = oai.embed_many(sentences)\n",
            "embeddings[0][:10]"
         ]
      },
      {
         "cell_type": "code",
         "execution_count": null,
         "metadata": {},
         "outputs": [],
         "source": [
            "# openai also supports asyncronous requests, which we can use to speed up the vectorization process.\n",
            "embeddings = await oai.aembed_many(sentences)\n",
            "print(\"Number of Embeddings:\", len(embeddings))\n"
         ]
      },
      {
         "cell_type": "markdown",
         "metadata": {},
         "source": [
            "### Azure OpenAI\n",
            "\n",
            "The ``AzureOpenAITextVectorizer`` is a variation of the OpenAI vectorizer that calls OpenAI models within Azure. If you've already installed ``openai``, then you're ready to use Azure OpenAI.\n",
            "\n",
            "The only practical difference between OpenAI and Azure OpenAI is the variables required to call the API."
         ]
      },
      {
         "cell_type": "code",
         "execution_count": 4,
         "metadata": {},
         "outputs": [],
         "source": [
            "# additionally to the API Key, setup the API endpoint and version\n",
            "api_key = os.environ.get(\"AZURE_OPENAI_API_KEY\") or getpass.getpass(\"Enter your AzureOpenAI API key: \")\n",
            "api_version = os.environ.get(\"OPENAI_API_VERSION\") or getpass.getpass(\"Enter your AzureOpenAI API version: \")\n",
            "azure_endpoint = os.environ.get(\"AZURE_OPENAI_ENDPOINT\") or getpass.getpass(\"Enter your AzureOpenAI API endpoint: \")\n",
            "deployment_name = os.environ.get(\"AZURE_OPENAI_DEPLOYMENT_NAME\", \"text-embedding-ada-002\")\n"
         ]
      },
      {
         "cell_type": "code",
         "execution_count": null,
         "metadata": {},
         "outputs": [],
         "source": [
            "from redisvl.utils.vectorize import AzureOpenAITextVectorizer\n",
            "\n",
            "# create a vectorizer\n",
            "az_oai = AzureOpenAITextVectorizer(\n",
            "    model=deployment_name, # Must be your CUSTOM deployment name\n",
            "    api_config={\n",
            "        \"api_key\": api_key,\n",
            "        \"api_version\": api_version,\n",
            "        \"azure_endpoint\": azure_endpoint\n",
            "    },\n",
            ")\n",
            "\n",
            "test = az_oai.embed(\"This is a test sentence.\")\n",
            "print(\"Vector dimensions: \", len(test))\n",
            "test[:10]"
         ]
      },
      {
         "cell_type": "code",
         "execution_count": null,
         "metadata": {},
         "outputs": [],
         "source": [
            "# Just like OpenAI, AzureOpenAI supports batching embeddings and asynchronous requests.\n",
            "sentences = [\n",
            "    \"That is a happy dog\",\n",
            "    \"That is a happy person\",\n",
            "    \"Today is a sunny day\"\n",
            "]\n",
            "\n",
            "embeddings = await az_oai.aembed_many(sentences)\n",
            "embeddings[0][:10]"
         ]
      },
      {
         "cell_type": "markdown",
         "metadata": {},
         "source": [
            "### Huggingface\n",
            "\n",
            "[Huggingface](https://huggingface.co/models) is a popular NLP platform that has a number of pre-trained models you can use off the shelf. RedisVL supports using Huggingface \"Sentence Transformers\" to create embeddings from text. To use Huggingface, you will need to install the ``sentence-transformers`` library.\n",
            "\n",
            "```bash\n",
            "pip install sentence-transformers\n",
            "```"
         ]
      },
      {
         "cell_type": "code",
         "execution_count": null,
         "metadata": {},
         "outputs": [],
         "source": [
            "os.environ[\"TOKENIZERS_PARALLELISM\"] = \"false\"\n",
            "from redisvl.utils.vectorize import HFTextVectorizer\n",
            "\n",
            "\n",
            "# create a vectorizer\n",
            "# choose your model from the huggingface website\n",
            "hf = HFTextVectorizer(model=\"sentence-transformers/all-mpnet-base-v2\")\n",
            "\n",
            "# embed a sentence\n",
            "test = hf.embed(\"This is a test sentence.\")\n",
            "test[:10]"
         ]
      },
      {
         "cell_type": "code",
         "execution_count": null,
         "metadata": {},
         "outputs": [],
         "source": [
            "# You can also create many embeddings at once\n",
            "embeddings = hf.embed_many(sentences, as_buffer=True)\n"
         ]
      },
      {
         "cell_type": "markdown",
         "metadata": {},
         "source": [
            "### VertexAI\n",
            "\n",
            "[VertexAI](https://cloud.google.com/vertex-ai/docs/generative-ai/embeddings/get-text-embeddings) is GCP's fully-featured AI platform including a number of pretrained LLMs. RedisVL supports using VertexAI to create embeddings from these models. To use VertexAI, you will first need to install the ``google-cloud-aiplatform`` library.\n",
            "\n",
            "```bash\n",
            "pip install google-cloud-aiplatform>=1.26\n",
            "```\n",
            "\n",
            "1. Then you need to gain access to a [Google Cloud Project](https://cloud.google.com/gcp?hl=en) and provide [access to credentials](https://cloud.google.com/docs/authentication/application-default-credentials). This is accomplished by setting the `GOOGLE_APPLICATION_CREDENTIALS` environment variable pointing to the path of a JSON key file downloaded from your service account on GCP.\n",
            "2. Lastly, you need to find your [project ID](https://support.google.com/googleapi/answer/7014113?hl=en) and [geographic region for VertexAI](https://cloud.google.com/vertex-ai/docs/general/locations).\n",
            "\n",
            "\n",
            "**Make sure the following env vars are set:**\n",
            "\n",
            "```\n",
            "GOOGLE_APPLICATION_CREDENTIALS=<path to your gcp JSON creds>\n",
            "GCP_PROJECT_ID=<your gcp project id>\n",
            "GCP_LOCATION=<your gcp geo region for vertex ai>\n",
            "```"
         ]
      },
      {
         "cell_type": "code",
         "execution_count": null,
         "metadata": {},
         "outputs": [],
         "source": [
            "from redisvl.utils.vectorize import VertexAITextVectorizer\n",
            "\n",
            "\n",
            "# create a vectorizer\n",
            "vtx = VertexAITextVectorizer(api_config={\n",
            "    \"project_id\": os.environ.get(\"GCP_PROJECT_ID\") or getpass.getpass(\"Enter your GCP Project ID: \"),\n",
            "    \"location\": os.environ.get(\"GCP_LOCATION\") or getpass.getpass(\"Enter your GCP Location: \"),\n",
            "    \"google_application_credentials\": os.environ.get(\"GOOGLE_APPLICATION_CREDENTIALS\") or getpass.getpass(\"Enter your Google App Credentials path: \")\n",
            "})\n",
            "\n",
            "# embed a sentence\n",
            "test = vtx.embed(\"This is a test sentence.\")\n",
            "test[:10]"
         ]
      },
      {
         "cell_type": "markdown",
         "metadata": {},
         "source": [
            "### Cohere\n",
            "\n",
            "[Cohere](https://dashboard.cohere.ai/) allows you to implement language AI into your product. The `CohereTextVectorizer` makes it simple to use RedisVL with the embeddings models at Cohere. For this you will need to install `cohere`.\n",
            "\n",
            "```bash\n",
            "pip install cohere\n",
            "```"
         ]
      },
      {
         "cell_type": "code",
         "execution_count": 11,
         "metadata": {},
         "outputs": [],
         "source": [
            "import getpass\n",
            "# setup the API Key\n",
            "api_key = os.environ.get(\"COHERE_API_KEY\") or getpass.getpass(\"Enter your Cohere API key: \")"
         ]
      },
      {
         "cell_type": "markdown",
         "metadata": {},
         "source": [
            "\n",
            "Special attention needs to be paid to the `input_type` parameter for each `embed` call. For example, for embedding \n",
            "queries, you should set `input_type='search_query'`; for embedding documents, set `input_type='search_document'`. See\n",
            "more information [here](https://docs.cohere.com/reference/embed)"
         ]
      },
      {
         "cell_type": "code",
         "execution_count": null,
         "metadata": {},
         "outputs": [],
         "source": [
            "from redisvl.utils.vectorize import CohereTextVectorizer\n",
            "\n",
            "# create a vectorizer\n",
            "co = CohereTextVectorizer(\n",
            "    model=\"embed-english-v3.0\",\n",
            "    api_config={\"api_key\": api_key},\n",
            ")\n",
            "\n",
            "# embed a search query\n",
            "test = co.embed(\"This is a test sentence.\", input_type='search_query')\n",
            "print(\"Vector dimensions: \", len(test))\n",
            "print(test[:10])\n",
            "\n",
            "# embed a document\n",
            "test = co.embed(\"This is a test sentence.\", input_type='search_document')\n",
            "print(\"Vector dimensions: \", len(test))\n",
            "print(test[:10])"
         ]
      },
      {
         "cell_type": "markdown",
         "metadata": {},
         "source": [
            "Learn more about using RedisVL and Cohere together through [this dedicated user guide](https://docs.cohere.com/docs/redis-and-cohere)."
         ]
      },
      {
         "cell_type": "markdown",
         "metadata": {},
         "source": [
            "### VoyageAI\n",
            "\n",
            "[VoyageAI](https://dash.voyageai.com/) allows you to implement language AI into your product. The `VoyageAITextVectorizer` makes it simple to use RedisVL with the embeddings models at VoyageAI. For this you will need to install `voyageai`.\n",
            "\n",
            "```bash\n",
            "pip install voyageai\n",
            "```"
         ]
      },
      {
         "cell_type": "code",
         "execution_count": 11,
         "metadata": {},
         "outputs": [],
         "source": [
            "import getpass\n",
            "# setup the API Key\n",
            "api_key = os.environ.get(\"VOYAGE_API_KEY\") or getpass.getpass(\"Enter your VoyageAI API key: \")"
         ]
      },
      {
         "cell_type": "markdown",
         "metadata": {},
         "source": [
            "\n",
            "Special attention needs to be paid to the `input_type` parameter for each `embed` call. For example, for embedding \n",
            "queries, you should set `input_type='query'`; for embedding documents, set `input_type='document'`. See\n",
            "more information [here](https://docs.voyageai.com/docs/embeddings)"
         ]
      },
      {
         "cell_type": "code",
         "execution_count": null,
         "metadata": {},
         "outputs": [],
         "source": [
            "from redisvl.utils.vectorize import VoyageAITextVectorizer\n",
            "\n",
            "# create a vectorizer\n",
            "vo = VoyageAITextVectorizer(\n",
            "    model=\"voyage-law-2\",  # Please check the available models at https://docs.voyageai.com/docs/embeddings\n",
            "    api_config={\"api_key\": api_key},\n",
            ")\n",
            "\n",
            "# embed a search query\n",
            "test = vo.embed(\"This is a test sentence.\", input_type='query')\n",
            "print(\"Vector dimensions: \", len(test))\n",
            "print(test[:10])\n",
            "\n",
            "# embed a document\n",
            "test = vo.embed(\"This is a test sentence.\", input_type='document')\n",
            "print(\"Vector dimensions: \", len(test))\n",
            "print(test[:10])"
         ]
      },
      {
         "cell_type": "markdown",
         "metadata": {},
         "source": [
            "### Mistral AI\n",
            "\n",
            "[Mistral](https://console.mistral.ai/) offers LLM and embedding APIs for you to implement into your product. The `MistralAITextVectorizer` makes it simple to use RedisVL with their embeddings model.\n",
            "You will need to install `mistralai`.\n",
            "\n",
            "```bash\n",
            "pip install mistralai\n",
            "```"
         ]
      },
      {
         "cell_type": "code",
         "execution_count": null,
         "metadata": {},
         "outputs": [],
         "source": [
            "from redisvl.utils.vectorize import MistralAITextVectorizer\n",
            "\n",
            "mistral = MistralAITextVectorizer()\n",
            "\n",
            "# embed a sentence using their asyncronous method\n",
            "test = await mistral.aembed(\"This is a test sentence.\")\n",
            "print(\"Vector dimensions: \", len(test))\n",
            "print(test[:10])"
         ]
      },
      {
         "cell_type": "markdown",
         "metadata": {},
         "source": [
            "### Amazon Bedrock\n",
            "\n",
            "Amazon Bedrock provides fully managed foundation models for text embeddings. Install the required dependencies:\n",
            "\n",
            "```bash\n",
            "pip install 'redisvl[bedrock]'  # Installs boto3\n",
            "```"
         ]
      },
      {
         "cell_type": "markdown",
         "metadata": {},
         "source": [
            "#### Configure AWS credentials:"
         ]
      },
      {
         "cell_type": "code",
         "execution_count": null,
         "metadata": {},
         "outputs": [],
         "source": [
            "import os\n",
            "import getpass\n",
            "\n",
            "if \"AWS_ACCESS_KEY_ID\" not in os.environ:\n",
            "    os.environ[\"AWS_ACCESS_KEY_ID\"] = getpass.getpass(\"Enter AWS Access Key ID: \")\n",
            "if \"AWS_SECRET_ACCESS_KEY\" not in os.environ:\n",
            "    os.environ[\"AWS_SECRET_ACCESS_KEY\"] = getpass.getpass(\"Enter AWS Secret Key: \")\n",
            "\n",
            "os.environ[\"AWS_REGION\"] = \"us-east-1\"  # Change as needed"
         ]
      },
      {
         "cell_type": "markdown",
         "metadata": {},
         "source": [
            "#### Create embeddings:"
         ]
      },
      {
         "cell_type": "code",
         "execution_count": null,
         "metadata": {},
         "outputs": [],
         "source": [
            "from redisvl.utils.vectorize import BedrockTextVectorizer\n",
            "\n",
            "bedrock = BedrockTextVectorizer(\n",
            "    model=\"amazon.titan-embed-text-v2:0\"\n",
            ")\n",
            "\n",
            "# Single embedding\n",
            "text = \"This is a test sentence.\"\n",
            "embedding = bedrock.embed(text)\n",
            "print(f\"Vector dimensions: {len(embedding)}\")\n",
            "\n",
            "# Multiple embeddings\n",
            "sentences = [\n",
            "    \"That is a happy dog\",\n",
            "    \"That is a happy person\",\n",
            "    \"Today is a sunny day\"\n",
            "]\n",
            "embeddings = bedrock.embed_many(sentences)"
         ]
      },
      {
         "cell_type": "markdown",
         "metadata": {},
         "source": [
            "### Custom Vectorizers\n",
            "\n",
            "RedisVL supports the use of other vectorizers and provides a class to enable compatibility with any function that generates a vector or vectors from string data"
         ]
      },
      {
         "cell_type": "code",
         "execution_count": null,
         "metadata": {},
         "outputs": [],
         "source": [
            "from redisvl.utils.vectorize import CustomTextVectorizer\n",
            "\n",
            "def generate_embeddings(text_input, **kwargs):\n",
            "    return [0.101] * 768\n",
            "\n",
            "custom_vectorizer = CustomTextVectorizer(generate_embeddings)\n",
            "\n",
            "custom_vectorizer.embed(\"This is a test sentence.\")[:10]"
         ]
      },
      {
         "cell_type": "markdown",
         "metadata": {},
         "source": [
            "This enables the use of custom vectorizers with other RedisVL components"
         ]
      },
      {
         "cell_type": "code",
         "execution_count": null,
         "metadata": {},
         "outputs": [],
         "source": [
            "from redisvl.extensions.llmcache import SemanticCache\n",
            "\n",
            "cache = SemanticCache(name=\"custom_cache\", vectorizer=custom_vectorizer)\n",
            "\n",
            "cache.store(\"this is a test prompt\", \"this is a test response\")\n",
            "cache.check(\"this is also a test prompt\")"
         ]
      },
      {
         "cell_type": "markdown",
         "metadata": {},
         "source": [
            "## Search with Provider Embeddings\n",
            "\n",
            "Now that we've created our embeddings, we can use them to search for similar sentences. We will use the same 3 sentences from above and search for similar sentences.\n",
            "\n",
            "First, we need to create the schema for our index.\n",
            "\n",
            "Here's what the schema for the example looks like in yaml for the HuggingFace vectorizer:\n",
            "\n",
            "```yaml\n",
            "version: '0.1.0'\n",
            "\n",
            "index:\n",
            "    name: vectorizers\n",
            "    prefix: doc\n",
            "    storage_type: hash\n",
            "\n",
            "fields:\n",
            "    - name: sentence\n",
            "      type: text\n",
            "    - name: embedding\n",
            "      type: vector\n",
            "      attrs:\n",
            "        dims: 768\n",
            "        algorithm: flat\n",
            "        distance_metric: cosine\n",
            "```"
         ]
      },
      {
         "cell_type": "code",
         "execution_count": 15,
         "metadata": {},
         "outputs": [],
         "source": [
            "from redisvl.index import SearchIndex\n",
            "\n",
            "# construct a search index from the schema\n",
            "index = SearchIndex.from_yaml(\"./schema.yaml\")\n",
            "\n",
            "# connect to local redis instance\n",
            "index.connect(\"redis://localhost:6379\")\n",
            "\n",
            "# create the index (no data yet)\n",
            "index.create(overwrite=True)"
         ]
      },
      {
         "cell_type": "code",
         "execution_count": null,
         "metadata": {},
         "outputs": [],
         "source": [
            "# use the CLI to see the created index\n",
            "!rvl index listall"
         ]
      },
      {
         "cell_type": "markdown",
         "metadata": {},
         "source": [
            "Loading data to RedisVL is easy. It expects a list of dictionaries. The vector is stored as bytes."
         ]
      },
      {
         "cell_type": "code",
         "execution_count": 17,
         "metadata": {},
         "outputs": [],
         "source": [
            "from redisvl.redis.utils import array_to_buffer\n",
            "\n",
            "embeddings = hf.embed_many(sentences)\n",
            "\n",
            "data = [{\"text\": t,\n",
            "         \"embedding\": array_to_buffer(v, dtype=\"float32\")}\n",
            "        for t, v in zip(sentences, embeddings)]\n",
            "\n",
            "index.load(data)"
         ]
      },
      {
         "cell_type": "code",
         "execution_count": null,
         "metadata": {},
         "outputs": [],
         "source": [
            "from redisvl.query import VectorQuery\n",
            "\n",
            "# use the HuggingFace vectorizer again to create a query embedding\n",
            "query_embedding = hf.embed(\"That is a happy cat\")\n",
            "\n",
            "query = VectorQuery(\n",
            "    vector=query_embedding,\n",
            "    vector_field_name=\"embedding\",\n",
            "    return_fields=[\"text\"],\n",
            "    num_results=3\n",
            ")\n",
            "\n",
            "results = index.query(query)\n",
            "for doc in results:\n",
            "    print(doc[\"text\"], doc[\"vector_distance\"])"
         ]
      },
      {
         "cell_type": "markdown",
         "metadata": {},
         "source": [
            "## Selecting your float data type\n",
            "When embedding text as byte arrays RedisVL supports 4 different floating point data types, `float16`, `float32`, `float64` and `bfloat16`, and 2 integer types, `int8` and `uint8`.\n",
            "Your dtype set for your vectorizer must match what is defined in your search index. If one is not explicitly set the default is `float32`."
         ]
      },
      {
         "cell_type": "code",
         "execution_count": null,
         "metadata": {},
         "outputs": [],
         "source": [
            "vectorizer = HFTextVectorizer(dtype=\"float16\")\n",
            "\n",
            "# subsequent calls to embed('', as_buffer=True) and embed_many('', as_buffer=True) will now encode as float16\n",
            "float16_bytes = vectorizer.embed('test sentence', as_buffer=True)\n",
            "\n",
            "# to generate embeddings with different dtype instantiate a new vectorizer\n",
            "vectorizer_64 = HFTextVectorizer(dtype='float64')\n",
            "float64_bytes = vectorizer_64.embed('test sentence', as_buffer=True)\n",
            "\n",
            "float16_bytes != float64_bytes"
         ]
      },
      {
         "cell_type": "code",
         "execution_count": 20,
         "metadata": {},
         "outputs": [],
         "source": [
            "# cleanup\n",
            "index.delete()"
         ]
      }
   ],
   "metadata": {
      "kernelspec": {
         "display_name": "Python 3",
         "language": "python",
         "name": "python3"
      },
      "language_info": {
         "codemirror_mode": {
            "name": "ipython",
            "version": 3
         },
         "file_extension": ".py",
         "mimetype": "text/x-python",
         "name": "python",
         "nbconvert_exporter": "python",
         "pygments_lexer": "ipython3",
         "version": "3.11.9"
      },
      "orig_nbformat": 4
   },
   "nbformat": 4,
   "nbformat_minor": 2
}
