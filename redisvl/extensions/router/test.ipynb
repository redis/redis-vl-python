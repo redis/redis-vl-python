{
 "cells": [
  {
   "cell_type": "code",
   "execution_count": 1,
   "metadata": {},
   "outputs": [],
   "source": [
    "from redisvl.extensions.router.routes import Route, RoutingConfig"
   ]
  },
  {
   "cell_type": "code",
   "execution_count": 2,
   "metadata": {},
   "outputs": [],
   "source": [
    "from redisvl.extensions.router.routes import Route\n",
    "\n",
    "# Define individual routes manually with metadata\n",
    "politics = Route(\n",
    "    name=\"politics\",\n",
    "    references=[\n",
    "        \"isn't politics the best thing ever\",\n",
    "        \"why don't you tell me about your political opinions\"\n",
    "    ],\n",
    "    metadata={\"priority\": 1}\n",
    ")\n",
    "\n",
    "chitchat = Route(\n",
    "    name=\"chitchat\",\n",
    "    references=[\n",
    "        \"hello\",\n",
    "        \"how's the weather today?\",\n",
    "        \"how are things going?\"\n",
    "    ],\n",
    "    metadata={\"priority\": 2}\n",
    ")"
   ]
  },
  {
   "cell_type": "code",
   "execution_count": 3,
   "metadata": {},
   "outputs": [],
   "source": [
    "routes = [politics, chitchat]"
   ]
  },
  {
   "cell_type": "code",
   "execution_count": 4,
   "metadata": {},
   "outputs": [],
   "source": [
    "config = RoutingConfig(max_k=2, distance_threshold=1.0, accumulation_method=\"avg\")"
   ]
  },
  {
   "cell_type": "code",
   "execution_count": 5,
   "metadata": {},
   "outputs": [
    {
     "name": "stdout",
     "output_type": "stream",
     "text": [
      "13:38:58 redisvl.index.index INFO   Index already exists, overwriting.\n"
     ]
    }
   ],
   "source": [
    "import redis\n",
    "from redisvl.extensions.router.semantic import SemanticRouter\n",
    "\n",
    "# Create SemanticRouter named \"topic-router\"\n",
    "redis_client = redis.Redis()\n",
    "routes = [politics, chitchat]\n",
    "topic_router = SemanticRouter(\n",
    "    name=\"topic-router\",\n",
    "    routes=routes,\n",
    "    routing_config=config,\n",
    "    redis_client=redis_client,\n",
    "    overwrite=True\n",
    ")"
   ]
  },
  {
   "cell_type": "code",
   "execution_count": 6,
   "metadata": {},
   "outputs": [
    {
     "data": {
      "text/plain": [
       "[{'name': 'chitchat',\n",
       "  'references': ['hello', \"how's the weather today?\", 'how are things going?'],\n",
       "  'metadata': {'priority': '2'},\n",
       "  'score': '0.0641258955002',\n",
       "  'avg_score': '0.0481971502304'},\n",
       " {'name': 'politics',\n",
       "  'references': [\"isn't politics the best thing ever\",\n",
       "   \"why don't you tell me about your political opinions\"],\n",
       "  'metadata': {'priority': '1'},\n",
       "  'score': '0.298070549965',\n",
       "  'avg_score': '0.207850039005'}]"
      ]
     },
     "execution_count": 6,
     "metadata": {},
     "output_type": "execute_result"
    }
   ],
   "source": [
    "topic_router(\"I am thinking about running for Governor in the state of VA. What do I need to consider?\")"
   ]
  },
  {
   "cell_type": "code",
   "execution_count": 7,
   "metadata": {},
   "outputs": [
    {
     "data": {
      "text/plain": [
       "[{'name': 'chitchat',\n",
       "  'references': ['hello', \"how's the weather today?\", 'how are things going?'],\n",
       "  'metadata': {'priority': '2'},\n",
       "  'score': '0.12840616703',\n",
       "  'avg_score': '0.112765411536'},\n",
       " {'name': 'politics',\n",
       "  'references': [\"isn't politics the best thing ever\",\n",
       "   \"why don't you tell me about your political opinions\"],\n",
       "  'metadata': {'priority': '1'},\n",
       "  'score': '0.764727830887',\n",
       "  'avg_score': '0.617416262627'}]"
      ]
     },
     "execution_count": 7,
     "metadata": {},
     "output_type": "execute_result"
    }
   ],
   "source": [
    "topic_router(\"don't you love politics?\")"
   ]
  },
  {
   "cell_type": "code",
   "execution_count": 8,
   "metadata": {},
   "outputs": [
    {
     "data": {
      "text/plain": [
       "[{'name': 'chitchat',\n",
       "  'references': ['hello', \"how's the weather today?\", 'how are things going?'],\n",
       "  'metadata': {'priority': '2'},\n",
       "  'score': '0.54086458683',\n",
       "  'avg_score': '0.464291175207'},\n",
       " {'name': 'politics',\n",
       "  'references': [\"isn't politics the best thing ever\",\n",
       "   \"why don't you tell me about your political opinions\"],\n",
       "  'metadata': {'priority': '1'},\n",
       "  'score': '0.156601548195',\n",
       "  'avg_score': '0.121711879969'}]"
      ]
     },
     "execution_count": 8,
     "metadata": {},
     "output_type": "execute_result"
    }
   ],
   "source": [
    "topic_router(\"how are you\")"
   ]
  },
  {
   "cell_type": "markdown",
   "metadata": {},
   "source": [
    "Need to work on a way to properly handle the \"sum\" strategy... Adding route references by vector distance when 0 is \"more similar\" means we would have to flip polarity in order to capture the right signal.\n",
    "\n",
    "Avg is a safer strategy in general.. but assumes that the variance in the amount of references per route is not too high."
   ]
  },
  {
   "cell_type": "code",
   "execution_count": 9,
   "metadata": {},
   "outputs": [],
   "source": [
    "config = RoutingConfig(distance_threshold=0.1, accumulation_method=\"avg\")\n",
    "\n",
    "topic_router.update_routing_config(config)"
   ]
  },
  {
   "cell_type": "code",
   "execution_count": 10,
   "metadata": {},
   "outputs": [
    {
     "data": {
      "text/plain": [
       "[{'name': 'chitchat',\n",
       "  'references': ['hello', \"how's the weather today?\", 'how are things going?'],\n",
       "  'metadata': {'priority': '2'},\n",
       "  'score': '0.756013274193',\n",
       "  'avg_score': '0.423087894917'},\n",
       " {'name': 'politics',\n",
       "  'references': [\"isn't politics the best thing ever\",\n",
       "   \"why don't you tell me about your political opinions\"],\n",
       "  'metadata': {'priority': '1'},\n",
       "  'score': '0.175542235374',\n",
       "  'avg_score': '0.138914197683'}]"
      ]
     },
     "execution_count": 10,
     "metadata": {},
     "output_type": "execute_result"
    }
   ],
   "source": [
    "# distance threshold is too low\n",
    "topic_router(\"hello world\")"
   ]
  },
  {
   "cell_type": "code",
   "execution_count": 11,
   "metadata": {},
   "outputs": [
    {
     "data": {
      "text/plain": [
       "[{'name': 'chitchat',\n",
       "  'references': ['hello', \"how's the weather today?\", 'how are things going?'],\n",
       "  'metadata': {'priority': '2'},\n",
       "  'score': '0.756013274193',\n",
       "  'avg_score': '0.423087894917'},\n",
       " {'name': 'politics',\n",
       "  'references': [\"isn't politics the best thing ever\",\n",
       "   \"why don't you tell me about your political opinions\"],\n",
       "  'metadata': {'priority': '1'},\n",
       "  'score': '0.175542235374',\n",
       "  'avg_score': '0.138914197683'}]"
      ]
     },
     "execution_count": 11,
     "metadata": {},
     "output_type": "execute_result"
    }
   ],
   "source": [
    "topic_router(\"hello world\", distance_threshold=0.3)"
   ]
  },
  {
   "cell_type": "code",
   "execution_count": null,
   "metadata": {},
   "outputs": [],
   "source": []
  }
 ],
 "metadata": {
  "kernelspec": {
   "display_name": "redisvl--BNYQ9Uk-py3.10",
   "language": "python",
   "name": "python3"
  },
  "language_info": {
   "codemirror_mode": {
    "name": "ipython",
    "version": 3
   },
   "file_extension": ".py",
   "mimetype": "text/x-python",
   "name": "python",
   "nbconvert_exporter": "python",
   "pygments_lexer": "ipython3",
   "version": "3.10.14"
  }
 },
 "nbformat": 4,
 "nbformat_minor": 2
}
