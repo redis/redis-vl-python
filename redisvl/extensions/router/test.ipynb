{
 "cells": [
  {
   "cell_type": "code",
   "execution_count": 1,
   "metadata": {},
   "outputs": [],
   "source": [
    "from redisvl.extensions.router.routes import Route, RoutingConfig"
   ]
  },
  {
   "cell_type": "code",
   "execution_count": 2,
   "metadata": {},
   "outputs": [],
   "source": [
    "# Define individual routes manually with metadata\n",
    "politics = Route(\n",
    "    name=\"politics\",\n",
    "    references=[\n",
    "        \"isn't politics the best thing ever\",\n",
    "        \"why don't you tell me about your political opinions\"\n",
    "    ],\n",
    "    metadata={\"priority\": 1}\n",
    ")\n",
    "\n",
    "chitchat = Route(\n",
    "    name=\"chitchat\",\n",
    "    references=[\n",
    "        \"hello\",\n",
    "        \"how's the weather today?\",\n",
    "        \"how are things going?\"\n",
    "    ],\n",
    "    metadata={\"priority\": 2}\n",
    ")"
   ]
  },
  {
   "cell_type": "code",
   "execution_count": 3,
   "metadata": {},
   "outputs": [],
   "source": [
    "routes = [politics, chitchat]"
   ]
  },
  {
   "cell_type": "code",
   "execution_count": 4,
   "metadata": {},
   "outputs": [],
   "source": [
    "config = RoutingConfig(max_k=2, distance_threshold=1.0, accumulation_method=\"avg\")"
   ]
  },
  {
   "cell_type": "code",
   "execution_count": 5,
   "metadata": {},
   "outputs": [
    {
     "name": "stdout",
     "output_type": "stream",
     "text": [
      "23:37:26 redisvl.index.index INFO   Index already exists, overwriting.\n"
     ]
    }
   ],
   "source": [
    "from redisvl.extensions.router.semantic import SemanticRouter\n",
    "import redis\n",
    "\n",
    "# Create SemanticRouter named \"topic-router\"\n",
    "redis_client = redis.Redis()\n",
    "routes = [politics, chitchat]\n",
    "topic_router = SemanticRouter(\n",
    "    name=\"topic-router\",\n",
    "    routes=routes,\n",
    "    routing_config=config,\n",
    "    redis_client=redis_client,\n",
    "    overwrite=True\n",
    ")"
   ]
  },
  {
   "cell_type": "code",
   "execution_count": 7,
   "metadata": {},
   "outputs": [],
   "source": [
    "assert topic_router.routes == routes\n",
    "assert topic_router.name == \"topic-router\"\n",
    "assert topic_router.name == topic_router._index.name == topic_router._index.prefix\n",
    "assert topic_router.routing_config == config"
   ]
  },
  {
   "cell_type": "code",
   "execution_count": 8,
   "metadata": {},
   "outputs": [
    {
     "data": {
      "text/plain": [
       "[{'name': 'politics',\n",
       "  'references': [\"isn't politics the best thing ever\",\n",
       "   \"why don't you tell me about your political opinions\"],\n",
       "  'metadata': {'priority': '1'},\n",
       "  'score': 0.3825837373735},\n",
       " {'name': 'chitchat',\n",
       "  'references': ['hello', \"how's the weather today?\", 'how are things going?'],\n",
       "  'metadata': {'priority': '2'},\n",
       "  'score': 0.8872345884643332}]"
      ]
     },
     "execution_count": 8,
     "metadata": {},
     "output_type": "execute_result"
    }
   ],
   "source": [
    "# Query topic-router with behavior based on the config\n",
    "topic_router(\"don't you love politics?\")"
   ]
  },
  {
   "cell_type": "code",
   "execution_count": 9,
   "metadata": {},
   "outputs": [
    {
     "data": {
      "text/plain": [
       "[{'name': 'chitchat',\n",
       "  'references': ['hello', \"how's the weather today?\", 'how are things going?'],\n",
       "  'metadata': {'priority': '2'},\n",
       "  'score': 0.5357088247936667},\n",
       " {'name': 'politics',\n",
       "  'references': [\"isn't politics the best thing ever\",\n",
       "   \"why don't you tell me about your political opinions\"],\n",
       "  'metadata': {'priority': '1'},\n",
       "  'score': 0.8782881200315}]"
      ]
     },
     "execution_count": 9,
     "metadata": {},
     "output_type": "execute_result"
    }
   ],
   "source": [
    "topic_router(\"how are you\")"
   ]
  },
  {
   "cell_type": "markdown",
   "metadata": {},
   "source": [
    "Need to work on a way to properly handle the \"sum\" strategy... Adding route references by vector distance when 0 is \"more similar\" means we would have to flip polarity in order to capture the right signal.\n",
    "\n",
    "Avg is a safer strategy in general.. but assumes that the variance in the amount of references per route is not too high."
   ]
  },
  {
   "cell_type": "code",
   "execution_count": 13,
   "metadata": {},
   "outputs": [],
   "source": [
    "config = RoutingConfig(distance_threshold=0.1, accumulation_method=\"avg\")\n",
    "\n",
    "topic_router.update_routing_config(config)"
   ]
  },
  {
   "cell_type": "code",
   "execution_count": 14,
   "metadata": {},
   "outputs": [
    {
     "data": {
      "text/plain": [
       "[]"
      ]
     },
     "execution_count": 14,
     "metadata": {},
     "output_type": "execute_result"
    }
   ],
   "source": [
    "# distance threshold is too low\n",
    "topic_router(\"hello world\")"
   ]
  },
  {
   "cell_type": "code",
   "execution_count": 15,
   "metadata": {},
   "outputs": [
    {
     "data": {
      "text/plain": [
       "[{'name': 'chitchat',\n",
       "  'references': ['hello', \"how's the weather today?\", 'how are things going?'],\n",
       "  'metadata': {'priority': '2'},\n",
       "  'score': 0.243986725807}]"
      ]
     },
     "execution_count": 15,
     "metadata": {},
     "output_type": "execute_result"
    }
   ],
   "source": [
    "topic_router(\"hello world\", distance_threshold=0.3)"
   ]
  },
  {
   "cell_type": "code",
   "execution_count": null,
   "metadata": {},
   "outputs": [],
   "source": []
  }
 ],
 "metadata": {
  "kernelspec": {
   "display_name": "redisvl--BNYQ9Uk-py3.10",
   "language": "python",
   "name": "python3"
  },
  "language_info": {
   "codemirror_mode": {
    "name": "ipython",
    "version": 3
   },
   "file_extension": ".py",
   "mimetype": "text/x-python",
   "name": "python",
   "nbconvert_exporter": "python",
   "pygments_lexer": "ipython3",
   "version": "3.10.14"
  }
 },
 "nbformat": 4,
 "nbformat_minor": 2
}
