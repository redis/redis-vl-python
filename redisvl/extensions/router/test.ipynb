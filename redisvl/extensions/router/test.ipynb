{
 "cells": [
  {
   "cell_type": "code",
   "execution_count": 1,
   "metadata": {},
   "outputs": [],
   "source": [
    "from redisvl.extensions.router.routes import Route, RoutingConfig"
   ]
  },
  {
   "cell_type": "code",
   "execution_count": 2,
   "metadata": {},
   "outputs": [],
   "source": [
    "# Define individual routes manually with metadata\n",
    "politics = Route(\n",
    "    name=\"politics\",\n",
    "    references=[\n",
    "        \"isn't politics the best thing ever\",\n",
    "        \"why don't you tell me about your political opinions\"\n",
    "    ],\n",
    "    metadata={\"priority\": 1}\n",
    ")\n",
    "\n",
    "chitchat = Route(\n",
    "    name=\"chitchat\",\n",
    "    references=[\n",
    "        \"hello\",\n",
    "        \"how's the weather today?\",\n",
    "        \"how are things going?\"\n",
    "    ],\n",
    "    metadata={\"priority\": 2}\n",
    ")"
   ]
  },
  {
   "cell_type": "code",
   "execution_count": 3,
   "metadata": {},
   "outputs": [],
   "source": [
    "routes = [politics, chitchat]"
   ]
  },
  {
   "cell_type": "code",
   "execution_count": 4,
   "metadata": {},
   "outputs": [],
   "source": [
    "config = RoutingConfig(top_k=5, distance_threshold=0.5)"
   ]
  },
  {
   "cell_type": "code",
   "execution_count": 5,
   "metadata": {},
   "outputs": [
    {
     "name": "stdout",
     "output_type": "stream",
     "text": [
      "22:39:55 redisvl.index.index INFO   Index already exists, not overwriting.\n"
     ]
    }
   ],
   "source": [
    "from redisvl.extensions.router.semantic import SemanticRouter\n",
    "import redis\n",
    "\n",
    "# Create SemanticRouter named \"topic-router\"\n",
    "redis_client = redis.Redis()\n",
    "routes = [politics, chitchat]\n",
    "topic_router = SemanticRouter(\n",
    "    name=\"topic-router\",\n",
    "    routes=routes,\n",
    "    routing_config=config,\n",
    "    redis_client=redis_client\n",
    ")"
   ]
  },
  {
   "cell_type": "code",
   "execution_count": 6,
   "metadata": {},
   "outputs": [],
   "source": [
    "# Query topic-router with default behavior based on the config\n",
    "result = topic_router(\"don't you love politics?\")"
   ]
  },
  {
   "cell_type": "code",
   "execution_count": 7,
   "metadata": {},
   "outputs": [],
   "source": [
    "assert topic_router.routes == routes\n",
    "assert topic_router.name == \"topic-router\"\n",
    "assert topic_router.name == topic_router._index.name == topic_router._index.prefix\n",
    "assert topic_router.routing_config == config"
   ]
  },
  {
   "cell_type": "code",
   "execution_count": 8,
   "metadata": {},
   "outputs": [
    {
     "data": {
      "text/plain": [
       "5"
      ]
     },
     "execution_count": 8,
     "metadata": {},
     "output_type": "execute_result"
    }
   ],
   "source": [
    "config.top_k"
   ]
  },
  {
   "cell_type": "code",
   "execution_count": 10,
   "metadata": {},
   "outputs": [
    {
     "data": {
      "text/plain": [
       "[{'id': 'topic-router:chitchat:186465374219e387c415753e03e45813d5d6d1291d7d4cd78107b2d8528817b5',\n",
       "  'vector_distance': '0.45913541317',\n",
       "  'route_name': 'chitchat',\n",
       "  'reference': 'how are things going?'}]"
      ]
     },
     "execution_count": 10,
     "metadata": {},
     "output_type": "execute_result"
    }
   ],
   "source": [
    "topic_router(\"how are you\")"
   ]
  }
 ],
 "metadata": {
  "kernelspec": {
   "display_name": "redisvl--BNYQ9Uk-py3.10",
   "language": "python",
   "name": "python3"
  },
  "language_info": {
   "codemirror_mode": {
    "name": "ipython",
    "version": 3
   },
   "file_extension": ".py",
   "mimetype": "text/x-python",
   "name": "python",
   "nbconvert_exporter": "python",
   "pygments_lexer": "ipython3",
   "version": "3.10.14"
  }
 },
 "nbformat": 4,
 "nbformat_minor": 2
}
